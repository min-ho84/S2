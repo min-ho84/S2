{
  "cells": [
    {
      "cell_type": "markdown",
      "metadata": {
        "id": "JS9pNsfwMAl6"
      },
      "source": [
        "# 함수 사용\n",
        "\n",
        "- 데이터에 적용되는 다양한 함수 사용법을 다룬다\n",
        "- def, lambda, map, apply"
      ]
    },
    {
      "cell_type": "markdown",
      "metadata": {
        "id": "dXjR8gwmMAl8"
      },
      "source": [
        "## import"
      ]
    },
    {
      "cell_type": "code",
      "execution_count": null,
      "metadata": {
        "id": "R4r_tc54MAl8"
      },
      "outputs": [],
      "source": [
        "import pandas as pd\n",
        "import numpy as np"
      ]
    },
    {
      "cell_type": "markdown",
      "metadata": {
        "id": "StDMU_OwMAl9"
      },
      "source": [
        "# def \n",
        "- 반복 사용되는 작업은 함수로 만들어 두면 편리하게 다시 사용할 수 있다\n",
        "- 함수를 정의할 때 def를 사용한다\n",
        "- 함수를 호출할 때 인자를 넘겨줄 수 있다\n",
        "- 함수 실행 결과로 어떤 값을 받으려면 return 문을 사용한다"
      ]
    },
    {
      "cell_type": "markdown",
      "metadata": {
        "id": "BBK9AptRMAl9"
      },
      "source": [
        "## 리턴 값 정의\n",
        "- return을 사용하며, 임의의 형태의 묶음 데이터도 리턴할 수 있다"
      ]
    },
    {
      "cell_type": "markdown",
      "metadata": {
        "id": "kqaQLqXwMAl-"
      },
      "source": [
        "## 인자"
      ]
    },
    {
      "cell_type": "code",
      "execution_count": null,
      "metadata": {
        "id": "K06TelMjMAl-",
        "outputId": "01e7a88b-b68e-4dc7-add3-a4e69fa48370"
      },
      "outputs": [
        {
          "data": {
            "text/plain": [
              "10"
            ]
          },
          "execution_count": 2,
          "metadata": {},
          "output_type": "execute_result"
        }
      ],
      "source": [
        "## 인자로 받은 값의 두 배를 리턴하는 함수 정의\n",
        "\n",
        "def double(x):\n",
        "    return x*2\n",
        "\n",
        "double(5)"
      ]
    },
    {
      "cell_type": "code",
      "execution_count": null,
      "metadata": {
        "id": "IJXqyNIAMAl-",
        "outputId": "94e2eed5-13f5-4fc4-f26c-d2c548178fde"
      },
      "outputs": [
        {
          "data": {
            "text/plain": [
              "(123, 6)"
            ]
          },
          "execution_count": 3,
          "metadata": {},
          "output_type": "execute_result"
        }
      ],
      "source": [
        "## 인자와 리턴값이 둘 이상인 함수 정의\n",
        "\n",
        "def f_1(a,b,c): \n",
        "    return a*100 + b*10 + c, a+b+c\n",
        "\n",
        "x, y = f_1(1, 2, 3)\n",
        "x, y"
      ]
    },
    {
      "cell_type": "markdown",
      "metadata": {
        "id": "5A7aziIxMAl_"
      },
      "source": [
        "### 디폴트 값이 일부만 지정된 경우\n",
        "- 주의: 디폴트 값이 없는 인자는 앞에 배치해야 한다\n",
        "- 디폴트 값이 없는 인자는 필수 입력 인자임"
      ]
    },
    {
      "cell_type": "code",
      "execution_count": null,
      "metadata": {
        "id": "WqIRY9mlMAl_",
        "outputId": "9f034ef1-e067-4639-da4e-aa327b809ebf"
      },
      "outputs": [
        {
          "name": "stdout",
          "output_type": "stream",
          "text": [
            "123\n",
            "583\n",
            "369\n",
            "924\n"
          ]
        }
      ],
      "source": [
        "## 일부 인자에 디폴트 값을 지정하는 함수 정의\n",
        "\n",
        "def f_2(a,b=2,c=3): \n",
        "    return a*100 + b*10 + c\n",
        "\n",
        "print(f_2(1))      # 123, 반드시 하나 이상의 인자가 필요하며 a로 사용된다\n",
        "print(f_2(5,8))    # 383, 앞에서부터 차례로 a,b로 사용된다\n",
        "print(f_2(3,6,9))  # 369, 앞에서부터 차례로 a,b,c로 사용된다\n",
        "print(f_2(c=4,a=9))# 924, 순서에 관계없이 인자를 지정할 수 있다\n",
        "                   # 인자 a는 필수로 지정해야 한다"
      ]
    },
    {
      "cell_type": "markdown",
      "metadata": {
        "id": "rceKy2ecMAmA"
      },
      "source": [
        "# 편리한 함수 사용법\n",
        "\n",
        "- lambda, map, apply"
      ]
    },
    {
      "cell_type": "markdown",
      "metadata": {
        "id": "ixvBsVpvMAmA"
      },
      "source": [
        "## lambda, 익명 함수 정의\n",
        "- def, return을 사용하지 않고 간단히 함수를 정의할 수 있다"
      ]
    },
    {
      "cell_type": "code",
      "execution_count": null,
      "metadata": {
        "id": "mbMXOs4GMAmA",
        "outputId": "c484565f-723f-490d-9f4b-b1d0911f5a54"
      },
      "outputs": [
        {
          "data": {
            "text/plain": [
              "40"
            ]
          },
          "execution_count": 5,
          "metadata": {},
          "output_type": "execute_result"
        }
      ],
      "source": [
        "## def, return을 사용하지 않는 간단한 함수 정의법\n",
        "\n",
        "my_f = lambda x: x*10\n",
        "\n",
        "my_f(4)"
      ]
    },
    {
      "cell_type": "markdown",
      "metadata": {
        "id": "m3e4F3u2MAmB"
      },
      "source": [
        "## map, 리스트에 함수 적용하기\n",
        "\n",
        "- map의 첫번째 인자에는 함수를, 두번째 인자에는 데이터를 넣는다\n",
        "- 리스트 외에도 튜플, 배열에 대해서도 사용할 수 있다\n",
        "- 별도로 함수를 정의하지 않고 lambda를 사용하여 함수 내용만 정의할 수 있다"
      ]
    },
    {
      "cell_type": "code",
      "execution_count": null,
      "metadata": {
        "id": "kOdmPLxFMAmB",
        "outputId": "1ebcc126-ff94-439e-bb6a-99a0f38f164d"
      },
      "outputs": [
        {
          "data": {
            "text/plain": [
              "[10, 20, 30, 40]"
            ]
          },
          "execution_count": 6,
          "metadata": {},
          "output_type": "execute_result"
        }
      ],
      "source": [
        "## 이미 정의된 함수명 my_f를 map()에 사용하는 예\n",
        "\n",
        "data = [1,2,3,4]\n",
        "y = list(map(my_f, data))\n",
        "y"
      ]
    },
    {
      "cell_type": "code",
      "execution_count": null,
      "metadata": {
        "id": "qRPi5jmaMAmC",
        "outputId": "2e314892-1179-4212-ef53-0657ee6a1e62"
      },
      "outputs": [
        {
          "data": {
            "text/plain": [
              "[10, 20, 30, 40]"
            ]
          },
          "execution_count": 7,
          "metadata": {},
          "output_type": "execute_result"
        }
      ],
      "source": [
        "# lambda를 사용하는 방법 (익명 함수)\n",
        "list(map(lambda i: i*10, data))"
      ]
    },
    {
      "cell_type": "markdown",
      "metadata": {
        "id": "UHGxViazMAmC"
      },
      "source": [
        "## apply, 시리즈나 데이터프레임에 함수 적용\n",
        "\n",
        "- apply는 리스트, 튜플, 배열에는 사용할 수 없다"
      ]
    },
    {
      "cell_type": "code",
      "execution_count": null,
      "metadata": {
        "scrolled": true,
        "id": "lGJ0tJPeMAmC",
        "outputId": "16609273-3463-4ff5-b01e-68e1b7f0514f"
      },
      "outputs": [
        {
          "data": {
            "text/html": [
              "<div>\n",
              "<style scoped>\n",
              "    .dataframe tbody tr th:only-of-type {\n",
              "        vertical-align: middle;\n",
              "    }\n",
              "\n",
              "    .dataframe tbody tr th {\n",
              "        vertical-align: top;\n",
              "    }\n",
              "\n",
              "    .dataframe thead th {\n",
              "        text-align: right;\n",
              "    }\n",
              "</style>\n",
              "<table border=\"1\" class=\"dataframe\">\n",
              "  <thead>\n",
              "    <tr style=\"text-align: right;\">\n",
              "      <th></th>\n",
              "      <th>city</th>\n",
              "      <th>population</th>\n",
              "      <th>temp</th>\n",
              "      <th>cars</th>\n",
              "    </tr>\n",
              "  </thead>\n",
              "  <tbody>\n",
              "    <tr>\n",
              "      <th>0</th>\n",
              "      <td>서울</td>\n",
              "      <td>990</td>\n",
              "      <td>13</td>\n",
              "      <td>300</td>\n",
              "    </tr>\n",
              "    <tr>\n",
              "      <th>1</th>\n",
              "      <td>부산</td>\n",
              "      <td>350</td>\n",
              "      <td>16</td>\n",
              "      <td>120</td>\n",
              "    </tr>\n",
              "    <tr>\n",
              "      <th>2</th>\n",
              "      <td>대구</td>\n",
              "      <td>250</td>\n",
              "      <td>14</td>\n",
              "      <td>80</td>\n",
              "    </tr>\n",
              "    <tr>\n",
              "      <th>3</th>\n",
              "      <td>대전</td>\n",
              "      <td>154</td>\n",
              "      <td>13</td>\n",
              "      <td>90</td>\n",
              "    </tr>\n",
              "    <tr>\n",
              "      <th>4</th>\n",
              "      <td>광주</td>\n",
              "      <td>150</td>\n",
              "      <td>15</td>\n",
              "      <td>70</td>\n",
              "    </tr>\n",
              "  </tbody>\n",
              "</table>\n",
              "</div>"
            ],
            "text/plain": [
              "  city  population  temp  cars\n",
              "0   서울         990    13   300\n",
              "1   부산         350    16   120\n",
              "2   대구         250    14    80\n",
              "3   대전         154    13    90\n",
              "4   광주         150    15    70"
            ]
          },
          "execution_count": 8,
          "metadata": {},
          "output_type": "execute_result"
        }
      ],
      "source": [
        "## 데이터프레임 생성\n",
        "\n",
        "x = {'city': ['서울', '부산', '대구', '대전', '광주'],\n",
        "     'population': [990, 350, 250, 154, 150],\n",
        "     'temp': [13, 16, 14, 13, 15],\n",
        "     'cars': [300, 120, 80, 90, 70]}\n",
        "\n",
        "df = pd.DataFrame(x)\n",
        "df"
      ]
    },
    {
      "cell_type": "code",
      "execution_count": null,
      "metadata": {
        "id": "cf5dZrlwMAmC",
        "outputId": "7d1a4586-7c57-4b93-ba7c-b96fb360e02a"
      },
      "outputs": [
        {
          "data": {
            "text/plain": [
              "population    378.8\n",
              "temp           14.2\n",
              "dtype: float64"
            ]
          },
          "execution_count": 9,
          "metadata": {},
          "output_type": "execute_result"
        }
      ],
      "source": [
        "## 데이터프레임(시리즈)의 평균값 구하기\n",
        "\n",
        "df[[\"population\",\"temp\"]].apply(lambda x: x.mean())"
      ]
    }
  ],
  "metadata": {
    "kernelspec": {
      "display_name": "Python 3",
      "language": "python",
      "name": "python3"
    },
    "language_info": {
      "codemirror_mode": {
        "name": "ipython",
        "version": 3
      },
      "file_extension": ".py",
      "mimetype": "text/x-python",
      "name": "python",
      "nbconvert_exporter": "python",
      "pygments_lexer": "ipython3",
      "version": "3.8.8"
    },
    "toc": {
      "base_numbering": 1,
      "nav_menu": {},
      "number_sections": false,
      "sideBar": true,
      "skip_h1_title": false,
      "title_cell": "Table of Contents",
      "title_sidebar": "Contents",
      "toc_cell": false,
      "toc_position": {
        "height": "calc(100% - 180px)",
        "left": "10px",
        "top": "150px",
        "width": "209.65px"
      },
      "toc_section_display": true,
      "toc_window_display": true
    },
    "colab": {
      "provenance": []
    }
  },
  "nbformat": 4,
  "nbformat_minor": 0
}