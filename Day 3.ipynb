{
 "cells": [
  {
   "cell_type": "code",
   "execution_count": null,
   "id": "01626dfc",
   "metadata": {},
   "outputs": [],
   "source": [
    "import numpy as np"
   ]
  },
  {
   "cell_type": "code",
   "execution_count": null,
   "id": "abb5426c",
   "metadata": {},
   "outputs": [],
   "source": [
    "a = [1, 2.0, '3']\n",
    "a"
   ]
  },
  {
   "cell_type": "code",
   "execution_count": null,
   "id": "29e179fe",
   "metadata": {},
   "outputs": [],
   "source": [
    "ar1 = np.array(object = a)\n",
    "ar1"
   ]
  },
  {
   "cell_type": "code",
   "execution_count": null,
   "id": "3980cd69",
   "metadata": {},
   "outputs": [],
   "source": [
    "type(ar1)"
   ]
  },
  {
   "cell_type": "code",
   "execution_count": null,
   "id": "f8ad60c5",
   "metadata": {},
   "outputs": [],
   "source": [
    "ar1.shape"
   ]
  },
  {
   "cell_type": "code",
   "execution_count": null,
   "id": "660e99a1",
   "metadata": {},
   "outputs": [],
   "source": [
    "ar1.size"
   ]
  },
  {
   "cell_type": "code",
   "execution_count": null,
   "id": "5255034e",
   "metadata": {},
   "outputs": [],
   "source": [
    "ar1.dtype"
   ]
  },
  {
   "cell_type": "code",
   "execution_count": null,
   "id": "83ba7002",
   "metadata": {},
   "outputs": [],
   "source": [
    "ar1.astype(int)"
   ]
  },
  {
   "cell_type": "code",
   "execution_count": null,
   "id": "44dddd0c",
   "metadata": {},
   "outputs": [],
   "source": [
    "ar1.astype(float)"
   ]
  },
  {
   "cell_type": "code",
   "execution_count": null,
   "id": "2ca9f9d4",
   "metadata": {},
   "outputs": [],
   "source": [
    "ar1.astype(float).astype(int)"
   ]
  },
  {
   "cell_type": "code",
   "execution_count": null,
   "id": "1975fd5a",
   "metadata": {},
   "outputs": [],
   "source": [
    "ar1.astype(float).astype(int).astype(str)"
   ]
  },
  {
   "cell_type": "code",
   "execution_count": null,
   "id": "42017c35",
   "metadata": {
    "scrolled": false
   },
   "outputs": [],
   "source": [
    "ar1.astype(float).astype(int).astype(str).astype(int)"
   ]
  },
  {
   "cell_type": "code",
   "execution_count": null,
   "id": "28bf222e",
   "metadata": {},
   "outputs": [],
   "source": [
    "np.array(object = a, dtype = int)"
   ]
  },
  {
   "cell_type": "code",
   "execution_count": null,
   "id": "9eec575f",
   "metadata": {},
   "outputs": [],
   "source": [
    "np.array(object = a, dtype = float)"
   ]
  },
  {
   "cell_type": "code",
   "execution_count": null,
   "id": "7a2ab0eb",
   "metadata": {},
   "outputs": [],
   "source": [
    "np.array(object = a, dtype = str)"
   ]
  },
  {
   "cell_type": "code",
   "execution_count": null,
   "id": "6c6e2fa2",
   "metadata": {},
   "outputs": [],
   "source": [
    "## 중요해요~\n",
    "np.array(object = a, dtype = object)"
   ]
  },
  {
   "cell_type": "code",
   "execution_count": null,
   "id": "6fb20948",
   "metadata": {},
   "outputs": [],
   "source": [
    "list(range(6))"
   ]
  },
  {
   "cell_type": "code",
   "execution_count": null,
   "id": "7d6ed8b7",
   "metadata": {},
   "outputs": [],
   "source": [
    "list(range(1, 6))"
   ]
  },
  {
   "cell_type": "code",
   "execution_count": null,
   "id": "945a5ce4",
   "metadata": {},
   "outputs": [],
   "source": [
    "list(range(1, 6, 2))"
   ]
  },
  {
   "cell_type": "code",
   "execution_count": null,
   "id": "85f46474",
   "metadata": {},
   "outputs": [],
   "source": [
    "np.arange(6)"
   ]
  },
  {
   "cell_type": "code",
   "execution_count": null,
   "id": "8aaa88aa",
   "metadata": {},
   "outputs": [],
   "source": [
    "np.arange(1, 6)"
   ]
  },
  {
   "cell_type": "code",
   "execution_count": null,
   "id": "391f1178",
   "metadata": {},
   "outputs": [],
   "source": [
    "np.arange(1, 6, 2)"
   ]
  },
  {
   "cell_type": "code",
   "execution_count": null,
   "id": "a78070c9",
   "metadata": {},
   "outputs": [],
   "source": [
    "np.arange(0, 1, 0.1)"
   ]
  },
  {
   "cell_type": "code",
   "execution_count": null,
   "id": "d5e59b50",
   "metadata": {},
   "outputs": [],
   "source": [
    "np.arange(0, 1.1, 0.1)"
   ]
  },
  {
   "cell_type": "code",
   "execution_count": null,
   "id": "e016beb7",
   "metadata": {},
   "outputs": [],
   "source": [
    "np.linspace(0, 1, 10+1)"
   ]
  },
  {
   "cell_type": "code",
   "execution_count": null,
   "id": "1a5435ca",
   "metadata": {},
   "outputs": [],
   "source": [
    "np.linspace(80, 75, 30+1)"
   ]
  },
  {
   "cell_type": "code",
   "execution_count": null,
   "id": "1578228e",
   "metadata": {},
   "outputs": [],
   "source": [
    "np.tile(A = ar1, reps = 2)"
   ]
  },
  {
   "cell_type": "code",
   "execution_count": null,
   "id": "478ecb00",
   "metadata": {},
   "outputs": [],
   "source": [
    "np.repeat(a = ar1, repeats = 2)"
   ]
  },
  {
   "cell_type": "code",
   "execution_count": null,
   "id": "e67d8ee0",
   "metadata": {},
   "outputs": [],
   "source": [
    "ar1 = np.arange(1, 12, 2)\n",
    "ar1"
   ]
  },
  {
   "cell_type": "code",
   "execution_count": null,
   "id": "ec7ca737",
   "metadata": {},
   "outputs": [],
   "source": [
    "ar1[0]"
   ]
  },
  {
   "cell_type": "code",
   "execution_count": null,
   "id": "9738909d",
   "metadata": {
    "scrolled": false
   },
   "outputs": [],
   "source": [
    "type(ar1[0])"
   ]
  },
  {
   "cell_type": "code",
   "execution_count": null,
   "id": "8af304f2",
   "metadata": {
    "scrolled": false
   },
   "outputs": [],
   "source": [
    "ar1[1]"
   ]
  },
  {
   "cell_type": "code",
   "execution_count": null,
   "id": "5e1cc1ca",
   "metadata": {},
   "outputs": [],
   "source": [
    "ar1[-1]"
   ]
  },
  {
   "cell_type": "code",
   "execution_count": null,
   "id": "b33699d8",
   "metadata": {},
   "outputs": [],
   "source": [
    "[i for i in dir(np) if 'int' in i]"
   ]
  },
  {
   "cell_type": "code",
   "execution_count": null,
   "id": "3c75bad7",
   "metadata": {},
   "outputs": [],
   "source": [
    "ar1[:3]"
   ]
  },
  {
   "cell_type": "code",
   "execution_count": null,
   "id": "332c7f2c",
   "metadata": {},
   "outputs": [],
   "source": [
    "ar1[3:]"
   ]
  },
  {
   "cell_type": "code",
   "execution_count": null,
   "id": "d207fdb8",
   "metadata": {},
   "outputs": [],
   "source": [
    "ar1[0:1]"
   ]
  },
  {
   "cell_type": "code",
   "execution_count": null,
   "id": "8c0630e8",
   "metadata": {},
   "outputs": [],
   "source": [
    "ar1[0]"
   ]
  },
  {
   "cell_type": "code",
   "execution_count": null,
   "id": "da7f3534",
   "metadata": {},
   "outputs": [],
   "source": [
    "ar1[[1, 4, 2]]"
   ]
  },
  {
   "cell_type": "code",
   "execution_count": null,
   "id": "d50cb1c7",
   "metadata": {},
   "outputs": [],
   "source": [
    "ar1[[1, 1, 1]]"
   ]
  },
  {
   "cell_type": "code",
   "execution_count": null,
   "id": "7ec92df5",
   "metadata": {},
   "outputs": [],
   "source": [
    "b = [[1, 2, 3], [4, 5, 6]]\n",
    "b"
   ]
  },
  {
   "cell_type": "code",
   "execution_count": null,
   "id": "c8f1c7c5",
   "metadata": {},
   "outputs": [],
   "source": [
    "type(b)"
   ]
  },
  {
   "cell_type": "code",
   "execution_count": null,
   "id": "c8046037",
   "metadata": {},
   "outputs": [],
   "source": [
    "ar2 = np.array(b)"
   ]
  },
  {
   "cell_type": "code",
   "execution_count": null,
   "id": "71534312",
   "metadata": {},
   "outputs": [],
   "source": [
    "ar2"
   ]
  },
  {
   "cell_type": "code",
   "execution_count": null,
   "id": "6288861f",
   "metadata": {},
   "outputs": [],
   "source": [
    "type(ar2)"
   ]
  },
  {
   "cell_type": "code",
   "execution_count": null,
   "id": "5a9e8d3c",
   "metadata": {},
   "outputs": [],
   "source": [
    "ar2.size"
   ]
  },
  {
   "cell_type": "code",
   "execution_count": null,
   "id": "751cd41a",
   "metadata": {},
   "outputs": [],
   "source": [
    "ar2.dtype"
   ]
  },
  {
   "cell_type": "code",
   "execution_count": null,
   "id": "902ed913",
   "metadata": {
    "scrolled": true
   },
   "outputs": [],
   "source": [
    "ar1 = np.arange(12)\n",
    "ar1"
   ]
  },
  {
   "cell_type": "code",
   "execution_count": null,
   "id": "a60ae4de",
   "metadata": {},
   "outputs": [],
   "source": [
    "ar1.reshape(4, 3)"
   ]
  },
  {
   "cell_type": "code",
   "execution_count": null,
   "id": "d385045f",
   "metadata": {},
   "outputs": [],
   "source": [
    "ar1.reshape(4, 3, order = 'F')"
   ]
  },
  {
   "cell_type": "code",
   "execution_count": null,
   "id": "69dab043",
   "metadata": {},
   "outputs": [],
   "source": [
    "ar2 = ar1.reshape(4, -1)\n",
    "ar2"
   ]
  },
  {
   "cell_type": "code",
   "execution_count": null,
   "id": "dd3a01b3",
   "metadata": {},
   "outputs": [],
   "source": [
    "ar2"
   ]
  },
  {
   "cell_type": "code",
   "execution_count": null,
   "id": "0c2b82b2",
   "metadata": {},
   "outputs": [],
   "source": [
    "ar2[0, 0]"
   ]
  },
  {
   "cell_type": "code",
   "execution_count": null,
   "id": "27d3d3f6",
   "metadata": {},
   "outputs": [],
   "source": [
    "ar2[1, 1]"
   ]
  },
  {
   "cell_type": "code",
   "execution_count": null,
   "id": "eaa916e3",
   "metadata": {},
   "outputs": [],
   "source": [
    "ar2[0:2, 0:2]"
   ]
  },
  {
   "cell_type": "code",
   "execution_count": null,
   "id": "fc36faab",
   "metadata": {},
   "outputs": [],
   "source": [
    "ar2"
   ]
  },
  {
   "cell_type": "code",
   "execution_count": null,
   "id": "e16120fe",
   "metadata": {},
   "outputs": [],
   "source": [
    "ar2[:, 1:3]"
   ]
  },
  {
   "cell_type": "code",
   "execution_count": null,
   "id": "80e72461",
   "metadata": {},
   "outputs": [],
   "source": [
    "ar2[:, [2,1]]"
   ]
  },
  {
   "cell_type": "code",
   "execution_count": null,
   "id": "c7e10417",
   "metadata": {},
   "outputs": [],
   "source": [
    "ar1 = np.arange(3)\n",
    "ar1"
   ]
  },
  {
   "cell_type": "code",
   "execution_count": null,
   "id": "4be497d9",
   "metadata": {},
   "outputs": [],
   "source": [
    "ar2 = ar1.reshape(-1, 1)\n",
    "ar2"
   ]
  },
  {
   "cell_type": "code",
   "execution_count": null,
   "id": "9d35ee09",
   "metadata": {},
   "outputs": [],
   "source": [
    "ar1 + 1"
   ]
  },
  {
   "cell_type": "code",
   "execution_count": null,
   "id": "fd4145e1",
   "metadata": {},
   "outputs": [],
   "source": [
    "ar2 * 2"
   ]
  },
  {
   "cell_type": "code",
   "execution_count": null,
   "id": "30f6f696",
   "metadata": {},
   "outputs": [],
   "source": []
  },
  {
   "cell_type": "code",
   "execution_count": null,
   "id": "9b19eea0",
   "metadata": {},
   "outputs": [],
   "source": []
  },
  {
   "cell_type": "code",
   "execution_count": null,
   "id": "1198ac44",
   "metadata": {},
   "outputs": [],
   "source": [
    "import numpy as np\n",
    "import pandas as pd"
   ]
  },
  {
   "cell_type": "code",
   "execution_count": null,
   "id": "02291a59",
   "metadata": {},
   "outputs": [],
   "source": [
    "a = [1, 2.0, '3']"
   ]
  },
  {
   "cell_type": "code",
   "execution_count": null,
   "id": "8b582605",
   "metadata": {},
   "outputs": [],
   "source": [
    "np.array(a)"
   ]
  },
  {
   "cell_type": "code",
   "execution_count": null,
   "id": "383e8a08",
   "metadata": {},
   "outputs": [],
   "source": [
    "sr = pd.Series(a)\n",
    "sr"
   ]
  },
  {
   "cell_type": "code",
   "execution_count": null,
   "id": "acfb6885",
   "metadata": {},
   "outputs": [],
   "source": [
    "type(sr)"
   ]
  },
  {
   "cell_type": "code",
   "execution_count": null,
   "id": "751703fc",
   "metadata": {},
   "outputs": [],
   "source": [
    "sr.shap"
   ]
  },
  {
   "cell_type": "code",
   "execution_count": null,
   "id": "b0d95c36",
   "metadata": {},
   "outputs": [],
   "source": [
    "sr.shape"
   ]
  },
  {
   "cell_type": "code",
   "execution_count": null,
   "id": "f50e7e79",
   "metadata": {},
   "outputs": [],
   "source": [
    "sr.dtype"
   ]
  },
  {
   "cell_type": "code",
   "execution_count": null,
   "id": "5a3460ea",
   "metadata": {},
   "outputs": [],
   "source": [
    "sr.values"
   ]
  },
  {
   "cell_type": "code",
   "execution_count": null,
   "id": "09218694",
   "metadata": {},
   "outputs": [],
   "source": [
    "sr.index"
   ]
  },
  {
   "cell_type": "code",
   "execution_count": null,
   "id": "45648416",
   "metadata": {},
   "outputs": [],
   "source": [
    "sr"
   ]
  },
  {
   "cell_type": "code",
   "execution_count": null,
   "id": "b3e2e426",
   "metadata": {},
   "outputs": [],
   "source": [
    "for i in sr:\n",
    "    print(type(i))"
   ]
  },
  {
   "cell_type": "code",
   "execution_count": null,
   "id": "1814f6fb",
   "metadata": {},
   "outputs": [],
   "source": [
    "sr + 1"
   ]
  },
  {
   "cell_type": "code",
   "execution_count": null,
   "id": "3c36318e",
   "metadata": {},
   "outputs": [],
   "source": [
    "sr + '1'"
   ]
  },
  {
   "cell_type": "code",
   "execution_count": null,
   "id": "1678f1ee",
   "metadata": {},
   "outputs": [],
   "source": [
    "sr.astype(int)"
   ]
  },
  {
   "cell_type": "code",
   "execution_count": null,
   "id": "09416f63",
   "metadata": {},
   "outputs": [],
   "source": [
    "sr.astype(float) + 1"
   ]
  },
  {
   "cell_type": "code",
   "execution_count": null,
   "id": "7975f421",
   "metadata": {},
   "outputs": [],
   "source": [
    "sr.astype(str)"
   ]
  },
  {
   "cell_type": "code",
   "execution_count": null,
   "id": "568dfb0a",
   "metadata": {},
   "outputs": [],
   "source": [
    "sr = sr.astype(float)"
   ]
  },
  {
   "cell_type": "code",
   "execution_count": null,
   "id": "b5a6ba66",
   "metadata": {},
   "outputs": [],
   "source": [
    "sr"
   ]
  },
  {
   "cell_type": "code",
   "execution_count": null,
   "id": "c7a5cb58",
   "metadata": {},
   "outputs": [],
   "source": [
    "for i in sr:\n",
    "    print(type(i))"
   ]
  },
  {
   "cell_type": "code",
   "execution_count": null,
   "id": "15ee7853",
   "metadata": {},
   "outputs": [],
   "source": [
    "pd.Series(data = a)"
   ]
  },
  {
   "cell_type": "code",
   "execution_count": null,
   "id": "d45684d2",
   "metadata": {},
   "outputs": [],
   "source": [
    "pd.Series(data = a, index = ['a', 'b', 'c'])"
   ]
  },
  {
   "cell_type": "code",
   "execution_count": null,
   "id": "e03d6b4a",
   "metadata": {},
   "outputs": [],
   "source": [
    "pd.Series(data = {'a': 1, 'b': 3, 'c': 5})"
   ]
  },
  {
   "cell_type": "code",
   "execution_count": null,
   "id": "3481bd9d",
   "metadata": {},
   "outputs": [],
   "source": [
    "sr.index"
   ]
  },
  {
   "cell_type": "code",
   "execution_count": null,
   "id": "635631c0",
   "metadata": {},
   "outputs": [],
   "source": [
    "sr.index = [1, 2, 3]\n",
    "sr"
   ]
  },
  {
   "cell_type": "code",
   "execution_count": null,
   "id": "acd2a6e7",
   "metadata": {},
   "outputs": [],
   "source": [
    "sr.index = [a, b, c]\n",
    "sr"
   ]
  },
  {
   "cell_type": "code",
   "execution_count": null,
   "id": "d91ab321",
   "metadata": {},
   "outputs": [],
   "source": [
    "sr.index = ['a', 'b', 'c']"
   ]
  },
  {
   "cell_type": "code",
   "execution_count": null,
   "id": "eb47fcdb",
   "metadata": {},
   "outputs": [],
   "source": [
    "sr"
   ]
  },
  {
   "cell_type": "code",
   "execution_count": null,
   "id": "5f32c4eb",
   "metadata": {},
   "outputs": [],
   "source": [
    "sr[0]"
   ]
  },
  {
   "cell_type": "code",
   "execution_count": null,
   "id": "f4152445",
   "metadata": {},
   "outputs": [],
   "source": [
    "sr['a']"
   ]
  },
  {
   "cell_type": "code",
   "execution_count": null,
   "id": "9af8367e",
   "metadata": {},
   "outputs": [],
   "source": [
    "sr[0:2]"
   ]
  },
  {
   "cell_type": "code",
   "execution_count": null,
   "id": "728722fa",
   "metadata": {},
   "outputs": [],
   "source": [
    "sr['a' : 'c']"
   ]
  },
  {
   "cell_type": "code",
   "execution_count": null,
   "id": "89eeab5c",
   "metadata": {},
   "outputs": [],
   "source": [
    "sr0 = pd.Series(data = a, index = ['b', 'c', 'a'])\n",
    "sr0"
   ]
  },
  {
   "cell_type": "code",
   "execution_count": null,
   "id": "0a074135",
   "metadata": {},
   "outputs": [],
   "source": [
    "sr0['a':'c']"
   ]
  },
  {
   "cell_type": "code",
   "execution_count": null,
   "id": "2acfaad3",
   "metadata": {},
   "outputs": [],
   "source": [
    "sr0['b':'a']"
   ]
  },
  {
   "cell_type": "code",
   "execution_count": null,
   "id": "237ac25f",
   "metadata": {},
   "outputs": [],
   "source": [
    "sr[[1,2]]"
   ]
  },
  {
   "cell_type": "code",
   "execution_count": null,
   "id": "032ba481",
   "metadata": {},
   "outputs": [],
   "source": [
    "sr[['b','c']]"
   ]
  },
  {
   "cell_type": "code",
   "execution_count": null,
   "id": "b90fa020",
   "metadata": {},
   "outputs": [],
   "source": [
    "sr"
   ]
  },
  {
   "cell_type": "code",
   "execution_count": null,
   "id": "2cdfca9b",
   "metadata": {},
   "outputs": [],
   "source": [
    "sr.iloc[0]"
   ]
  },
  {
   "cell_type": "code",
   "execution_count": null,
   "id": "d4d17cad",
   "metadata": {},
   "outputs": [],
   "source": [
    "sr.iloc[[0]]"
   ]
  },
  {
   "cell_type": "code",
   "execution_count": null,
   "id": "b4a33cdd",
   "metadata": {},
   "outputs": [],
   "source": [
    "sr.iloc[[0, 2]]"
   ]
  },
  {
   "cell_type": "code",
   "execution_count": null,
   "id": "924cf7b2",
   "metadata": {},
   "outputs": [],
   "source": [
    "sr.iloc[0:2]"
   ]
  },
  {
   "cell_type": "code",
   "execution_count": null,
   "id": "8995c8bf",
   "metadata": {},
   "outputs": [],
   "source": [
    "sr"
   ]
  },
  {
   "cell_type": "code",
   "execution_count": null,
   "id": "1184e18a",
   "metadata": {},
   "outputs": [],
   "source": [
    "sr.loc['a']"
   ]
  },
  {
   "cell_type": "code",
   "execution_count": null,
   "id": "9027a1f7",
   "metadata": {},
   "outputs": [],
   "source": [
    "sr.loc[['a']]"
   ]
  },
  {
   "cell_type": "code",
   "execution_count": null,
   "id": "34fd6771",
   "metadata": {},
   "outputs": [],
   "source": [
    "sr.loc[['a', 'c']]"
   ]
  },
  {
   "cell_type": "code",
   "execution_count": null,
   "id": "9d548a21",
   "metadata": {},
   "outputs": [],
   "source": [
    "sr.loc[['a':'c']]"
   ]
  },
  {
   "cell_type": "code",
   "execution_count": null,
   "id": "296585a8",
   "metadata": {},
   "outputs": [],
   "source": [
    "sr.loc['a':'c']"
   ]
  },
  {
   "cell_type": "code",
   "execution_count": null,
   "id": "e54a8ee4",
   "metadata": {},
   "outputs": [],
   "source": [
    "sr1 = pd.Series(data = range(0,3), index = range(1, 4))\n",
    "sr1"
   ]
  },
  {
   "cell_type": "code",
   "execution_count": null,
   "id": "f8de684e",
   "metadata": {},
   "outputs": [],
   "source": [
    "sr1[0]"
   ]
  },
  {
   "cell_type": "code",
   "execution_count": null,
   "id": "4caf8df5",
   "metadata": {},
   "outputs": [],
   "source": [
    "sr1.iloc[0]"
   ]
  },
  {
   "cell_type": "code",
   "execution_count": null,
   "id": "985df11a",
   "metadata": {},
   "outputs": [],
   "source": [
    "sr1.loc[1]"
   ]
  },
  {
   "cell_type": "code",
   "execution_count": null,
   "id": "e1747e38",
   "metadata": {},
   "outputs": [],
   "source": [
    "sr2 = pd.Series(data = range(0,3), index = np.tile(1, 3))\n",
    "sr2"
   ]
  },
  {
   "cell_type": "code",
   "execution_count": null,
   "id": "e294c990",
   "metadata": {},
   "outputs": [],
   "source": [
    "sr2.loc[1]"
   ]
  },
  {
   "cell_type": "code",
   "execution_count": null,
   "id": "9256f0c5",
   "metadata": {},
   "outputs": [],
   "source": [
    "sr2.iloc[0]"
   ]
  },
  {
   "cell_type": "code",
   "execution_count": null,
   "id": "74ef1f2a",
   "metadata": {},
   "outputs": [],
   "source": []
  },
  {
   "cell_type": "code",
   "execution_count": null,
   "id": "0c4732ea",
   "metadata": {},
   "outputs": [],
   "source": [
    "sr"
   ]
  },
  {
   "cell_type": "code",
   "execution_count": null,
   "id": "3436bea5",
   "metadata": {},
   "outputs": [],
   "source": [
    "sr >= 1"
   ]
  },
  {
   "cell_type": "code",
   "execution_count": null,
   "id": "04f7a7df",
   "metadata": {},
   "outputs": [],
   "source": [
    "sr >= 1 and sr < 3"
   ]
  },
  {
   "cell_type": "code",
   "execution_count": null,
   "id": "912c7573",
   "metadata": {},
   "outputs": [],
   "source": [
    "for i in sr:\n",
    "    print(i >= 1 and i < 3)"
   ]
  },
  {
   "cell_type": "code",
   "execution_count": null,
   "id": "91bce61d",
   "metadata": {},
   "outputs": [],
   "source": [
    "sr >= 1 & sr < 3"
   ]
  },
  {
   "cell_type": "code",
   "execution_count": null,
   "id": "7b4eec9f",
   "metadata": {},
   "outputs": [],
   "source": [
    "sr"
   ]
  },
  {
   "cell_type": "code",
   "execution_count": null,
   "id": "0b15e495",
   "metadata": {},
   "outputs": [],
   "source": [
    "(sr >= 1) & (sr < 3)"
   ]
  },
  {
   "cell_type": "code",
   "execution_count": null,
   "id": "e67ff99a",
   "metadata": {},
   "outputs": [],
   "source": [
    "(sr >= 1) | (sr < 3)"
   ]
  },
  {
   "cell_type": "code",
   "execution_count": null,
   "id": "9187df8f",
   "metadata": {},
   "outputs": [],
   "source": [
    "~((sr >= 1) | (sr < 3))"
   ]
  },
  {
   "cell_type": "code",
   "execution_count": null,
   "id": "b8a6e1a6",
   "metadata": {},
   "outputs": [],
   "source": [
    "sr >= 1"
   ]
  },
  {
   "cell_type": "code",
   "execution_count": null,
   "id": "b7f11b99",
   "metadata": {},
   "outputs": [],
   "source": [
    "sr.loc[sr >= 1]"
   ]
  },
  {
   "cell_type": "code",
   "execution_count": null,
   "id": "8a2ad9b1",
   "metadata": {},
   "outputs": [],
   "source": [
    "sr.loc[(sr >= 1) & (sr < 3)]"
   ]
  },
  {
   "cell_type": "code",
   "execution_count": null,
   "id": "0038a5af",
   "metadata": {},
   "outputs": [],
   "source": []
  },
  {
   "cell_type": "code",
   "execution_count": null,
   "id": "b0dbce93",
   "metadata": {},
   "outputs": [],
   "source": [
    "sr1"
   ]
  },
  {
   "cell_type": "code",
   "execution_count": null,
   "id": "48bcfbfa",
   "metadata": {},
   "outputs": [],
   "source": [
    "sr3 = sr1"
   ]
  },
  {
   "cell_type": "code",
   "execution_count": null,
   "id": "2dd6ca2d",
   "metadata": {},
   "outputs": [],
   "source": [
    "sr3"
   ]
  },
  {
   "cell_type": "code",
   "execution_count": null,
   "id": "f6f59378",
   "metadata": {},
   "outputs": [],
   "source": [
    "sr3.iloc[0] = 3"
   ]
  },
  {
   "cell_type": "code",
   "execution_count": null,
   "id": "a680d3a0",
   "metadata": {},
   "outputs": [],
   "source": [
    "sr3"
   ]
  },
  {
   "cell_type": "code",
   "execution_count": null,
   "id": "ce0b96c4",
   "metadata": {},
   "outputs": [],
   "source": [
    "sr1"
   ]
  },
  {
   "cell_type": "code",
   "execution_count": null,
   "id": "be9f8524",
   "metadata": {},
   "outputs": [],
   "source": [
    "id(sr1)"
   ]
  },
  {
   "cell_type": "code",
   "execution_count": null,
   "id": "f20c6385",
   "metadata": {},
   "outputs": [],
   "source": [
    "id(sr3) # sr1과 동일 주소"
   ]
  },
  {
   "cell_type": "code",
   "execution_count": null,
   "id": "c1bfdfec",
   "metadata": {},
   "outputs": [],
   "source": [
    "sr4 = sr1.copy()"
   ]
  },
  {
   "cell_type": "code",
   "execution_count": null,
   "id": "892dc0d2",
   "metadata": {},
   "outputs": [],
   "source": [
    "id(sr4)   # sr1과 sr4는 다른 주소를 가리키고 있다."
   ]
  },
  {
   "cell_type": "code",
   "execution_count": null,
   "id": "6323ce3c",
   "metadata": {},
   "outputs": [],
   "source": [
    "sr4.iloc[0] = 0"
   ]
  },
  {
   "cell_type": "code",
   "execution_count": null,
   "id": "977aa451",
   "metadata": {},
   "outputs": [],
   "source": [
    "sr4"
   ]
  },
  {
   "cell_type": "code",
   "execution_count": null,
   "id": "0d2b860f",
   "metadata": {},
   "outputs": [],
   "source": [
    "sr1"
   ]
  },
  {
   "cell_type": "code",
   "execution_count": null,
   "id": "ca914171",
   "metadata": {},
   "outputs": [],
   "source": []
  },
  {
   "cell_type": "code",
   "execution_count": null,
   "id": "e03ecaeb",
   "metadata": {},
   "outputs": [],
   "source": [
    "b = [[1, 2], [3, 4], [5, 6]]\n",
    "b"
   ]
  },
  {
   "cell_type": "code",
   "execution_count": null,
   "id": "3b488bc5",
   "metadata": {},
   "outputs": [],
   "source": [
    "np.array(b)"
   ]
  },
  {
   "cell_type": "code",
   "execution_count": null,
   "id": "3218069a",
   "metadata": {},
   "outputs": [],
   "source": [
    "df = pd.DataFrame(b)"
   ]
  },
  {
   "cell_type": "code",
   "execution_count": null,
   "id": "b35b4b0b",
   "metadata": {},
   "outputs": [],
   "source": [
    "df"
   ]
  },
  {
   "cell_type": "code",
   "execution_count": null,
   "id": "b7720277",
   "metadata": {},
   "outputs": [],
   "source": [
    "type(df)"
   ]
  },
  {
   "cell_type": "code",
   "execution_count": null,
   "id": "4907b638",
   "metadata": {},
   "outputs": [],
   "source": [
    "df = pd.DataFrame(data = b, index = range(1, 4), columns = ['A', 'B'])\n",
    "df"
   ]
  },
  {
   "cell_type": "code",
   "execution_count": null,
   "id": "27b28522",
   "metadata": {},
   "outputs": [],
   "source": [
    "df.shape"
   ]
  },
  {
   "cell_type": "code",
   "execution_count": null,
   "id": "8669f39f",
   "metadata": {},
   "outputs": [],
   "source": [
    "df.dtypes"
   ]
  },
  {
   "cell_type": "code",
   "execution_count": null,
   "id": "9ee6e9b2",
   "metadata": {},
   "outputs": [],
   "source": [
    "df.values"
   ]
  },
  {
   "cell_type": "code",
   "execution_count": null,
   "id": "a6a5e4ab",
   "metadata": {},
   "outputs": [],
   "source": [
    "df.index"
   ]
  },
  {
   "cell_type": "code",
   "execution_count": null,
   "id": "102c3a5f",
   "metadata": {},
   "outputs": [],
   "source": [
    "df.columns"
   ]
  },
  {
   "cell_type": "code",
   "execution_count": null,
   "id": "94f0e4af",
   "metadata": {},
   "outputs": [],
   "source": [
    "df.info()"
   ]
  },
  {
   "cell_type": "code",
   "execution_count": null,
   "id": "b52107c0",
   "metadata": {},
   "outputs": [],
   "source": [
    "df"
   ]
  },
  {
   "cell_type": "code",
   "execution_count": null,
   "id": "e6a66435",
   "metadata": {},
   "outputs": [],
   "source": [
    "df.iloc[0]"
   ]
  },
  {
   "cell_type": "code",
   "execution_count": null,
   "id": "9eb3eb7c",
   "metadata": {},
   "outputs": [],
   "source": [
    "df.iloc[[0]]"
   ]
  },
  {
   "cell_type": "code",
   "execution_count": null,
   "id": "19371ce4",
   "metadata": {},
   "outputs": [],
   "source": [
    "df.iloc[0:2]"
   ]
  },
  {
   "cell_type": "code",
   "execution_count": null,
   "id": "408cc516",
   "metadata": {},
   "outputs": [],
   "source": [
    "df.iloc[0:2, :]"
   ]
  },
  {
   "cell_type": "code",
   "execution_count": null,
   "id": "4553d220",
   "metadata": {},
   "outputs": [],
   "source": [
    "df.iloc[:, 0:2]"
   ]
  },
  {
   "cell_type": "code",
   "execution_count": null,
   "id": "73aa3227",
   "metadata": {},
   "outputs": [],
   "source": [
    "df.iloc[:, [1, 0]]"
   ]
  },
  {
   "cell_type": "code",
   "execution_count": null,
   "id": "0fb8ae5e",
   "metadata": {},
   "outputs": [],
   "source": [
    "df"
   ]
  },
  {
   "cell_type": "code",
   "execution_count": null,
   "id": "9d65022e",
   "metadata": {},
   "outputs": [],
   "source": [
    "df.loc[1]"
   ]
  },
  {
   "cell_type": "code",
   "execution_count": null,
   "id": "ccb3a345",
   "metadata": {},
   "outputs": [],
   "source": [
    "df.loc[[1]]"
   ]
  },
  {
   "cell_type": "code",
   "execution_count": null,
   "id": "c73d66ab",
   "metadata": {},
   "outputs": [],
   "source": [
    "df.loc[1:2]"
   ]
  },
  {
   "cell_type": "code",
   "execution_count": null,
   "id": "04d355a4",
   "metadata": {},
   "outputs": [],
   "source": [
    "df.loc[1:2, :]"
   ]
  },
  {
   "cell_type": "code",
   "execution_count": null,
   "id": "feb80b2b",
   "metadata": {},
   "outputs": [],
   "source": [
    "df.loc[:, 'A':'B']"
   ]
  },
  {
   "cell_type": "code",
   "execution_count": null,
   "id": "e791ef59",
   "metadata": {},
   "outputs": [],
   "source": [
    "df.loc[:, ['B', 'A']]"
   ]
  },
  {
   "cell_type": "code",
   "execution_count": null,
   "id": "c9520d3e",
   "metadata": {},
   "outputs": [],
   "source": []
  },
  {
   "cell_type": "code",
   "execution_count": null,
   "id": "6d1823f8",
   "metadata": {},
   "outputs": [],
   "source": []
  },
  {
   "cell_type": "code",
   "execution_count": null,
   "id": "981a5df4",
   "metadata": {},
   "outputs": [],
   "source": []
  },
  {
   "cell_type": "code",
   "execution_count": null,
   "id": "42db745f",
   "metadata": {},
   "outputs": [],
   "source": [
    "'C:\\Users\\user\\Documents\\LS-main\\live'"
   ]
  },
  {
   "cell_type": "code",
   "execution_count": null,
   "id": "33dc4b45",
   "metadata": {},
   "outputs": [],
   "source": [
    "'C:\\\\Users\\\\user\\\\Documents\\\\LS-main\\\\live'"
   ]
  },
  {
   "cell_type": "code",
   "execution_count": null,
   "id": "8fbe048d",
   "metadata": {},
   "outputs": [],
   "source": [
    "'C:/Users/user/Documents/LS-main/live'"
   ]
  },
  {
   "cell_type": "code",
   "execution_count": null,
   "id": "aaca7ecf",
   "metadata": {},
   "outputs": [],
   "source": [
    "r'C:\\Users\\user\\Documents\\LS-main\\live'"
   ]
  },
  {
   "cell_type": "code",
   "execution_count": null,
   "id": "d57d7cd4",
   "metadata": {},
   "outputs": [],
   "source": []
  },
  {
   "cell_type": "code",
   "execution_count": 2,
   "id": "6812a8af",
   "metadata": {},
   "outputs": [],
   "source": [
    "import os\n",
    "import chardet\n",
    "import numpy as np\n",
    "import pandas as pd\n",
    "import joblib"
   ]
  },
  {
   "cell_type": "code",
   "execution_count": 4,
   "id": "fb918d63",
   "metadata": {},
   "outputs": [
    {
     "data": {
      "text/plain": [
       "'C:\\\\Users\\\\user\\\\Documents\\\\LS-main\\\\live'"
      ]
     },
     "execution_count": 4,
     "metadata": {},
     "output_type": "execute_result"
    }
   ],
   "source": [
    "os.getcwd()"
   ]
  },
  {
   "cell_type": "code",
   "execution_count": 5,
   "id": "3788b7d7",
   "metadata": {},
   "outputs": [],
   "source": [
    "os.chdir('C:\\\\Users\\\\user\\\\Documents\\\\LS-main\\\\data')"
   ]
  },
  {
   "cell_type": "code",
   "execution_count": 6,
   "id": "d6c554d0",
   "metadata": {},
   "outputs": [
    {
     "data": {
      "text/plain": [
       "'C:\\\\Users\\\\user\\\\Documents\\\\LS-main\\\\data'"
      ]
     },
     "execution_count": 6,
     "metadata": {},
     "output_type": "execute_result"
    }
   ],
   "source": [
    "os.getcwd()"
   ]
  },
  {
   "cell_type": "code",
   "execution_count": 5,
   "id": "3f549468",
   "metadata": {},
   "outputs": [],
   "source": [
    "os.chdir('..')"
   ]
  },
  {
   "cell_type": "code",
   "execution_count": 6,
   "id": "1f11e5c5",
   "metadata": {},
   "outputs": [
    {
     "data": {
      "text/plain": [
       "'C:\\\\Users\\\\user\\\\Documents\\\\LS-main'"
      ]
     },
     "execution_count": 6,
     "metadata": {},
     "output_type": "execute_result"
    }
   ],
   "source": [
    "os.getcwd()"
   ]
  },
  {
   "cell_type": "code",
   "execution_count": 7,
   "id": "3634d13f",
   "metadata": {},
   "outputs": [],
   "source": [
    "os.chdir('./live')"
   ]
  },
  {
   "cell_type": "code",
   "execution_count": 8,
   "id": "1950ffdd",
   "metadata": {},
   "outputs": [],
   "source": [
    "os.chdir('../data')"
   ]
  },
  {
   "cell_type": "code",
   "execution_count": 9,
   "id": "694ca008",
   "metadata": {},
   "outputs": [
    {
     "data": {
      "text/plain": [
       "'C:\\\\Users\\\\user\\\\Documents\\\\LS-main\\\\data'"
      ]
     },
     "execution_count": 9,
     "metadata": {},
     "output_type": "execute_result"
    }
   ],
   "source": [
    "os.getcwd()"
   ]
  },
  {
   "cell_type": "code",
   "execution_count": 10,
   "id": "6665fcb8",
   "metadata": {},
   "outputs": [
    {
     "data": {
      "text/plain": [
       "['APT_Detail_Seoul_2022.csv',\n",
       " 'APT_Detail_Seoul_2022.xlsx',\n",
       " 'APT_Merged.csv',\n",
       " 'APT_Merged.xlsx',\n",
       " 'APT_Price_Seoul_2020_2022.csv',\n",
       " 'APT_Price_Seoul_2020_2022.xlsx',\n",
       " 'NA_Sample.xlsx']"
      ]
     },
     "execution_count": 10,
     "metadata": {},
     "output_type": "execute_result"
    }
   ],
   "source": [
    "os.listdir()"
   ]
  },
  {
   "cell_type": "code",
   "execution_count": 11,
   "id": "cebbe885",
   "metadata": {},
   "outputs": [],
   "source": [
    "os.mkdir('./temp')"
   ]
  },
  {
   "cell_type": "code",
   "execution_count": 12,
   "id": "5f7732b1",
   "metadata": {},
   "outputs": [
    {
     "data": {
      "text/plain": [
       "['APT_Detail_Seoul_2022.csv',\n",
       " 'APT_Detail_Seoul_2022.xlsx',\n",
       " 'APT_Merged.csv',\n",
       " 'APT_Merged.xlsx',\n",
       " 'APT_Price_Seoul_2020_2022.csv',\n",
       " 'APT_Price_Seoul_2020_2022.xlsx',\n",
       " 'NA_Sample.xlsx',\n",
       " 'temp']"
      ]
     },
     "execution_count": 12,
     "metadata": {},
     "output_type": "execute_result"
    }
   ],
   "source": [
    "os.listdir()"
   ]
  },
  {
   "cell_type": "code",
   "execution_count": 13,
   "id": "1a0f54ef",
   "metadata": {},
   "outputs": [],
   "source": [
    "os.rmdir('./temp')  ## 비워있는 폴더만 지울수 있고, 휴지통에 남지 않는다."
   ]
  },
  {
   "cell_type": "code",
   "execution_count": 14,
   "id": "d383231f",
   "metadata": {},
   "outputs": [
    {
     "data": {
      "text/plain": [
       "['APT_Detail_Seoul_2022.csv',\n",
       " 'APT_Detail_Seoul_2022.xlsx',\n",
       " 'APT_Merged.csv',\n",
       " 'APT_Merged.xlsx',\n",
       " 'APT_Price_Seoul_2020_2022.csv',\n",
       " 'APT_Price_Seoul_2020_2022.xlsx',\n",
       " 'NA_Sample.xlsx']"
      ]
     },
     "execution_count": 14,
     "metadata": {},
     "output_type": "execute_result"
    }
   ],
   "source": [
    "os.listdir()"
   ]
  },
  {
   "cell_type": "code",
   "execution_count": 15,
   "id": "19944871",
   "metadata": {},
   "outputs": [
    {
     "data": {
      "text/plain": [
       "['APT_Detail_Seoul_2022.xlsx',\n",
       " 'APT_Merged.xlsx',\n",
       " 'APT_Price_Seoul_2020_2022.xlsx',\n",
       " 'NA_Sample.xlsx']"
      ]
     },
     "execution_count": 15,
     "metadata": {},
     "output_type": "execute_result"
    }
   ],
   "source": [
    "[file for file in os.listdir() if '.xlsx' in file]"
   ]
  },
  {
   "cell_type": "code",
   "execution_count": 16,
   "id": "30ca7a4a",
   "metadata": {},
   "outputs": [
    {
     "data": {
      "text/plain": [
       "['APT_Detail_Seoul_2022.csv',\n",
       " 'APT_Merged.csv',\n",
       " 'APT_Price_Seoul_2020_2022.csv']"
      ]
     },
     "execution_count": 16,
     "metadata": {},
     "output_type": "execute_result"
    }
   ],
   "source": [
    "[file for file in os.listdir() if '.csv' in file]"
   ]
  },
  {
   "cell_type": "code",
   "execution_count": 18,
   "id": "f856181b",
   "metadata": {
    "scrolled": true
   },
   "outputs": [
    {
     "data": {
      "text/plain": [
       "['APT_Detail_Seoul_2022.csv',\n",
       " 'APT_Detail_Seoul_2022.xlsx',\n",
       " 'APT_Price_Seoul_2020_2022.csv',\n",
       " 'APT_Price_Seoul_2020_2022.xlsx']"
      ]
     },
     "execution_count": 18,
     "metadata": {},
     "output_type": "execute_result"
    }
   ],
   "source": [
    "[file for file in os.listdir() if '2022' in file]"
   ]
  },
  {
   "cell_type": "code",
   "execution_count": null,
   "id": "ab8e24cc",
   "metadata": {},
   "outputs": [],
   "source": []
  },
  {
   "cell_type": "code",
   "execution_count": 26,
   "id": "fc8840d1",
   "metadata": {},
   "outputs": [
    {
     "data": {
      "text/html": [
       "<div>\n",
       "<style scoped>\n",
       "    .dataframe tbody tr th:only-of-type {\n",
       "        vertical-align: middle;\n",
       "    }\n",
       "\n",
       "    .dataframe tbody tr th {\n",
       "        vertical-align: top;\n",
       "    }\n",
       "\n",
       "    .dataframe thead th {\n",
       "        text-align: right;\n",
       "    }\n",
       "</style>\n",
       "<table border=\"1\" class=\"dataframe\">\n",
       "  <thead>\n",
       "    <tr style=\"text-align: right;\">\n",
       "      <th></th>\n",
       "      <th>지역코드</th>\n",
       "      <th>아파트</th>\n",
       "      <th>시도명</th>\n",
       "      <th>시군구</th>\n",
       "      <th>법정동</th>\n",
       "      <th>지번</th>\n",
       "      <th>건축년도</th>\n",
       "      <th>거래일</th>\n",
       "      <th>전용면적</th>\n",
       "      <th>층</th>\n",
       "      <th>거래금액</th>\n",
       "    </tr>\n",
       "  </thead>\n",
       "  <tbody>\n",
       "    <tr>\n",
       "      <th>0</th>\n",
       "      <td>11110</td>\n",
       "      <td>경희궁의아침3단지</td>\n",
       "      <td>서울특별시</td>\n",
       "      <td>종로구</td>\n",
       "      <td>내수동</td>\n",
       "      <td>72</td>\n",
       "      <td>2004.0</td>\n",
       "      <td>2022-01-14</td>\n",
       "      <td>150.48</td>\n",
       "      <td>3</td>\n",
       "      <td>200000</td>\n",
       "    </tr>\n",
       "    <tr>\n",
       "      <th>1</th>\n",
       "      <td>11110</td>\n",
       "      <td>아르젠종로</td>\n",
       "      <td>서울특별시</td>\n",
       "      <td>종로구</td>\n",
       "      <td>연지동</td>\n",
       "      <td>163-3</td>\n",
       "      <td>2015.0</td>\n",
       "      <td>2022-01-11</td>\n",
       "      <td>18.02</td>\n",
       "      <td>10</td>\n",
       "      <td>20000</td>\n",
       "    </tr>\n",
       "    <tr>\n",
       "      <th>2</th>\n",
       "      <td>11110</td>\n",
       "      <td>이화에수풀</td>\n",
       "      <td>서울특별시</td>\n",
       "      <td>종로구</td>\n",
       "      <td>연건동</td>\n",
       "      <td>195-10</td>\n",
       "      <td>2014.0</td>\n",
       "      <td>2022-01-03</td>\n",
       "      <td>16.98</td>\n",
       "      <td>7</td>\n",
       "      <td>19500</td>\n",
       "    </tr>\n",
       "    <tr>\n",
       "      <th>3</th>\n",
       "      <td>11110</td>\n",
       "      <td>이화에수풀</td>\n",
       "      <td>서울특별시</td>\n",
       "      <td>종로구</td>\n",
       "      <td>연건동</td>\n",
       "      <td>195-10</td>\n",
       "      <td>2014.0</td>\n",
       "      <td>2022-01-08</td>\n",
       "      <td>16.98</td>\n",
       "      <td>11</td>\n",
       "      <td>19000</td>\n",
       "    </tr>\n",
       "    <tr>\n",
       "      <th>4</th>\n",
       "      <td>11110</td>\n",
       "      <td>CS타워</td>\n",
       "      <td>서울특별시</td>\n",
       "      <td>종로구</td>\n",
       "      <td>충신동</td>\n",
       "      <td>62-2</td>\n",
       "      <td>2011.0</td>\n",
       "      <td>2022-01-11</td>\n",
       "      <td>22.17</td>\n",
       "      <td>12</td>\n",
       "      <td>13500</td>\n",
       "    </tr>\n",
       "    <tr>\n",
       "      <th>...</th>\n",
       "      <td>...</td>\n",
       "      <td>...</td>\n",
       "      <td>...</td>\n",
       "      <td>...</td>\n",
       "      <td>...</td>\n",
       "      <td>...</td>\n",
       "      <td>...</td>\n",
       "      <td>...</td>\n",
       "      <td>...</td>\n",
       "      <td>...</td>\n",
       "      <td>...</td>\n",
       "    </tr>\n",
       "    <tr>\n",
       "      <th>12200</th>\n",
       "      <td>11740</td>\n",
       "      <td>중앙하이츠</td>\n",
       "      <td>서울특별시</td>\n",
       "      <td>강동구</td>\n",
       "      <td>암사동</td>\n",
       "      <td>493-14</td>\n",
       "      <td>1998.0</td>\n",
       "      <td>2022-12-03</td>\n",
       "      <td>59.52</td>\n",
       "      <td>8</td>\n",
       "      <td>53000</td>\n",
       "    </tr>\n",
       "    <tr>\n",
       "      <th>12201</th>\n",
       "      <td>11740</td>\n",
       "      <td>롯데캐슬퍼스트</td>\n",
       "      <td>서울특별시</td>\n",
       "      <td>강동구</td>\n",
       "      <td>암사동</td>\n",
       "      <td>414-2</td>\n",
       "      <td>2008.0</td>\n",
       "      <td>2022-12-06</td>\n",
       "      <td>111.22</td>\n",
       "      <td>10</td>\n",
       "      <td>135000</td>\n",
       "    </tr>\n",
       "    <tr>\n",
       "      <th>12202</th>\n",
       "      <td>11740</td>\n",
       "      <td>선사현대아파트</td>\n",
       "      <td>서울특별시</td>\n",
       "      <td>강동구</td>\n",
       "      <td>암사동</td>\n",
       "      <td>509</td>\n",
       "      <td>2000.0</td>\n",
       "      <td>2022-12-10</td>\n",
       "      <td>59.64</td>\n",
       "      <td>17</td>\n",
       "      <td>77000</td>\n",
       "    </tr>\n",
       "    <tr>\n",
       "      <th>12203</th>\n",
       "      <td>11740</td>\n",
       "      <td>파크뷰진도맨션</td>\n",
       "      <td>서울특별시</td>\n",
       "      <td>강동구</td>\n",
       "      <td>성내동</td>\n",
       "      <td>452-2</td>\n",
       "      <td>1996.0</td>\n",
       "      <td>2022-12-06</td>\n",
       "      <td>208.92</td>\n",
       "      <td>18</td>\n",
       "      <td>145500</td>\n",
       "    </tr>\n",
       "    <tr>\n",
       "      <th>12204</th>\n",
       "      <td>11740</td>\n",
       "      <td>강동리버스트4단지</td>\n",
       "      <td>서울특별시</td>\n",
       "      <td>강동구</td>\n",
       "      <td>강일동</td>\n",
       "      <td>114</td>\n",
       "      <td>2020.0</td>\n",
       "      <td>2022-12-29</td>\n",
       "      <td>59.99</td>\n",
       "      <td>7</td>\n",
       "      <td>55000</td>\n",
       "    </tr>\n",
       "  </tbody>\n",
       "</table>\n",
       "<p>12205 rows × 11 columns</p>\n",
       "</div>"
      ],
      "text/plain": [
       "        지역코드        아파트    시도명  시군구  법정동      지번    건축년도         거래일    전용면적   \n",
       "0      11110  경희궁의아침3단지  서울특별시  종로구  내수동      72  2004.0  2022-01-14  150.48  \\\n",
       "1      11110      아르젠종로  서울특별시  종로구  연지동   163-3  2015.0  2022-01-11   18.02   \n",
       "2      11110      이화에수풀  서울특별시  종로구  연건동  195-10  2014.0  2022-01-03   16.98   \n",
       "3      11110      이화에수풀  서울특별시  종로구  연건동  195-10  2014.0  2022-01-08   16.98   \n",
       "4      11110       CS타워  서울특별시  종로구  충신동    62-2  2011.0  2022-01-11   22.17   \n",
       "...      ...        ...    ...  ...  ...     ...     ...         ...     ...   \n",
       "12200  11740      중앙하이츠  서울특별시  강동구  암사동  493-14  1998.0  2022-12-03   59.52   \n",
       "12201  11740    롯데캐슬퍼스트  서울특별시  강동구  암사동   414-2  2008.0  2022-12-06  111.22   \n",
       "12202  11740    선사현대아파트  서울특별시  강동구  암사동     509  2000.0  2022-12-10   59.64   \n",
       "12203  11740    파크뷰진도맨션  서울특별시  강동구  성내동   452-2  1996.0  2022-12-06  208.92   \n",
       "12204  11740  강동리버스트4단지  서울특별시  강동구  강일동     114  2020.0  2022-12-29   59.99   \n",
       "\n",
       "        층    거래금액  \n",
       "0       3  200000  \n",
       "1      10   20000  \n",
       "2       7   19500  \n",
       "3      11   19000  \n",
       "4      12   13500  \n",
       "...    ..     ...  \n",
       "12200   8   53000  \n",
       "12201  10  135000  \n",
       "12202  17   77000  \n",
       "12203  18  145500  \n",
       "12204   7   55000  \n",
       "\n",
       "[12205 rows x 11 columns]"
      ]
     },
     "execution_count": 26,
     "metadata": {},
     "output_type": "execute_result"
    }
   ],
   "source": [
    "pd.read_excel(io = 'APT_Price_Seoul_2020_2022.xlsx',\n",
    "              sheet_name = '2022년',\n",
    "              usecols = range(1, 12),\n",
    "              skiprows = 3,\n",
    "              thousands = ',')"
   ]
  },
  {
   "cell_type": "code",
   "execution_count": 27,
   "id": "711494d9",
   "metadata": {},
   "outputs": [
    {
     "ename": "IndentationError",
     "evalue": "unexpected indent (2598061132.py, line 2)",
     "output_type": "error",
     "traceback": [
      "\u001b[1;36m  Cell \u001b[1;32mIn[27], line 2\u001b[1;36m\u001b[0m\n\u001b[1;33m    sheet_name = '2022년')\u001b[0m\n\u001b[1;37m    ^\u001b[0m\n\u001b[1;31mIndentationError\u001b[0m\u001b[1;31m:\u001b[0m unexpected indent\n"
     ]
    }
   ],
   "source": [
    "%time df1 = pd.read_excel(io = 'APT_Price_Seoul_2020_2022.xlsx',\n",
    "               sheet_name = '2022년')"
   ]
  },
  {
   "cell_type": "code",
   "execution_count": 29,
   "id": "4a5e8895",
   "metadata": {
    "scrolled": true
   },
   "outputs": [
    {
     "name": "stdout",
     "output_type": "stream",
     "text": [
      "CPU times: total: 15.2 s\n",
      "Wall time: 15.2 s\n"
     ]
    }
   ],
   "source": [
    "%time df1 = pd.read_excel(io = 'APT_Price_Seoul_2020_2022.xlsx', \\\n",
    "               sheet_name = '2020~2022년')"
   ]
  },
  {
   "cell_type": "code",
   "execution_count": 30,
   "id": "42c9becb",
   "metadata": {},
   "outputs": [
    {
     "name": "stdout",
     "output_type": "stream",
     "text": [
      "<class 'pandas.core.frame.DataFrame'>\n",
      "RangeIndex: 139919 entries, 0 to 139918\n",
      "Data columns (total 11 columns):\n",
      " #   Column  Non-Null Count   Dtype         \n",
      "---  ------  --------------   -----         \n",
      " 0   지역코드    139919 non-null  int64         \n",
      " 1   아파트     139919 non-null  object        \n",
      " 2   시도명     139919 non-null  object        \n",
      " 3   시군구     139919 non-null  object        \n",
      " 4   법정동     139919 non-null  object        \n",
      " 5   지번      139879 non-null  object        \n",
      " 6   건축년도    139917 non-null  float64       \n",
      " 7   거래일     139919 non-null  datetime64[ns]\n",
      " 8   전용면적    139919 non-null  float64       \n",
      " 9   층       139919 non-null  int64         \n",
      " 10  거래금액    139919 non-null  object        \n",
      "dtypes: datetime64[ns](1), float64(2), int64(2), object(6)\n",
      "memory usage: 11.7+ MB\n"
     ]
    }
   ],
   "source": [
    "df1.info()"
   ]
  },
  {
   "cell_type": "code",
   "execution_count": 31,
   "id": "2c7d6e9a",
   "metadata": {},
   "outputs": [
    {
     "name": "stdout",
     "output_type": "stream",
     "text": [
      "CPU times: total: 35.1 s\n",
      "Wall time: 35.1 s\n"
     ]
    }
   ],
   "source": [
    "%time df1.to_excel('test.xlsx', index = False)"
   ]
  },
  {
   "cell_type": "code",
   "execution_count": 112,
   "id": "1f94b4e3",
   "metadata": {},
   "outputs": [
    {
     "data": {
      "text/plain": [
       "pandas.core.frame.DataFrame"
      ]
     },
     "execution_count": 112,
     "metadata": {},
     "output_type": "execute_result"
    }
   ],
   "source": [
    "type(df)"
   ]
  },
  {
   "cell_type": "code",
   "execution_count": 116,
   "id": "4ee2a451",
   "metadata": {},
   "outputs": [
    {
     "data": {
      "text/plain": [
       "[0, 1, 2]"
      ]
     },
     "execution_count": 116,
     "metadata": {},
     "output_type": "execute_result"
    }
   ],
   "source": [
    "aa = list(range(3))\n",
    "aa"
   ]
  },
  {
   "cell_type": "code",
   "execution_count": 10,
   "id": "190817ca",
   "metadata": {},
   "outputs": [],
   "source": [
    "dfAll = pd.DataFrame()\n",
    "\n",
    "for i in range(3):\n",
    "    df = pd.read_excel(io = 'APT_Price_Seoul_2020_2022.xlsx',\n",
    "                       sheet_name = i,\n",
    "                       usecols = range(1, 12),\n",
    "                       skiprows = 3,\n",
    "                       nrows = 10)\n",
    "    dfAll = pd.concat(objs = [dfAll, df], ignore_index = True)"
   ]
  },
  {
   "cell_type": "code",
   "execution_count": 11,
   "id": "67eb24cd",
   "metadata": {},
   "outputs": [
    {
     "data": {
      "text/html": [
       "<div>\n",
       "<style scoped>\n",
       "    .dataframe tbody tr th:only-of-type {\n",
       "        vertical-align: middle;\n",
       "    }\n",
       "\n",
       "    .dataframe tbody tr th {\n",
       "        vertical-align: top;\n",
       "    }\n",
       "\n",
       "    .dataframe thead th {\n",
       "        text-align: right;\n",
       "    }\n",
       "</style>\n",
       "<table border=\"1\" class=\"dataframe\">\n",
       "  <thead>\n",
       "    <tr style=\"text-align: right;\">\n",
       "      <th></th>\n",
       "      <th>지역코드</th>\n",
       "      <th>아파트</th>\n",
       "      <th>시도명</th>\n",
       "      <th>시군구</th>\n",
       "      <th>법정동</th>\n",
       "      <th>지번</th>\n",
       "      <th>건축년도</th>\n",
       "      <th>거래일</th>\n",
       "      <th>전용면적</th>\n",
       "      <th>층</th>\n",
       "      <th>거래금액</th>\n",
       "    </tr>\n",
       "  </thead>\n",
       "  <tbody>\n",
       "    <tr>\n",
       "      <th>0</th>\n",
       "      <td>11110</td>\n",
       "      <td>경희궁의아침3단지</td>\n",
       "      <td>서울특별시</td>\n",
       "      <td>종로구</td>\n",
       "      <td>내수동</td>\n",
       "      <td>72</td>\n",
       "      <td>2004</td>\n",
       "      <td>2022-01-14</td>\n",
       "      <td>150.4800</td>\n",
       "      <td>3</td>\n",
       "      <td>200,000</td>\n",
       "    </tr>\n",
       "    <tr>\n",
       "      <th>1</th>\n",
       "      <td>11110</td>\n",
       "      <td>아르젠종로</td>\n",
       "      <td>서울특별시</td>\n",
       "      <td>종로구</td>\n",
       "      <td>연지동</td>\n",
       "      <td>163-3</td>\n",
       "      <td>2015</td>\n",
       "      <td>2022-01-11</td>\n",
       "      <td>18.0200</td>\n",
       "      <td>10</td>\n",
       "      <td>20,000</td>\n",
       "    </tr>\n",
       "    <tr>\n",
       "      <th>2</th>\n",
       "      <td>11110</td>\n",
       "      <td>이화에수풀</td>\n",
       "      <td>서울특별시</td>\n",
       "      <td>종로구</td>\n",
       "      <td>연건동</td>\n",
       "      <td>195-10</td>\n",
       "      <td>2014</td>\n",
       "      <td>2022-01-03</td>\n",
       "      <td>16.9800</td>\n",
       "      <td>7</td>\n",
       "      <td>19,500</td>\n",
       "    </tr>\n",
       "    <tr>\n",
       "      <th>3</th>\n",
       "      <td>11110</td>\n",
       "      <td>이화에수풀</td>\n",
       "      <td>서울특별시</td>\n",
       "      <td>종로구</td>\n",
       "      <td>연건동</td>\n",
       "      <td>195-10</td>\n",
       "      <td>2014</td>\n",
       "      <td>2022-01-08</td>\n",
       "      <td>16.9800</td>\n",
       "      <td>11</td>\n",
       "      <td>19,000</td>\n",
       "    </tr>\n",
       "    <tr>\n",
       "      <th>4</th>\n",
       "      <td>11110</td>\n",
       "      <td>CS타워</td>\n",
       "      <td>서울특별시</td>\n",
       "      <td>종로구</td>\n",
       "      <td>충신동</td>\n",
       "      <td>62-2</td>\n",
       "      <td>2011</td>\n",
       "      <td>2022-01-11</td>\n",
       "      <td>22.1700</td>\n",
       "      <td>12</td>\n",
       "      <td>13,500</td>\n",
       "    </tr>\n",
       "    <tr>\n",
       "      <th>5</th>\n",
       "      <td>11110</td>\n",
       "      <td>아남1</td>\n",
       "      <td>서울특별시</td>\n",
       "      <td>종로구</td>\n",
       "      <td>명륜2가</td>\n",
       "      <td>4</td>\n",
       "      <td>1995</td>\n",
       "      <td>2022-01-19</td>\n",
       "      <td>84.9000</td>\n",
       "      <td>18</td>\n",
       "      <td>118,000</td>\n",
       "    </tr>\n",
       "    <tr>\n",
       "      <th>6</th>\n",
       "      <td>11110</td>\n",
       "      <td>종로아인스빌</td>\n",
       "      <td>서울특별시</td>\n",
       "      <td>종로구</td>\n",
       "      <td>숭인동</td>\n",
       "      <td>1392-1</td>\n",
       "      <td>2013</td>\n",
       "      <td>2022-01-06</td>\n",
       "      <td>12.1500</td>\n",
       "      <td>12</td>\n",
       "      <td>10,500</td>\n",
       "    </tr>\n",
       "    <tr>\n",
       "      <th>7</th>\n",
       "      <td>11110</td>\n",
       "      <td>삼전솔하임4차</td>\n",
       "      <td>서울특별시</td>\n",
       "      <td>종로구</td>\n",
       "      <td>숭인동</td>\n",
       "      <td>318-2</td>\n",
       "      <td>2014</td>\n",
       "      <td>2022-01-06</td>\n",
       "      <td>15.0900</td>\n",
       "      <td>11</td>\n",
       "      <td>15,700</td>\n",
       "    </tr>\n",
       "    <tr>\n",
       "      <th>8</th>\n",
       "      <td>11110</td>\n",
       "      <td>종로센트레빌</td>\n",
       "      <td>서울특별시</td>\n",
       "      <td>종로구</td>\n",
       "      <td>숭인동</td>\n",
       "      <td>2-1</td>\n",
       "      <td>2008</td>\n",
       "      <td>2022-01-08</td>\n",
       "      <td>84.9200</td>\n",
       "      <td>11</td>\n",
       "      <td>109,000</td>\n",
       "    </tr>\n",
       "    <tr>\n",
       "      <th>9</th>\n",
       "      <td>11110</td>\n",
       "      <td>동문타운</td>\n",
       "      <td>서울특별시</td>\n",
       "      <td>종로구</td>\n",
       "      <td>숭인동</td>\n",
       "      <td>181-105</td>\n",
       "      <td>2000</td>\n",
       "      <td>2022-01-15</td>\n",
       "      <td>59.5600</td>\n",
       "      <td>-1</td>\n",
       "      <td>54,000</td>\n",
       "    </tr>\n",
       "    <tr>\n",
       "      <th>10</th>\n",
       "      <td>11110</td>\n",
       "      <td>청운현대</td>\n",
       "      <td>서울특별시</td>\n",
       "      <td>종로구</td>\n",
       "      <td>청운동</td>\n",
       "      <td>56-45</td>\n",
       "      <td>2000</td>\n",
       "      <td>2021-01-14</td>\n",
       "      <td>129.7600</td>\n",
       "      <td>2</td>\n",
       "      <td>130,000</td>\n",
       "    </tr>\n",
       "    <tr>\n",
       "      <th>11</th>\n",
       "      <td>11110</td>\n",
       "      <td>광화문스페이스본(106동)</td>\n",
       "      <td>서울특별시</td>\n",
       "      <td>종로구</td>\n",
       "      <td>사직동</td>\n",
       "      <td>9-1</td>\n",
       "      <td>2008</td>\n",
       "      <td>2021-01-07</td>\n",
       "      <td>144.5200</td>\n",
       "      <td>6</td>\n",
       "      <td>150,000</td>\n",
       "    </tr>\n",
       "    <tr>\n",
       "      <th>12</th>\n",
       "      <td>11110</td>\n",
       "      <td>경희궁의아침2단지</td>\n",
       "      <td>서울특별시</td>\n",
       "      <td>종로구</td>\n",
       "      <td>내수동</td>\n",
       "      <td>71</td>\n",
       "      <td>2004</td>\n",
       "      <td>2021-01-15</td>\n",
       "      <td>174.5500</td>\n",
       "      <td>4</td>\n",
       "      <td>175,000</td>\n",
       "    </tr>\n",
       "    <tr>\n",
       "      <th>13</th>\n",
       "      <td>11110</td>\n",
       "      <td>경희궁의아침2단지</td>\n",
       "      <td>서울특별시</td>\n",
       "      <td>종로구</td>\n",
       "      <td>내수동</td>\n",
       "      <td>71</td>\n",
       "      <td>2004</td>\n",
       "      <td>2021-01-15</td>\n",
       "      <td>174.5500</td>\n",
       "      <td>4</td>\n",
       "      <td>175,000</td>\n",
       "    </tr>\n",
       "    <tr>\n",
       "      <th>14</th>\n",
       "      <td>11110</td>\n",
       "      <td>경희궁의아침3단지</td>\n",
       "      <td>서울특별시</td>\n",
       "      <td>종로구</td>\n",
       "      <td>내수동</td>\n",
       "      <td>72</td>\n",
       "      <td>2004</td>\n",
       "      <td>2021-01-17</td>\n",
       "      <td>123.1300</td>\n",
       "      <td>13</td>\n",
       "      <td>180,000</td>\n",
       "    </tr>\n",
       "    <tr>\n",
       "      <th>15</th>\n",
       "      <td>11110</td>\n",
       "      <td>경희궁의아침3단지</td>\n",
       "      <td>서울특별시</td>\n",
       "      <td>종로구</td>\n",
       "      <td>내수동</td>\n",
       "      <td>72</td>\n",
       "      <td>2004</td>\n",
       "      <td>2021-01-17</td>\n",
       "      <td>123.1300</td>\n",
       "      <td>13</td>\n",
       "      <td>180,000</td>\n",
       "    </tr>\n",
       "    <tr>\n",
       "      <th>16</th>\n",
       "      <td>11110</td>\n",
       "      <td>대성스카이렉스</td>\n",
       "      <td>서울특별시</td>\n",
       "      <td>종로구</td>\n",
       "      <td>견지동</td>\n",
       "      <td>110</td>\n",
       "      <td>2008</td>\n",
       "      <td>2021-01-25</td>\n",
       "      <td>149.8000</td>\n",
       "      <td>11</td>\n",
       "      <td>127,000</td>\n",
       "    </tr>\n",
       "    <tr>\n",
       "      <th>17</th>\n",
       "      <td>11110</td>\n",
       "      <td>현대뜨레비앙</td>\n",
       "      <td>서울특별시</td>\n",
       "      <td>종로구</td>\n",
       "      <td>익선동</td>\n",
       "      <td>55</td>\n",
       "      <td>2003</td>\n",
       "      <td>2021-01-07</td>\n",
       "      <td>45.5000</td>\n",
       "      <td>5</td>\n",
       "      <td>29,800</td>\n",
       "    </tr>\n",
       "    <tr>\n",
       "      <th>18</th>\n",
       "      <td>11110</td>\n",
       "      <td>현대뜨레비앙</td>\n",
       "      <td>서울특별시</td>\n",
       "      <td>종로구</td>\n",
       "      <td>익선동</td>\n",
       "      <td>55</td>\n",
       "      <td>2003</td>\n",
       "      <td>2021-01-26</td>\n",
       "      <td>45.5000</td>\n",
       "      <td>4</td>\n",
       "      <td>29,500</td>\n",
       "    </tr>\n",
       "    <tr>\n",
       "      <th>19</th>\n",
       "      <td>11110</td>\n",
       "      <td>효성쥬얼리시티</td>\n",
       "      <td>서울특별시</td>\n",
       "      <td>종로구</td>\n",
       "      <td>인의동</td>\n",
       "      <td>48-2</td>\n",
       "      <td>2006</td>\n",
       "      <td>2021-01-25</td>\n",
       "      <td>84.9800</td>\n",
       "      <td>9</td>\n",
       "      <td>86,500</td>\n",
       "    </tr>\n",
       "    <tr>\n",
       "      <th>20</th>\n",
       "      <td>11110</td>\n",
       "      <td>신동아블루아광화문의꿈</td>\n",
       "      <td>서울특별시</td>\n",
       "      <td>종로구</td>\n",
       "      <td>필운동</td>\n",
       "      <td>254</td>\n",
       "      <td>2007</td>\n",
       "      <td>2020-01-03</td>\n",
       "      <td>111.9700</td>\n",
       "      <td>6</td>\n",
       "      <td>100,000</td>\n",
       "    </tr>\n",
       "    <tr>\n",
       "      <th>21</th>\n",
       "      <td>11110</td>\n",
       "      <td>광화문스페이스본(106동)</td>\n",
       "      <td>서울특별시</td>\n",
       "      <td>종로구</td>\n",
       "      <td>사직동</td>\n",
       "      <td>9-1</td>\n",
       "      <td>2008</td>\n",
       "      <td>2020-01-02</td>\n",
       "      <td>163.3300</td>\n",
       "      <td>2</td>\n",
       "      <td>162,000</td>\n",
       "    </tr>\n",
       "    <tr>\n",
       "      <th>22</th>\n",
       "      <td>11110</td>\n",
       "      <td>세종로대우</td>\n",
       "      <td>서울특별시</td>\n",
       "      <td>종로구</td>\n",
       "      <td>내수동</td>\n",
       "      <td>167</td>\n",
       "      <td>1994</td>\n",
       "      <td>2020-01-06</td>\n",
       "      <td>109.9100</td>\n",
       "      <td>11</td>\n",
       "      <td>88,000</td>\n",
       "    </tr>\n",
       "    <tr>\n",
       "      <th>23</th>\n",
       "      <td>11110</td>\n",
       "      <td>킹스매너</td>\n",
       "      <td>서울특별시</td>\n",
       "      <td>종로구</td>\n",
       "      <td>내수동</td>\n",
       "      <td>110-15</td>\n",
       "      <td>2004</td>\n",
       "      <td>2020-01-09</td>\n",
       "      <td>194.4300</td>\n",
       "      <td>4</td>\n",
       "      <td>130,000</td>\n",
       "    </tr>\n",
       "    <tr>\n",
       "      <th>24</th>\n",
       "      <td>11110</td>\n",
       "      <td>경희궁파크팰리스</td>\n",
       "      <td>서울특별시</td>\n",
       "      <td>종로구</td>\n",
       "      <td>내수동</td>\n",
       "      <td>95</td>\n",
       "      <td>2003</td>\n",
       "      <td>2020-01-20</td>\n",
       "      <td>148.0900</td>\n",
       "      <td>8</td>\n",
       "      <td>149,000</td>\n",
       "    </tr>\n",
       "    <tr>\n",
       "      <th>25</th>\n",
       "      <td>11110</td>\n",
       "      <td>효성쥬얼리시티</td>\n",
       "      <td>서울특별시</td>\n",
       "      <td>종로구</td>\n",
       "      <td>인의동</td>\n",
       "      <td>48-2</td>\n",
       "      <td>2006</td>\n",
       "      <td>2020-01-10</td>\n",
       "      <td>84.7000</td>\n",
       "      <td>8</td>\n",
       "      <td>52,000</td>\n",
       "    </tr>\n",
       "    <tr>\n",
       "      <th>26</th>\n",
       "      <td>11110</td>\n",
       "      <td>효성쥬얼리시티</td>\n",
       "      <td>서울특별시</td>\n",
       "      <td>종로구</td>\n",
       "      <td>인의동</td>\n",
       "      <td>48-2</td>\n",
       "      <td>2006</td>\n",
       "      <td>2020-01-12</td>\n",
       "      <td>84.7000</td>\n",
       "      <td>14</td>\n",
       "      <td>69,000</td>\n",
       "    </tr>\n",
       "    <tr>\n",
       "      <th>27</th>\n",
       "      <td>11110</td>\n",
       "      <td>효성쥬얼리시티</td>\n",
       "      <td>서울특별시</td>\n",
       "      <td>종로구</td>\n",
       "      <td>인의동</td>\n",
       "      <td>48-2</td>\n",
       "      <td>2006</td>\n",
       "      <td>2020-01-15</td>\n",
       "      <td>84.7000</td>\n",
       "      <td>12</td>\n",
       "      <td>72,000</td>\n",
       "    </tr>\n",
       "    <tr>\n",
       "      <th>28</th>\n",
       "      <td>11110</td>\n",
       "      <td>효성쥬얼리시티</td>\n",
       "      <td>서울특별시</td>\n",
       "      <td>종로구</td>\n",
       "      <td>인의동</td>\n",
       "      <td>48-2</td>\n",
       "      <td>2006</td>\n",
       "      <td>2020-01-30</td>\n",
       "      <td>106.8100</td>\n",
       "      <td>11</td>\n",
       "      <td>84,800</td>\n",
       "    </tr>\n",
       "    <tr>\n",
       "      <th>29</th>\n",
       "      <td>11110</td>\n",
       "      <td>포레스트힐시티</td>\n",
       "      <td>서울특별시</td>\n",
       "      <td>종로구</td>\n",
       "      <td>효제동</td>\n",
       "      <td>65-2</td>\n",
       "      <td>2017</td>\n",
       "      <td>2020-01-10</td>\n",
       "      <td>22.0584</td>\n",
       "      <td>9</td>\n",
       "      <td>25,000</td>\n",
       "    </tr>\n",
       "  </tbody>\n",
       "</table>\n",
       "</div>"
      ],
      "text/plain": [
       "     지역코드             아파트    시도명  시군구   법정동       지번  건축년도         거래일   \n",
       "0   11110       경희궁의아침3단지  서울특별시  종로구   내수동       72  2004  2022-01-14  \\\n",
       "1   11110           아르젠종로  서울특별시  종로구   연지동    163-3  2015  2022-01-11   \n",
       "2   11110           이화에수풀  서울특별시  종로구   연건동   195-10  2014  2022-01-03   \n",
       "3   11110           이화에수풀  서울특별시  종로구   연건동   195-10  2014  2022-01-08   \n",
       "4   11110            CS타워  서울특별시  종로구   충신동     62-2  2011  2022-01-11   \n",
       "5   11110             아남1  서울특별시  종로구  명륜2가        4  1995  2022-01-19   \n",
       "6   11110          종로아인스빌  서울특별시  종로구   숭인동   1392-1  2013  2022-01-06   \n",
       "7   11110         삼전솔하임4차  서울특별시  종로구   숭인동    318-2  2014  2022-01-06   \n",
       "8   11110          종로센트레빌  서울특별시  종로구   숭인동      2-1  2008  2022-01-08   \n",
       "9   11110            동문타운  서울특별시  종로구   숭인동  181-105  2000  2022-01-15   \n",
       "10  11110            청운현대  서울특별시  종로구   청운동    56-45  2000  2021-01-14   \n",
       "11  11110  광화문스페이스본(106동)  서울특별시  종로구   사직동      9-1  2008  2021-01-07   \n",
       "12  11110       경희궁의아침2단지  서울특별시  종로구   내수동       71  2004  2021-01-15   \n",
       "13  11110       경희궁의아침2단지  서울특별시  종로구   내수동       71  2004  2021-01-15   \n",
       "14  11110       경희궁의아침3단지  서울특별시  종로구   내수동       72  2004  2021-01-17   \n",
       "15  11110       경희궁의아침3단지  서울특별시  종로구   내수동       72  2004  2021-01-17   \n",
       "16  11110         대성스카이렉스  서울특별시  종로구   견지동      110  2008  2021-01-25   \n",
       "17  11110          현대뜨레비앙  서울특별시  종로구   익선동       55  2003  2021-01-07   \n",
       "18  11110          현대뜨레비앙  서울특별시  종로구   익선동       55  2003  2021-01-26   \n",
       "19  11110         효성쥬얼리시티  서울특별시  종로구   인의동     48-2  2006  2021-01-25   \n",
       "20  11110     신동아블루아광화문의꿈  서울특별시  종로구   필운동      254  2007  2020-01-03   \n",
       "21  11110  광화문스페이스본(106동)  서울특별시  종로구   사직동      9-1  2008  2020-01-02   \n",
       "22  11110           세종로대우  서울특별시  종로구   내수동      167  1994  2020-01-06   \n",
       "23  11110            킹스매너  서울특별시  종로구   내수동   110-15  2004  2020-01-09   \n",
       "24  11110        경희궁파크팰리스  서울특별시  종로구   내수동       95  2003  2020-01-20   \n",
       "25  11110         효성쥬얼리시티  서울특별시  종로구   인의동     48-2  2006  2020-01-10   \n",
       "26  11110         효성쥬얼리시티  서울특별시  종로구   인의동     48-2  2006  2020-01-12   \n",
       "27  11110         효성쥬얼리시티  서울특별시  종로구   인의동     48-2  2006  2020-01-15   \n",
       "28  11110         효성쥬얼리시티  서울특별시  종로구   인의동     48-2  2006  2020-01-30   \n",
       "29  11110         포레스트힐시티  서울특별시  종로구   효제동     65-2  2017  2020-01-10   \n",
       "\n",
       "        전용면적   층     거래금액  \n",
       "0   150.4800   3  200,000  \n",
       "1    18.0200  10   20,000  \n",
       "2    16.9800   7   19,500  \n",
       "3    16.9800  11   19,000  \n",
       "4    22.1700  12   13,500  \n",
       "5    84.9000  18  118,000  \n",
       "6    12.1500  12   10,500  \n",
       "7    15.0900  11   15,700  \n",
       "8    84.9200  11  109,000  \n",
       "9    59.5600  -1   54,000  \n",
       "10  129.7600   2  130,000  \n",
       "11  144.5200   6  150,000  \n",
       "12  174.5500   4  175,000  \n",
       "13  174.5500   4  175,000  \n",
       "14  123.1300  13  180,000  \n",
       "15  123.1300  13  180,000  \n",
       "16  149.8000  11  127,000  \n",
       "17   45.5000   5   29,800  \n",
       "18   45.5000   4   29,500  \n",
       "19   84.9800   9   86,500  \n",
       "20  111.9700   6  100,000  \n",
       "21  163.3300   2  162,000  \n",
       "22  109.9100  11   88,000  \n",
       "23  194.4300   4  130,000  \n",
       "24  148.0900   8  149,000  \n",
       "25   84.7000   8   52,000  \n",
       "26   84.7000  14   69,000  \n",
       "27   84.7000  12   72,000  \n",
       "28  106.8100  11   84,800  \n",
       "29   22.0584   9   25,000  "
      ]
     },
     "execution_count": 11,
     "metadata": {},
     "output_type": "execute_result"
    }
   ],
   "source": [
    "dfAll"
   ]
  },
  {
   "cell_type": "code",
   "execution_count": 43,
   "id": "e076eb14",
   "metadata": {},
   "outputs": [],
   "source": [
    "## 중요"
   ]
  },
  {
   "cell_type": "code",
   "execution_count": 46,
   "id": "33e86cd6",
   "metadata": {},
   "outputs": [],
   "source": [
    "dfs = pd.read_excel(io = 'APT_Price_Seoul_2020_2022.xlsx',\n",
    "                    sheet_name = None,\n",
    "                    # usecols = range(1, 12),\n",
    "                    # skiprows = 3,\n",
    "                    nrows = 10)"
   ]
  },
  {
   "cell_type": "code",
   "execution_count": 121,
   "id": "242888e8",
   "metadata": {},
   "outputs": [
    {
     "data": {
      "text/html": [
       "<div>\n",
       "<style scoped>\n",
       "    .dataframe tbody tr th:only-of-type {\n",
       "        vertical-align: middle;\n",
       "    }\n",
       "\n",
       "    .dataframe tbody tr th {\n",
       "        vertical-align: top;\n",
       "    }\n",
       "\n",
       "    .dataframe thead th {\n",
       "        text-align: right;\n",
       "    }\n",
       "</style>\n",
       "<table border=\"1\" class=\"dataframe\">\n",
       "  <thead>\n",
       "    <tr style=\"text-align: right;\">\n",
       "      <th></th>\n",
       "      <th>Unnamed: 0</th>\n",
       "      <th>데이터셋 소개</th>\n",
       "      <th>Unnamed: 2</th>\n",
       "      <th>Unnamed: 3</th>\n",
       "      <th>Unnamed: 4</th>\n",
       "      <th>Unnamed: 5</th>\n",
       "      <th>Unnamed: 6</th>\n",
       "      <th>Unnamed: 7</th>\n",
       "      <th>Unnamed: 8</th>\n",
       "      <th>Unnamed: 9</th>\n",
       "      <th>Unnamed: 10</th>\n",
       "      <th>Unnamed: 11</th>\n",
       "    </tr>\n",
       "  </thead>\n",
       "  <tbody>\n",
       "    <tr>\n",
       "      <th>0</th>\n",
       "      <td>NaN</td>\n",
       "      <td>- 2022년 1월 1일부터 12월 31일까지 서울특별시에서 매매된 아파트 가격 데...</td>\n",
       "      <td>NaN</td>\n",
       "      <td>NaN</td>\n",
       "      <td>NaN</td>\n",
       "      <td>NaN</td>\n",
       "      <td>NaN</td>\n",
       "      <td>NaN</td>\n",
       "      <td>NaN</td>\n",
       "      <td>NaN</td>\n",
       "      <td>NaN</td>\n",
       "      <td>NaN</td>\n",
       "    </tr>\n",
       "    <tr>\n",
       "      <th>1</th>\n",
       "      <td>NaN</td>\n",
       "      <td>NaN</td>\n",
       "      <td>NaN</td>\n",
       "      <td>NaN</td>\n",
       "      <td>NaN</td>\n",
       "      <td>NaN</td>\n",
       "      <td>NaN</td>\n",
       "      <td>NaN</td>\n",
       "      <td>NaN</td>\n",
       "      <td>NaN</td>\n",
       "      <td>NaN</td>\n",
       "      <td>NaN</td>\n",
       "    </tr>\n",
       "    <tr>\n",
       "      <th>2</th>\n",
       "      <td>NaN</td>\n",
       "      <td>지역코드</td>\n",
       "      <td>아파트</td>\n",
       "      <td>시도명</td>\n",
       "      <td>시군구</td>\n",
       "      <td>법정동</td>\n",
       "      <td>지번</td>\n",
       "      <td>건축년도</td>\n",
       "      <td>거래일</td>\n",
       "      <td>전용면적</td>\n",
       "      <td>층</td>\n",
       "      <td>거래금액</td>\n",
       "    </tr>\n",
       "    <tr>\n",
       "      <th>3</th>\n",
       "      <td>NaN</td>\n",
       "      <td>11110</td>\n",
       "      <td>경희궁의아침3단지</td>\n",
       "      <td>서울특별시</td>\n",
       "      <td>종로구</td>\n",
       "      <td>내수동</td>\n",
       "      <td>72</td>\n",
       "      <td>2004</td>\n",
       "      <td>2022-01-14</td>\n",
       "      <td>150.48</td>\n",
       "      <td>3</td>\n",
       "      <td>200,000</td>\n",
       "    </tr>\n",
       "    <tr>\n",
       "      <th>4</th>\n",
       "      <td>NaN</td>\n",
       "      <td>11110</td>\n",
       "      <td>아르젠종로</td>\n",
       "      <td>서울특별시</td>\n",
       "      <td>종로구</td>\n",
       "      <td>연지동</td>\n",
       "      <td>163-3</td>\n",
       "      <td>2015</td>\n",
       "      <td>2022-01-11</td>\n",
       "      <td>18.02</td>\n",
       "      <td>10</td>\n",
       "      <td>20,000</td>\n",
       "    </tr>\n",
       "    <tr>\n",
       "      <th>5</th>\n",
       "      <td>NaN</td>\n",
       "      <td>11110</td>\n",
       "      <td>이화에수풀</td>\n",
       "      <td>서울특별시</td>\n",
       "      <td>종로구</td>\n",
       "      <td>연건동</td>\n",
       "      <td>195-10</td>\n",
       "      <td>2014</td>\n",
       "      <td>2022-01-03</td>\n",
       "      <td>16.98</td>\n",
       "      <td>7</td>\n",
       "      <td>19,500</td>\n",
       "    </tr>\n",
       "    <tr>\n",
       "      <th>6</th>\n",
       "      <td>NaN</td>\n",
       "      <td>11110</td>\n",
       "      <td>이화에수풀</td>\n",
       "      <td>서울특별시</td>\n",
       "      <td>종로구</td>\n",
       "      <td>연건동</td>\n",
       "      <td>195-10</td>\n",
       "      <td>2014</td>\n",
       "      <td>2022-01-08</td>\n",
       "      <td>16.98</td>\n",
       "      <td>11</td>\n",
       "      <td>19,000</td>\n",
       "    </tr>\n",
       "    <tr>\n",
       "      <th>7</th>\n",
       "      <td>NaN</td>\n",
       "      <td>11110</td>\n",
       "      <td>CS타워</td>\n",
       "      <td>서울특별시</td>\n",
       "      <td>종로구</td>\n",
       "      <td>충신동</td>\n",
       "      <td>62-2</td>\n",
       "      <td>2011</td>\n",
       "      <td>2022-01-11</td>\n",
       "      <td>22.17</td>\n",
       "      <td>12</td>\n",
       "      <td>13,500</td>\n",
       "    </tr>\n",
       "    <tr>\n",
       "      <th>8</th>\n",
       "      <td>NaN</td>\n",
       "      <td>11110</td>\n",
       "      <td>아남1</td>\n",
       "      <td>서울특별시</td>\n",
       "      <td>종로구</td>\n",
       "      <td>명륜2가</td>\n",
       "      <td>4</td>\n",
       "      <td>1995</td>\n",
       "      <td>2022-01-19</td>\n",
       "      <td>84.9</td>\n",
       "      <td>18</td>\n",
       "      <td>118,000</td>\n",
       "    </tr>\n",
       "    <tr>\n",
       "      <th>9</th>\n",
       "      <td>NaN</td>\n",
       "      <td>11110</td>\n",
       "      <td>종로아인스빌</td>\n",
       "      <td>서울특별시</td>\n",
       "      <td>종로구</td>\n",
       "      <td>숭인동</td>\n",
       "      <td>1392-1</td>\n",
       "      <td>2013</td>\n",
       "      <td>2022-01-06</td>\n",
       "      <td>12.15</td>\n",
       "      <td>12</td>\n",
       "      <td>10,500</td>\n",
       "    </tr>\n",
       "  </tbody>\n",
       "</table>\n",
       "</div>"
      ],
      "text/plain": [
       "   Unnamed: 0                                            데이터셋 소개 Unnamed: 2   \n",
       "0         NaN  - 2022년 1월 1일부터 12월 31일까지 서울특별시에서 매매된 아파트 가격 데...        NaN  \\\n",
       "1         NaN                                                NaN        NaN   \n",
       "2         NaN                                               지역코드        아파트   \n",
       "3         NaN                                              11110  경희궁의아침3단지   \n",
       "4         NaN                                              11110      아르젠종로   \n",
       "5         NaN                                              11110      이화에수풀   \n",
       "6         NaN                                              11110      이화에수풀   \n",
       "7         NaN                                              11110       CS타워   \n",
       "8         NaN                                              11110        아남1   \n",
       "9         NaN                                              11110     종로아인스빌   \n",
       "\n",
       "  Unnamed: 3 Unnamed: 4 Unnamed: 5 Unnamed: 6 Unnamed: 7  Unnamed: 8   \n",
       "0        NaN        NaN        NaN        NaN        NaN         NaN  \\\n",
       "1        NaN        NaN        NaN        NaN        NaN         NaN   \n",
       "2        시도명        시군구        법정동         지번       건축년도         거래일   \n",
       "3      서울특별시        종로구        내수동         72       2004  2022-01-14   \n",
       "4      서울특별시        종로구        연지동      163-3       2015  2022-01-11   \n",
       "5      서울특별시        종로구        연건동     195-10       2014  2022-01-03   \n",
       "6      서울특별시        종로구        연건동     195-10       2014  2022-01-08   \n",
       "7      서울특별시        종로구        충신동       62-2       2011  2022-01-11   \n",
       "8      서울특별시        종로구       명륜2가          4       1995  2022-01-19   \n",
       "9      서울특별시        종로구        숭인동     1392-1       2013  2022-01-06   \n",
       "\n",
       "  Unnamed: 9 Unnamed: 10 Unnamed: 11  \n",
       "0        NaN         NaN         NaN  \n",
       "1        NaN         NaN         NaN  \n",
       "2       전용면적           층        거래금액  \n",
       "3     150.48           3     200,000  \n",
       "4      18.02          10      20,000  \n",
       "5      16.98           7      19,500  \n",
       "6      16.98          11      19,000  \n",
       "7      22.17          12      13,500  \n",
       "8       84.9          18     118,000  \n",
       "9      12.15          12      10,500  "
      ]
     },
     "execution_count": 121,
     "metadata": {},
     "output_type": "execute_result"
    }
   ],
   "source": [
    "dfs['2022년']"
   ]
  },
  {
   "cell_type": "code",
   "execution_count": 47,
   "id": "ac84d28f",
   "metadata": {},
   "outputs": [
    {
     "data": {
      "text/plain": [
       "{'2022년':    Unnamed: 0                                            데이터셋 소개 Unnamed: 2   \n",
       " 0         NaN  - 2022년 1월 1일부터 12월 31일까지 서울특별시에서 매매된 아파트 가격 데...        NaN  \\\n",
       " 1         NaN                                                NaN        NaN   \n",
       " 2         NaN                                               지역코드        아파트   \n",
       " 3         NaN                                              11110  경희궁의아침3단지   \n",
       " 4         NaN                                              11110      아르젠종로   \n",
       " 5         NaN                                              11110      이화에수풀   \n",
       " 6         NaN                                              11110      이화에수풀   \n",
       " 7         NaN                                              11110       CS타워   \n",
       " 8         NaN                                              11110        아남1   \n",
       " 9         NaN                                              11110     종로아인스빌   \n",
       " \n",
       "   Unnamed: 3 Unnamed: 4 Unnamed: 5 Unnamed: 6 Unnamed: 7  Unnamed: 8   \n",
       " 0        NaN        NaN        NaN        NaN        NaN         NaN  \\\n",
       " 1        NaN        NaN        NaN        NaN        NaN         NaN   \n",
       " 2        시도명        시군구        법정동         지번       건축년도         거래일   \n",
       " 3      서울특별시        종로구        내수동         72       2004  2022-01-14   \n",
       " 4      서울특별시        종로구        연지동      163-3       2015  2022-01-11   \n",
       " 5      서울특별시        종로구        연건동     195-10       2014  2022-01-03   \n",
       " 6      서울특별시        종로구        연건동     195-10       2014  2022-01-08   \n",
       " 7      서울특별시        종로구        충신동       62-2       2011  2022-01-11   \n",
       " 8      서울특별시        종로구       명륜2가          4       1995  2022-01-19   \n",
       " 9      서울특별시        종로구        숭인동     1392-1       2013  2022-01-06   \n",
       " \n",
       "   Unnamed: 9 Unnamed: 10 Unnamed: 11  \n",
       " 0        NaN         NaN         NaN  \n",
       " 1        NaN         NaN         NaN  \n",
       " 2       전용면적           층        거래금액  \n",
       " 3     150.48           3     200,000  \n",
       " 4      18.02          10      20,000  \n",
       " 5      16.98           7      19,500  \n",
       " 6      16.98          11      19,000  \n",
       " 7      22.17          12      13,500  \n",
       " 8       84.9          18     118,000  \n",
       " 9      12.15          12      10,500  ,\n",
       " '2021년':    Unnamed: 0                                            데이터셋 소개   \n",
       " 0         NaN  - 2021년 1월 1일부터 12월 31일까지 서울특별시에서 매매된 아파트 가격 데...  \\\n",
       " 1         NaN                                                NaN   \n",
       " 2         NaN                                               지역코드   \n",
       " 3         NaN                                              11110   \n",
       " 4         NaN                                              11110   \n",
       " 5         NaN                                              11110   \n",
       " 6         NaN                                              11110   \n",
       " 7         NaN                                              11110   \n",
       " 8         NaN                                              11110   \n",
       " 9         NaN                                              11110   \n",
       " \n",
       "        Unnamed: 2 Unnamed: 3 Unnamed: 4 Unnamed: 5 Unnamed: 6 Unnamed: 7   \n",
       " 0             NaN        NaN        NaN        NaN        NaN        NaN  \\\n",
       " 1             NaN        NaN        NaN        NaN        NaN        NaN   \n",
       " 2             아파트        시도명        시군구        법정동         지번       건축년도   \n",
       " 3            청운현대      서울특별시        종로구        청운동      56-45       2000   \n",
       " 4  광화문스페이스본(106동)      서울특별시        종로구        사직동        9-1       2008   \n",
       " 5       경희궁의아침2단지      서울특별시        종로구        내수동         71       2004   \n",
       " 6       경희궁의아침2단지      서울특별시        종로구        내수동         71       2004   \n",
       " 7       경희궁의아침3단지      서울특별시        종로구        내수동         72       2004   \n",
       " 8       경희궁의아침3단지      서울특별시        종로구        내수동         72       2004   \n",
       " 9         대성스카이렉스      서울특별시        종로구        견지동        110       2008   \n",
       " \n",
       "    Unnamed: 8 Unnamed: 9 Unnamed: 10 Unnamed: 11  \n",
       " 0         NaN        NaN         NaN         NaN  \n",
       " 1         NaN        NaN         NaN         NaN  \n",
       " 2         거래일       전용면적           층        거래금액  \n",
       " 3  2021-01-14     129.76           2     130,000  \n",
       " 4  2021-01-07     144.52           6     150,000  \n",
       " 5  2021-01-15     174.55           4     175,000  \n",
       " 6  2021-01-15     174.55           4     175,000  \n",
       " 7  2021-01-17     123.13          13     180,000  \n",
       " 8  2021-01-17     123.13          13     180,000  \n",
       " 9  2021-01-25      149.8          11     127,000  ,\n",
       " '2020년':    Unnamed: 0                                            데이터셋 소개   \n",
       " 0         NaN  - 2020년 1월 1일부터 12월 31일까지 서울특별시에서 매매된 아파트 가격 데...  \\\n",
       " 1         NaN                                                NaN   \n",
       " 2         NaN                                               지역코드   \n",
       " 3         NaN                                              11110   \n",
       " 4         NaN                                              11110   \n",
       " 5         NaN                                              11110   \n",
       " 6         NaN                                              11110   \n",
       " 7         NaN                                              11110   \n",
       " 8         NaN                                              11110   \n",
       " 9         NaN                                              11110   \n",
       " \n",
       "        Unnamed: 2 Unnamed: 3 Unnamed: 4 Unnamed: 5 Unnamed: 6 Unnamed: 7   \n",
       " 0             NaN        NaN        NaN        NaN        NaN        NaN  \\\n",
       " 1             NaN        NaN        NaN        NaN        NaN        NaN   \n",
       " 2             아파트        시도명        시군구        법정동         지번       건축년도   \n",
       " 3     신동아블루아광화문의꿈      서울특별시        종로구        필운동        254       2007   \n",
       " 4  광화문스페이스본(106동)      서울특별시        종로구        사직동        9-1       2008   \n",
       " 5           세종로대우      서울특별시        종로구        내수동        167       1994   \n",
       " 6            킹스매너      서울특별시        종로구        내수동     110-15       2004   \n",
       " 7        경희궁파크팰리스      서울특별시        종로구        내수동         95       2003   \n",
       " 8         효성쥬얼리시티      서울특별시        종로구        인의동       48-2       2006   \n",
       " 9         효성쥬얼리시티      서울특별시        종로구        인의동       48-2       2006   \n",
       " \n",
       "    Unnamed: 8 Unnamed: 9 Unnamed: 10 Unnamed: 11  \n",
       " 0         NaN        NaN         NaN         NaN  \n",
       " 1         NaN        NaN         NaN         NaN  \n",
       " 2         거래일       전용면적           층        거래금액  \n",
       " 3  2020-01-03     111.97           6     100,000  \n",
       " 4  2020-01-02     163.33           2     162,000  \n",
       " 5  2020-01-06     109.91          11      88,000  \n",
       " 6  2020-01-09     194.43           4     130,000  \n",
       " 7  2020-01-20     148.09           8     149,000  \n",
       " 8  2020-01-10       84.7           8      52,000  \n",
       " 9  2020-01-12       84.7          14      69,000  ,\n",
       " '2020~2022년':     지역코드             아파트    시도명  시군구  법정동      지번  건축년도        거래일      전용면적   \n",
       " 0  11110     신동아블루아광화문의꿈  서울특별시  종로구  필운동     254  2007 2020-01-03  111.9700  \\\n",
       " 1  11110  광화문스페이스본(106동)  서울특별시  종로구  사직동     9-1  2008 2020-01-02  163.3300   \n",
       " 2  11110           세종로대우  서울특별시  종로구  내수동     167  1994 2020-01-06  109.9100   \n",
       " 3  11110            킹스매너  서울특별시  종로구  내수동  110-15  2004 2020-01-09  194.4300   \n",
       " 4  11110        경희궁파크팰리스  서울특별시  종로구  내수동      95  2003 2020-01-20  148.0900   \n",
       " 5  11110         효성쥬얼리시티  서울특별시  종로구  인의동    48-2  2006 2020-01-10   84.7000   \n",
       " 6  11110         효성쥬얼리시티  서울특별시  종로구  인의동    48-2  2006 2020-01-12   84.7000   \n",
       " 7  11110         효성쥬얼리시티  서울특별시  종로구  인의동    48-2  2006 2020-01-15   84.7000   \n",
       " 8  11110         효성쥬얼리시티  서울특별시  종로구  인의동    48-2  2006 2020-01-30  106.8100   \n",
       " 9  11110         포레스트힐시티  서울특별시  종로구  효제동    65-2  2017 2020-01-10   22.0584   \n",
       " \n",
       "     층     거래금액  \n",
       " 0   6  100,000  \n",
       " 1   2  162,000  \n",
       " 2  11   88,000  \n",
       " 3   4  130,000  \n",
       " 4   8  149,000  \n",
       " 5   8   52,000  \n",
       " 6  14   69,000  \n",
       " 7  12   72,000  \n",
       " 8  11   84,800  \n",
       " 9   9   25,000  }"
      ]
     },
     "execution_count": 47,
     "metadata": {},
     "output_type": "execute_result"
    }
   ],
   "source": [
    "dfs"
   ]
  },
  {
   "cell_type": "code",
   "execution_count": 117,
   "id": "18b927b1",
   "metadata": {},
   "outputs": [
    {
     "data": {
      "text/plain": [
       "['2022년', '2021년', '2020년', '2020~2022년']"
      ]
     },
     "execution_count": 117,
     "metadata": {},
     "output_type": "execute_result"
    }
   ],
   "source": [
    "list(dfs.keys())"
   ]
  },
  {
   "cell_type": "code",
   "execution_count": 122,
   "id": "8c1f45b4",
   "metadata": {},
   "outputs": [],
   "source": [
    "dfAll = pd.DataFrame()\n",
    "for key in list(dfs.keys()):\n",
    "    df = dfs[key]\n",
    "    dfAll = pd.concat(objs = [dfAll, df], ignore_index = True)"
   ]
  },
  {
   "cell_type": "code",
   "execution_count": 123,
   "id": "cd01798e",
   "metadata": {
    "collapsed": true
   },
   "outputs": [
    {
     "data": {
      "text/html": [
       "<div>\n",
       "<style scoped>\n",
       "    .dataframe tbody tr th:only-of-type {\n",
       "        vertical-align: middle;\n",
       "    }\n",
       "\n",
       "    .dataframe tbody tr th {\n",
       "        vertical-align: top;\n",
       "    }\n",
       "\n",
       "    .dataframe thead th {\n",
       "        text-align: right;\n",
       "    }\n",
       "</style>\n",
       "<table border=\"1\" class=\"dataframe\">\n",
       "  <thead>\n",
       "    <tr style=\"text-align: right;\">\n",
       "      <th></th>\n",
       "      <th>Unnamed: 0</th>\n",
       "      <th>데이터셋 소개</th>\n",
       "      <th>Unnamed: 2</th>\n",
       "      <th>Unnamed: 3</th>\n",
       "      <th>Unnamed: 4</th>\n",
       "      <th>Unnamed: 5</th>\n",
       "      <th>Unnamed: 6</th>\n",
       "      <th>Unnamed: 7</th>\n",
       "      <th>Unnamed: 8</th>\n",
       "      <th>Unnamed: 9</th>\n",
       "      <th>...</th>\n",
       "      <th>아파트</th>\n",
       "      <th>시도명</th>\n",
       "      <th>시군구</th>\n",
       "      <th>법정동</th>\n",
       "      <th>지번</th>\n",
       "      <th>건축년도</th>\n",
       "      <th>거래일</th>\n",
       "      <th>전용면적</th>\n",
       "      <th>층</th>\n",
       "      <th>거래금액</th>\n",
       "    </tr>\n",
       "  </thead>\n",
       "  <tbody>\n",
       "    <tr>\n",
       "      <th>0</th>\n",
       "      <td>NaN</td>\n",
       "      <td>- 2022년 1월 1일부터 12월 31일까지 서울특별시에서 매매된 아파트 가격 데...</td>\n",
       "      <td>NaN</td>\n",
       "      <td>NaN</td>\n",
       "      <td>NaN</td>\n",
       "      <td>NaN</td>\n",
       "      <td>NaN</td>\n",
       "      <td>NaN</td>\n",
       "      <td>NaN</td>\n",
       "      <td>NaN</td>\n",
       "      <td>...</td>\n",
       "      <td>NaN</td>\n",
       "      <td>NaN</td>\n",
       "      <td>NaN</td>\n",
       "      <td>NaN</td>\n",
       "      <td>NaN</td>\n",
       "      <td>NaN</td>\n",
       "      <td>NaT</td>\n",
       "      <td>NaN</td>\n",
       "      <td>NaN</td>\n",
       "      <td>NaN</td>\n",
       "    </tr>\n",
       "    <tr>\n",
       "      <th>1</th>\n",
       "      <td>NaN</td>\n",
       "      <td>NaN</td>\n",
       "      <td>NaN</td>\n",
       "      <td>NaN</td>\n",
       "      <td>NaN</td>\n",
       "      <td>NaN</td>\n",
       "      <td>NaN</td>\n",
       "      <td>NaN</td>\n",
       "      <td>NaN</td>\n",
       "      <td>NaN</td>\n",
       "      <td>...</td>\n",
       "      <td>NaN</td>\n",
       "      <td>NaN</td>\n",
       "      <td>NaN</td>\n",
       "      <td>NaN</td>\n",
       "      <td>NaN</td>\n",
       "      <td>NaN</td>\n",
       "      <td>NaT</td>\n",
       "      <td>NaN</td>\n",
       "      <td>NaN</td>\n",
       "      <td>NaN</td>\n",
       "    </tr>\n",
       "    <tr>\n",
       "      <th>2</th>\n",
       "      <td>NaN</td>\n",
       "      <td>지역코드</td>\n",
       "      <td>아파트</td>\n",
       "      <td>시도명</td>\n",
       "      <td>시군구</td>\n",
       "      <td>법정동</td>\n",
       "      <td>지번</td>\n",
       "      <td>건축년도</td>\n",
       "      <td>거래일</td>\n",
       "      <td>전용면적</td>\n",
       "      <td>...</td>\n",
       "      <td>NaN</td>\n",
       "      <td>NaN</td>\n",
       "      <td>NaN</td>\n",
       "      <td>NaN</td>\n",
       "      <td>NaN</td>\n",
       "      <td>NaN</td>\n",
       "      <td>NaT</td>\n",
       "      <td>NaN</td>\n",
       "      <td>NaN</td>\n",
       "      <td>NaN</td>\n",
       "    </tr>\n",
       "    <tr>\n",
       "      <th>3</th>\n",
       "      <td>NaN</td>\n",
       "      <td>11110</td>\n",
       "      <td>경희궁의아침3단지</td>\n",
       "      <td>서울특별시</td>\n",
       "      <td>종로구</td>\n",
       "      <td>내수동</td>\n",
       "      <td>72</td>\n",
       "      <td>2004</td>\n",
       "      <td>2022-01-14</td>\n",
       "      <td>150.48</td>\n",
       "      <td>...</td>\n",
       "      <td>NaN</td>\n",
       "      <td>NaN</td>\n",
       "      <td>NaN</td>\n",
       "      <td>NaN</td>\n",
       "      <td>NaN</td>\n",
       "      <td>NaN</td>\n",
       "      <td>NaT</td>\n",
       "      <td>NaN</td>\n",
       "      <td>NaN</td>\n",
       "      <td>NaN</td>\n",
       "    </tr>\n",
       "    <tr>\n",
       "      <th>4</th>\n",
       "      <td>NaN</td>\n",
       "      <td>11110</td>\n",
       "      <td>아르젠종로</td>\n",
       "      <td>서울특별시</td>\n",
       "      <td>종로구</td>\n",
       "      <td>연지동</td>\n",
       "      <td>163-3</td>\n",
       "      <td>2015</td>\n",
       "      <td>2022-01-11</td>\n",
       "      <td>18.02</td>\n",
       "      <td>...</td>\n",
       "      <td>NaN</td>\n",
       "      <td>NaN</td>\n",
       "      <td>NaN</td>\n",
       "      <td>NaN</td>\n",
       "      <td>NaN</td>\n",
       "      <td>NaN</td>\n",
       "      <td>NaT</td>\n",
       "      <td>NaN</td>\n",
       "      <td>NaN</td>\n",
       "      <td>NaN</td>\n",
       "    </tr>\n",
       "    <tr>\n",
       "      <th>5</th>\n",
       "      <td>NaN</td>\n",
       "      <td>11110</td>\n",
       "      <td>이화에수풀</td>\n",
       "      <td>서울특별시</td>\n",
       "      <td>종로구</td>\n",
       "      <td>연건동</td>\n",
       "      <td>195-10</td>\n",
       "      <td>2014</td>\n",
       "      <td>2022-01-03</td>\n",
       "      <td>16.98</td>\n",
       "      <td>...</td>\n",
       "      <td>NaN</td>\n",
       "      <td>NaN</td>\n",
       "      <td>NaN</td>\n",
       "      <td>NaN</td>\n",
       "      <td>NaN</td>\n",
       "      <td>NaN</td>\n",
       "      <td>NaT</td>\n",
       "      <td>NaN</td>\n",
       "      <td>NaN</td>\n",
       "      <td>NaN</td>\n",
       "    </tr>\n",
       "    <tr>\n",
       "      <th>6</th>\n",
       "      <td>NaN</td>\n",
       "      <td>11110</td>\n",
       "      <td>이화에수풀</td>\n",
       "      <td>서울특별시</td>\n",
       "      <td>종로구</td>\n",
       "      <td>연건동</td>\n",
       "      <td>195-10</td>\n",
       "      <td>2014</td>\n",
       "      <td>2022-01-08</td>\n",
       "      <td>16.98</td>\n",
       "      <td>...</td>\n",
       "      <td>NaN</td>\n",
       "      <td>NaN</td>\n",
       "      <td>NaN</td>\n",
       "      <td>NaN</td>\n",
       "      <td>NaN</td>\n",
       "      <td>NaN</td>\n",
       "      <td>NaT</td>\n",
       "      <td>NaN</td>\n",
       "      <td>NaN</td>\n",
       "      <td>NaN</td>\n",
       "    </tr>\n",
       "    <tr>\n",
       "      <th>7</th>\n",
       "      <td>NaN</td>\n",
       "      <td>11110</td>\n",
       "      <td>CS타워</td>\n",
       "      <td>서울특별시</td>\n",
       "      <td>종로구</td>\n",
       "      <td>충신동</td>\n",
       "      <td>62-2</td>\n",
       "      <td>2011</td>\n",
       "      <td>2022-01-11</td>\n",
       "      <td>22.17</td>\n",
       "      <td>...</td>\n",
       "      <td>NaN</td>\n",
       "      <td>NaN</td>\n",
       "      <td>NaN</td>\n",
       "      <td>NaN</td>\n",
       "      <td>NaN</td>\n",
       "      <td>NaN</td>\n",
       "      <td>NaT</td>\n",
       "      <td>NaN</td>\n",
       "      <td>NaN</td>\n",
       "      <td>NaN</td>\n",
       "    </tr>\n",
       "    <tr>\n",
       "      <th>8</th>\n",
       "      <td>NaN</td>\n",
       "      <td>11110</td>\n",
       "      <td>아남1</td>\n",
       "      <td>서울특별시</td>\n",
       "      <td>종로구</td>\n",
       "      <td>명륜2가</td>\n",
       "      <td>4</td>\n",
       "      <td>1995</td>\n",
       "      <td>2022-01-19</td>\n",
       "      <td>84.9</td>\n",
       "      <td>...</td>\n",
       "      <td>NaN</td>\n",
       "      <td>NaN</td>\n",
       "      <td>NaN</td>\n",
       "      <td>NaN</td>\n",
       "      <td>NaN</td>\n",
       "      <td>NaN</td>\n",
       "      <td>NaT</td>\n",
       "      <td>NaN</td>\n",
       "      <td>NaN</td>\n",
       "      <td>NaN</td>\n",
       "    </tr>\n",
       "    <tr>\n",
       "      <th>9</th>\n",
       "      <td>NaN</td>\n",
       "      <td>11110</td>\n",
       "      <td>종로아인스빌</td>\n",
       "      <td>서울특별시</td>\n",
       "      <td>종로구</td>\n",
       "      <td>숭인동</td>\n",
       "      <td>1392-1</td>\n",
       "      <td>2013</td>\n",
       "      <td>2022-01-06</td>\n",
       "      <td>12.15</td>\n",
       "      <td>...</td>\n",
       "      <td>NaN</td>\n",
       "      <td>NaN</td>\n",
       "      <td>NaN</td>\n",
       "      <td>NaN</td>\n",
       "      <td>NaN</td>\n",
       "      <td>NaN</td>\n",
       "      <td>NaT</td>\n",
       "      <td>NaN</td>\n",
       "      <td>NaN</td>\n",
       "      <td>NaN</td>\n",
       "    </tr>\n",
       "    <tr>\n",
       "      <th>10</th>\n",
       "      <td>NaN</td>\n",
       "      <td>- 2021년 1월 1일부터 12월 31일까지 서울특별시에서 매매된 아파트 가격 데...</td>\n",
       "      <td>NaN</td>\n",
       "      <td>NaN</td>\n",
       "      <td>NaN</td>\n",
       "      <td>NaN</td>\n",
       "      <td>NaN</td>\n",
       "      <td>NaN</td>\n",
       "      <td>NaN</td>\n",
       "      <td>NaN</td>\n",
       "      <td>...</td>\n",
       "      <td>NaN</td>\n",
       "      <td>NaN</td>\n",
       "      <td>NaN</td>\n",
       "      <td>NaN</td>\n",
       "      <td>NaN</td>\n",
       "      <td>NaN</td>\n",
       "      <td>NaT</td>\n",
       "      <td>NaN</td>\n",
       "      <td>NaN</td>\n",
       "      <td>NaN</td>\n",
       "    </tr>\n",
       "    <tr>\n",
       "      <th>11</th>\n",
       "      <td>NaN</td>\n",
       "      <td>NaN</td>\n",
       "      <td>NaN</td>\n",
       "      <td>NaN</td>\n",
       "      <td>NaN</td>\n",
       "      <td>NaN</td>\n",
       "      <td>NaN</td>\n",
       "      <td>NaN</td>\n",
       "      <td>NaN</td>\n",
       "      <td>NaN</td>\n",
       "      <td>...</td>\n",
       "      <td>NaN</td>\n",
       "      <td>NaN</td>\n",
       "      <td>NaN</td>\n",
       "      <td>NaN</td>\n",
       "      <td>NaN</td>\n",
       "      <td>NaN</td>\n",
       "      <td>NaT</td>\n",
       "      <td>NaN</td>\n",
       "      <td>NaN</td>\n",
       "      <td>NaN</td>\n",
       "    </tr>\n",
       "    <tr>\n",
       "      <th>12</th>\n",
       "      <td>NaN</td>\n",
       "      <td>지역코드</td>\n",
       "      <td>아파트</td>\n",
       "      <td>시도명</td>\n",
       "      <td>시군구</td>\n",
       "      <td>법정동</td>\n",
       "      <td>지번</td>\n",
       "      <td>건축년도</td>\n",
       "      <td>거래일</td>\n",
       "      <td>전용면적</td>\n",
       "      <td>...</td>\n",
       "      <td>NaN</td>\n",
       "      <td>NaN</td>\n",
       "      <td>NaN</td>\n",
       "      <td>NaN</td>\n",
       "      <td>NaN</td>\n",
       "      <td>NaN</td>\n",
       "      <td>NaT</td>\n",
       "      <td>NaN</td>\n",
       "      <td>NaN</td>\n",
       "      <td>NaN</td>\n",
       "    </tr>\n",
       "    <tr>\n",
       "      <th>13</th>\n",
       "      <td>NaN</td>\n",
       "      <td>11110</td>\n",
       "      <td>청운현대</td>\n",
       "      <td>서울특별시</td>\n",
       "      <td>종로구</td>\n",
       "      <td>청운동</td>\n",
       "      <td>56-45</td>\n",
       "      <td>2000</td>\n",
       "      <td>2021-01-14</td>\n",
       "      <td>129.76</td>\n",
       "      <td>...</td>\n",
       "      <td>NaN</td>\n",
       "      <td>NaN</td>\n",
       "      <td>NaN</td>\n",
       "      <td>NaN</td>\n",
       "      <td>NaN</td>\n",
       "      <td>NaN</td>\n",
       "      <td>NaT</td>\n",
       "      <td>NaN</td>\n",
       "      <td>NaN</td>\n",
       "      <td>NaN</td>\n",
       "    </tr>\n",
       "    <tr>\n",
       "      <th>14</th>\n",
       "      <td>NaN</td>\n",
       "      <td>11110</td>\n",
       "      <td>광화문스페이스본(106동)</td>\n",
       "      <td>서울특별시</td>\n",
       "      <td>종로구</td>\n",
       "      <td>사직동</td>\n",
       "      <td>9-1</td>\n",
       "      <td>2008</td>\n",
       "      <td>2021-01-07</td>\n",
       "      <td>144.52</td>\n",
       "      <td>...</td>\n",
       "      <td>NaN</td>\n",
       "      <td>NaN</td>\n",
       "      <td>NaN</td>\n",
       "      <td>NaN</td>\n",
       "      <td>NaN</td>\n",
       "      <td>NaN</td>\n",
       "      <td>NaT</td>\n",
       "      <td>NaN</td>\n",
       "      <td>NaN</td>\n",
       "      <td>NaN</td>\n",
       "    </tr>\n",
       "    <tr>\n",
       "      <th>15</th>\n",
       "      <td>NaN</td>\n",
       "      <td>11110</td>\n",
       "      <td>경희궁의아침2단지</td>\n",
       "      <td>서울특별시</td>\n",
       "      <td>종로구</td>\n",
       "      <td>내수동</td>\n",
       "      <td>71</td>\n",
       "      <td>2004</td>\n",
       "      <td>2021-01-15</td>\n",
       "      <td>174.55</td>\n",
       "      <td>...</td>\n",
       "      <td>NaN</td>\n",
       "      <td>NaN</td>\n",
       "      <td>NaN</td>\n",
       "      <td>NaN</td>\n",
       "      <td>NaN</td>\n",
       "      <td>NaN</td>\n",
       "      <td>NaT</td>\n",
       "      <td>NaN</td>\n",
       "      <td>NaN</td>\n",
       "      <td>NaN</td>\n",
       "    </tr>\n",
       "    <tr>\n",
       "      <th>16</th>\n",
       "      <td>NaN</td>\n",
       "      <td>11110</td>\n",
       "      <td>경희궁의아침2단지</td>\n",
       "      <td>서울특별시</td>\n",
       "      <td>종로구</td>\n",
       "      <td>내수동</td>\n",
       "      <td>71</td>\n",
       "      <td>2004</td>\n",
       "      <td>2021-01-15</td>\n",
       "      <td>174.55</td>\n",
       "      <td>...</td>\n",
       "      <td>NaN</td>\n",
       "      <td>NaN</td>\n",
       "      <td>NaN</td>\n",
       "      <td>NaN</td>\n",
       "      <td>NaN</td>\n",
       "      <td>NaN</td>\n",
       "      <td>NaT</td>\n",
       "      <td>NaN</td>\n",
       "      <td>NaN</td>\n",
       "      <td>NaN</td>\n",
       "    </tr>\n",
       "    <tr>\n",
       "      <th>17</th>\n",
       "      <td>NaN</td>\n",
       "      <td>11110</td>\n",
       "      <td>경희궁의아침3단지</td>\n",
       "      <td>서울특별시</td>\n",
       "      <td>종로구</td>\n",
       "      <td>내수동</td>\n",
       "      <td>72</td>\n",
       "      <td>2004</td>\n",
       "      <td>2021-01-17</td>\n",
       "      <td>123.13</td>\n",
       "      <td>...</td>\n",
       "      <td>NaN</td>\n",
       "      <td>NaN</td>\n",
       "      <td>NaN</td>\n",
       "      <td>NaN</td>\n",
       "      <td>NaN</td>\n",
       "      <td>NaN</td>\n",
       "      <td>NaT</td>\n",
       "      <td>NaN</td>\n",
       "      <td>NaN</td>\n",
       "      <td>NaN</td>\n",
       "    </tr>\n",
       "    <tr>\n",
       "      <th>18</th>\n",
       "      <td>NaN</td>\n",
       "      <td>11110</td>\n",
       "      <td>경희궁의아침3단지</td>\n",
       "      <td>서울특별시</td>\n",
       "      <td>종로구</td>\n",
       "      <td>내수동</td>\n",
       "      <td>72</td>\n",
       "      <td>2004</td>\n",
       "      <td>2021-01-17</td>\n",
       "      <td>123.13</td>\n",
       "      <td>...</td>\n",
       "      <td>NaN</td>\n",
       "      <td>NaN</td>\n",
       "      <td>NaN</td>\n",
       "      <td>NaN</td>\n",
       "      <td>NaN</td>\n",
       "      <td>NaN</td>\n",
       "      <td>NaT</td>\n",
       "      <td>NaN</td>\n",
       "      <td>NaN</td>\n",
       "      <td>NaN</td>\n",
       "    </tr>\n",
       "    <tr>\n",
       "      <th>19</th>\n",
       "      <td>NaN</td>\n",
       "      <td>11110</td>\n",
       "      <td>대성스카이렉스</td>\n",
       "      <td>서울특별시</td>\n",
       "      <td>종로구</td>\n",
       "      <td>견지동</td>\n",
       "      <td>110</td>\n",
       "      <td>2008</td>\n",
       "      <td>2021-01-25</td>\n",
       "      <td>149.8</td>\n",
       "      <td>...</td>\n",
       "      <td>NaN</td>\n",
       "      <td>NaN</td>\n",
       "      <td>NaN</td>\n",
       "      <td>NaN</td>\n",
       "      <td>NaN</td>\n",
       "      <td>NaN</td>\n",
       "      <td>NaT</td>\n",
       "      <td>NaN</td>\n",
       "      <td>NaN</td>\n",
       "      <td>NaN</td>\n",
       "    </tr>\n",
       "    <tr>\n",
       "      <th>20</th>\n",
       "      <td>NaN</td>\n",
       "      <td>- 2020년 1월 1일부터 12월 31일까지 서울특별시에서 매매된 아파트 가격 데...</td>\n",
       "      <td>NaN</td>\n",
       "      <td>NaN</td>\n",
       "      <td>NaN</td>\n",
       "      <td>NaN</td>\n",
       "      <td>NaN</td>\n",
       "      <td>NaN</td>\n",
       "      <td>NaN</td>\n",
       "      <td>NaN</td>\n",
       "      <td>...</td>\n",
       "      <td>NaN</td>\n",
       "      <td>NaN</td>\n",
       "      <td>NaN</td>\n",
       "      <td>NaN</td>\n",
       "      <td>NaN</td>\n",
       "      <td>NaN</td>\n",
       "      <td>NaT</td>\n",
       "      <td>NaN</td>\n",
       "      <td>NaN</td>\n",
       "      <td>NaN</td>\n",
       "    </tr>\n",
       "    <tr>\n",
       "      <th>21</th>\n",
       "      <td>NaN</td>\n",
       "      <td>NaN</td>\n",
       "      <td>NaN</td>\n",
       "      <td>NaN</td>\n",
       "      <td>NaN</td>\n",
       "      <td>NaN</td>\n",
       "      <td>NaN</td>\n",
       "      <td>NaN</td>\n",
       "      <td>NaN</td>\n",
       "      <td>NaN</td>\n",
       "      <td>...</td>\n",
       "      <td>NaN</td>\n",
       "      <td>NaN</td>\n",
       "      <td>NaN</td>\n",
       "      <td>NaN</td>\n",
       "      <td>NaN</td>\n",
       "      <td>NaN</td>\n",
       "      <td>NaT</td>\n",
       "      <td>NaN</td>\n",
       "      <td>NaN</td>\n",
       "      <td>NaN</td>\n",
       "    </tr>\n",
       "    <tr>\n",
       "      <th>22</th>\n",
       "      <td>NaN</td>\n",
       "      <td>지역코드</td>\n",
       "      <td>아파트</td>\n",
       "      <td>시도명</td>\n",
       "      <td>시군구</td>\n",
       "      <td>법정동</td>\n",
       "      <td>지번</td>\n",
       "      <td>건축년도</td>\n",
       "      <td>거래일</td>\n",
       "      <td>전용면적</td>\n",
       "      <td>...</td>\n",
       "      <td>NaN</td>\n",
       "      <td>NaN</td>\n",
       "      <td>NaN</td>\n",
       "      <td>NaN</td>\n",
       "      <td>NaN</td>\n",
       "      <td>NaN</td>\n",
       "      <td>NaT</td>\n",
       "      <td>NaN</td>\n",
       "      <td>NaN</td>\n",
       "      <td>NaN</td>\n",
       "    </tr>\n",
       "    <tr>\n",
       "      <th>23</th>\n",
       "      <td>NaN</td>\n",
       "      <td>11110</td>\n",
       "      <td>신동아블루아광화문의꿈</td>\n",
       "      <td>서울특별시</td>\n",
       "      <td>종로구</td>\n",
       "      <td>필운동</td>\n",
       "      <td>254</td>\n",
       "      <td>2007</td>\n",
       "      <td>2020-01-03</td>\n",
       "      <td>111.97</td>\n",
       "      <td>...</td>\n",
       "      <td>NaN</td>\n",
       "      <td>NaN</td>\n",
       "      <td>NaN</td>\n",
       "      <td>NaN</td>\n",
       "      <td>NaN</td>\n",
       "      <td>NaN</td>\n",
       "      <td>NaT</td>\n",
       "      <td>NaN</td>\n",
       "      <td>NaN</td>\n",
       "      <td>NaN</td>\n",
       "    </tr>\n",
       "    <tr>\n",
       "      <th>24</th>\n",
       "      <td>NaN</td>\n",
       "      <td>11110</td>\n",
       "      <td>광화문스페이스본(106동)</td>\n",
       "      <td>서울특별시</td>\n",
       "      <td>종로구</td>\n",
       "      <td>사직동</td>\n",
       "      <td>9-1</td>\n",
       "      <td>2008</td>\n",
       "      <td>2020-01-02</td>\n",
       "      <td>163.33</td>\n",
       "      <td>...</td>\n",
       "      <td>NaN</td>\n",
       "      <td>NaN</td>\n",
       "      <td>NaN</td>\n",
       "      <td>NaN</td>\n",
       "      <td>NaN</td>\n",
       "      <td>NaN</td>\n",
       "      <td>NaT</td>\n",
       "      <td>NaN</td>\n",
       "      <td>NaN</td>\n",
       "      <td>NaN</td>\n",
       "    </tr>\n",
       "    <tr>\n",
       "      <th>25</th>\n",
       "      <td>NaN</td>\n",
       "      <td>11110</td>\n",
       "      <td>세종로대우</td>\n",
       "      <td>서울특별시</td>\n",
       "      <td>종로구</td>\n",
       "      <td>내수동</td>\n",
       "      <td>167</td>\n",
       "      <td>1994</td>\n",
       "      <td>2020-01-06</td>\n",
       "      <td>109.91</td>\n",
       "      <td>...</td>\n",
       "      <td>NaN</td>\n",
       "      <td>NaN</td>\n",
       "      <td>NaN</td>\n",
       "      <td>NaN</td>\n",
       "      <td>NaN</td>\n",
       "      <td>NaN</td>\n",
       "      <td>NaT</td>\n",
       "      <td>NaN</td>\n",
       "      <td>NaN</td>\n",
       "      <td>NaN</td>\n",
       "    </tr>\n",
       "    <tr>\n",
       "      <th>26</th>\n",
       "      <td>NaN</td>\n",
       "      <td>11110</td>\n",
       "      <td>킹스매너</td>\n",
       "      <td>서울특별시</td>\n",
       "      <td>종로구</td>\n",
       "      <td>내수동</td>\n",
       "      <td>110-15</td>\n",
       "      <td>2004</td>\n",
       "      <td>2020-01-09</td>\n",
       "      <td>194.43</td>\n",
       "      <td>...</td>\n",
       "      <td>NaN</td>\n",
       "      <td>NaN</td>\n",
       "      <td>NaN</td>\n",
       "      <td>NaN</td>\n",
       "      <td>NaN</td>\n",
       "      <td>NaN</td>\n",
       "      <td>NaT</td>\n",
       "      <td>NaN</td>\n",
       "      <td>NaN</td>\n",
       "      <td>NaN</td>\n",
       "    </tr>\n",
       "    <tr>\n",
       "      <th>27</th>\n",
       "      <td>NaN</td>\n",
       "      <td>11110</td>\n",
       "      <td>경희궁파크팰리스</td>\n",
       "      <td>서울특별시</td>\n",
       "      <td>종로구</td>\n",
       "      <td>내수동</td>\n",
       "      <td>95</td>\n",
       "      <td>2003</td>\n",
       "      <td>2020-01-20</td>\n",
       "      <td>148.09</td>\n",
       "      <td>...</td>\n",
       "      <td>NaN</td>\n",
       "      <td>NaN</td>\n",
       "      <td>NaN</td>\n",
       "      <td>NaN</td>\n",
       "      <td>NaN</td>\n",
       "      <td>NaN</td>\n",
       "      <td>NaT</td>\n",
       "      <td>NaN</td>\n",
       "      <td>NaN</td>\n",
       "      <td>NaN</td>\n",
       "    </tr>\n",
       "    <tr>\n",
       "      <th>28</th>\n",
       "      <td>NaN</td>\n",
       "      <td>11110</td>\n",
       "      <td>효성쥬얼리시티</td>\n",
       "      <td>서울특별시</td>\n",
       "      <td>종로구</td>\n",
       "      <td>인의동</td>\n",
       "      <td>48-2</td>\n",
       "      <td>2006</td>\n",
       "      <td>2020-01-10</td>\n",
       "      <td>84.7</td>\n",
       "      <td>...</td>\n",
       "      <td>NaN</td>\n",
       "      <td>NaN</td>\n",
       "      <td>NaN</td>\n",
       "      <td>NaN</td>\n",
       "      <td>NaN</td>\n",
       "      <td>NaN</td>\n",
       "      <td>NaT</td>\n",
       "      <td>NaN</td>\n",
       "      <td>NaN</td>\n",
       "      <td>NaN</td>\n",
       "    </tr>\n",
       "    <tr>\n",
       "      <th>29</th>\n",
       "      <td>NaN</td>\n",
       "      <td>11110</td>\n",
       "      <td>효성쥬얼리시티</td>\n",
       "      <td>서울특별시</td>\n",
       "      <td>종로구</td>\n",
       "      <td>인의동</td>\n",
       "      <td>48-2</td>\n",
       "      <td>2006</td>\n",
       "      <td>2020-01-12</td>\n",
       "      <td>84.7</td>\n",
       "      <td>...</td>\n",
       "      <td>NaN</td>\n",
       "      <td>NaN</td>\n",
       "      <td>NaN</td>\n",
       "      <td>NaN</td>\n",
       "      <td>NaN</td>\n",
       "      <td>NaN</td>\n",
       "      <td>NaT</td>\n",
       "      <td>NaN</td>\n",
       "      <td>NaN</td>\n",
       "      <td>NaN</td>\n",
       "    </tr>\n",
       "    <tr>\n",
       "      <th>30</th>\n",
       "      <td>NaN</td>\n",
       "      <td>NaN</td>\n",
       "      <td>NaN</td>\n",
       "      <td>NaN</td>\n",
       "      <td>NaN</td>\n",
       "      <td>NaN</td>\n",
       "      <td>NaN</td>\n",
       "      <td>NaN</td>\n",
       "      <td>NaN</td>\n",
       "      <td>NaN</td>\n",
       "      <td>...</td>\n",
       "      <td>신동아블루아광화문의꿈</td>\n",
       "      <td>서울특별시</td>\n",
       "      <td>종로구</td>\n",
       "      <td>필운동</td>\n",
       "      <td>254</td>\n",
       "      <td>2007.0</td>\n",
       "      <td>2020-01-03</td>\n",
       "      <td>111.9700</td>\n",
       "      <td>6.0</td>\n",
       "      <td>100,000</td>\n",
       "    </tr>\n",
       "    <tr>\n",
       "      <th>31</th>\n",
       "      <td>NaN</td>\n",
       "      <td>NaN</td>\n",
       "      <td>NaN</td>\n",
       "      <td>NaN</td>\n",
       "      <td>NaN</td>\n",
       "      <td>NaN</td>\n",
       "      <td>NaN</td>\n",
       "      <td>NaN</td>\n",
       "      <td>NaN</td>\n",
       "      <td>NaN</td>\n",
       "      <td>...</td>\n",
       "      <td>광화문스페이스본(106동)</td>\n",
       "      <td>서울특별시</td>\n",
       "      <td>종로구</td>\n",
       "      <td>사직동</td>\n",
       "      <td>9-1</td>\n",
       "      <td>2008.0</td>\n",
       "      <td>2020-01-02</td>\n",
       "      <td>163.3300</td>\n",
       "      <td>2.0</td>\n",
       "      <td>162,000</td>\n",
       "    </tr>\n",
       "    <tr>\n",
       "      <th>32</th>\n",
       "      <td>NaN</td>\n",
       "      <td>NaN</td>\n",
       "      <td>NaN</td>\n",
       "      <td>NaN</td>\n",
       "      <td>NaN</td>\n",
       "      <td>NaN</td>\n",
       "      <td>NaN</td>\n",
       "      <td>NaN</td>\n",
       "      <td>NaN</td>\n",
       "      <td>NaN</td>\n",
       "      <td>...</td>\n",
       "      <td>세종로대우</td>\n",
       "      <td>서울특별시</td>\n",
       "      <td>종로구</td>\n",
       "      <td>내수동</td>\n",
       "      <td>167</td>\n",
       "      <td>1994.0</td>\n",
       "      <td>2020-01-06</td>\n",
       "      <td>109.9100</td>\n",
       "      <td>11.0</td>\n",
       "      <td>88,000</td>\n",
       "    </tr>\n",
       "    <tr>\n",
       "      <th>33</th>\n",
       "      <td>NaN</td>\n",
       "      <td>NaN</td>\n",
       "      <td>NaN</td>\n",
       "      <td>NaN</td>\n",
       "      <td>NaN</td>\n",
       "      <td>NaN</td>\n",
       "      <td>NaN</td>\n",
       "      <td>NaN</td>\n",
       "      <td>NaN</td>\n",
       "      <td>NaN</td>\n",
       "      <td>...</td>\n",
       "      <td>킹스매너</td>\n",
       "      <td>서울특별시</td>\n",
       "      <td>종로구</td>\n",
       "      <td>내수동</td>\n",
       "      <td>110-15</td>\n",
       "      <td>2004.0</td>\n",
       "      <td>2020-01-09</td>\n",
       "      <td>194.4300</td>\n",
       "      <td>4.0</td>\n",
       "      <td>130,000</td>\n",
       "    </tr>\n",
       "    <tr>\n",
       "      <th>34</th>\n",
       "      <td>NaN</td>\n",
       "      <td>NaN</td>\n",
       "      <td>NaN</td>\n",
       "      <td>NaN</td>\n",
       "      <td>NaN</td>\n",
       "      <td>NaN</td>\n",
       "      <td>NaN</td>\n",
       "      <td>NaN</td>\n",
       "      <td>NaN</td>\n",
       "      <td>NaN</td>\n",
       "      <td>...</td>\n",
       "      <td>경희궁파크팰리스</td>\n",
       "      <td>서울특별시</td>\n",
       "      <td>종로구</td>\n",
       "      <td>내수동</td>\n",
       "      <td>95</td>\n",
       "      <td>2003.0</td>\n",
       "      <td>2020-01-20</td>\n",
       "      <td>148.0900</td>\n",
       "      <td>8.0</td>\n",
       "      <td>149,000</td>\n",
       "    </tr>\n",
       "    <tr>\n",
       "      <th>35</th>\n",
       "      <td>NaN</td>\n",
       "      <td>NaN</td>\n",
       "      <td>NaN</td>\n",
       "      <td>NaN</td>\n",
       "      <td>NaN</td>\n",
       "      <td>NaN</td>\n",
       "      <td>NaN</td>\n",
       "      <td>NaN</td>\n",
       "      <td>NaN</td>\n",
       "      <td>NaN</td>\n",
       "      <td>...</td>\n",
       "      <td>효성쥬얼리시티</td>\n",
       "      <td>서울특별시</td>\n",
       "      <td>종로구</td>\n",
       "      <td>인의동</td>\n",
       "      <td>48-2</td>\n",
       "      <td>2006.0</td>\n",
       "      <td>2020-01-10</td>\n",
       "      <td>84.7000</td>\n",
       "      <td>8.0</td>\n",
       "      <td>52,000</td>\n",
       "    </tr>\n",
       "    <tr>\n",
       "      <th>36</th>\n",
       "      <td>NaN</td>\n",
       "      <td>NaN</td>\n",
       "      <td>NaN</td>\n",
       "      <td>NaN</td>\n",
       "      <td>NaN</td>\n",
       "      <td>NaN</td>\n",
       "      <td>NaN</td>\n",
       "      <td>NaN</td>\n",
       "      <td>NaN</td>\n",
       "      <td>NaN</td>\n",
       "      <td>...</td>\n",
       "      <td>효성쥬얼리시티</td>\n",
       "      <td>서울특별시</td>\n",
       "      <td>종로구</td>\n",
       "      <td>인의동</td>\n",
       "      <td>48-2</td>\n",
       "      <td>2006.0</td>\n",
       "      <td>2020-01-12</td>\n",
       "      <td>84.7000</td>\n",
       "      <td>14.0</td>\n",
       "      <td>69,000</td>\n",
       "    </tr>\n",
       "    <tr>\n",
       "      <th>37</th>\n",
       "      <td>NaN</td>\n",
       "      <td>NaN</td>\n",
       "      <td>NaN</td>\n",
       "      <td>NaN</td>\n",
       "      <td>NaN</td>\n",
       "      <td>NaN</td>\n",
       "      <td>NaN</td>\n",
       "      <td>NaN</td>\n",
       "      <td>NaN</td>\n",
       "      <td>NaN</td>\n",
       "      <td>...</td>\n",
       "      <td>효성쥬얼리시티</td>\n",
       "      <td>서울특별시</td>\n",
       "      <td>종로구</td>\n",
       "      <td>인의동</td>\n",
       "      <td>48-2</td>\n",
       "      <td>2006.0</td>\n",
       "      <td>2020-01-15</td>\n",
       "      <td>84.7000</td>\n",
       "      <td>12.0</td>\n",
       "      <td>72,000</td>\n",
       "    </tr>\n",
       "    <tr>\n",
       "      <th>38</th>\n",
       "      <td>NaN</td>\n",
       "      <td>NaN</td>\n",
       "      <td>NaN</td>\n",
       "      <td>NaN</td>\n",
       "      <td>NaN</td>\n",
       "      <td>NaN</td>\n",
       "      <td>NaN</td>\n",
       "      <td>NaN</td>\n",
       "      <td>NaN</td>\n",
       "      <td>NaN</td>\n",
       "      <td>...</td>\n",
       "      <td>효성쥬얼리시티</td>\n",
       "      <td>서울특별시</td>\n",
       "      <td>종로구</td>\n",
       "      <td>인의동</td>\n",
       "      <td>48-2</td>\n",
       "      <td>2006.0</td>\n",
       "      <td>2020-01-30</td>\n",
       "      <td>106.8100</td>\n",
       "      <td>11.0</td>\n",
       "      <td>84,800</td>\n",
       "    </tr>\n",
       "    <tr>\n",
       "      <th>39</th>\n",
       "      <td>NaN</td>\n",
       "      <td>NaN</td>\n",
       "      <td>NaN</td>\n",
       "      <td>NaN</td>\n",
       "      <td>NaN</td>\n",
       "      <td>NaN</td>\n",
       "      <td>NaN</td>\n",
       "      <td>NaN</td>\n",
       "      <td>NaN</td>\n",
       "      <td>NaN</td>\n",
       "      <td>...</td>\n",
       "      <td>포레스트힐시티</td>\n",
       "      <td>서울특별시</td>\n",
       "      <td>종로구</td>\n",
       "      <td>효제동</td>\n",
       "      <td>65-2</td>\n",
       "      <td>2017.0</td>\n",
       "      <td>2020-01-10</td>\n",
       "      <td>22.0584</td>\n",
       "      <td>9.0</td>\n",
       "      <td>25,000</td>\n",
       "    </tr>\n",
       "  </tbody>\n",
       "</table>\n",
       "<p>40 rows × 23 columns</p>\n",
       "</div>"
      ],
      "text/plain": [
       "    Unnamed: 0                                            데이터셋 소개   \n",
       "0          NaN  - 2022년 1월 1일부터 12월 31일까지 서울특별시에서 매매된 아파트 가격 데...  \\\n",
       "1          NaN                                                NaN   \n",
       "2          NaN                                               지역코드   \n",
       "3          NaN                                              11110   \n",
       "4          NaN                                              11110   \n",
       "5          NaN                                              11110   \n",
       "6          NaN                                              11110   \n",
       "7          NaN                                              11110   \n",
       "8          NaN                                              11110   \n",
       "9          NaN                                              11110   \n",
       "10         NaN  - 2021년 1월 1일부터 12월 31일까지 서울특별시에서 매매된 아파트 가격 데...   \n",
       "11         NaN                                                NaN   \n",
       "12         NaN                                               지역코드   \n",
       "13         NaN                                              11110   \n",
       "14         NaN                                              11110   \n",
       "15         NaN                                              11110   \n",
       "16         NaN                                              11110   \n",
       "17         NaN                                              11110   \n",
       "18         NaN                                              11110   \n",
       "19         NaN                                              11110   \n",
       "20         NaN  - 2020년 1월 1일부터 12월 31일까지 서울특별시에서 매매된 아파트 가격 데...   \n",
       "21         NaN                                                NaN   \n",
       "22         NaN                                               지역코드   \n",
       "23         NaN                                              11110   \n",
       "24         NaN                                              11110   \n",
       "25         NaN                                              11110   \n",
       "26         NaN                                              11110   \n",
       "27         NaN                                              11110   \n",
       "28         NaN                                              11110   \n",
       "29         NaN                                              11110   \n",
       "30         NaN                                                NaN   \n",
       "31         NaN                                                NaN   \n",
       "32         NaN                                                NaN   \n",
       "33         NaN                                                NaN   \n",
       "34         NaN                                                NaN   \n",
       "35         NaN                                                NaN   \n",
       "36         NaN                                                NaN   \n",
       "37         NaN                                                NaN   \n",
       "38         NaN                                                NaN   \n",
       "39         NaN                                                NaN   \n",
       "\n",
       "        Unnamed: 2 Unnamed: 3 Unnamed: 4 Unnamed: 5 Unnamed: 6 Unnamed: 7   \n",
       "0              NaN        NaN        NaN        NaN        NaN        NaN  \\\n",
       "1              NaN        NaN        NaN        NaN        NaN        NaN   \n",
       "2              아파트        시도명        시군구        법정동         지번       건축년도   \n",
       "3        경희궁의아침3단지      서울특별시        종로구        내수동         72       2004   \n",
       "4            아르젠종로      서울특별시        종로구        연지동      163-3       2015   \n",
       "5            이화에수풀      서울특별시        종로구        연건동     195-10       2014   \n",
       "6            이화에수풀      서울특별시        종로구        연건동     195-10       2014   \n",
       "7             CS타워      서울특별시        종로구        충신동       62-2       2011   \n",
       "8              아남1      서울특별시        종로구       명륜2가          4       1995   \n",
       "9           종로아인스빌      서울특별시        종로구        숭인동     1392-1       2013   \n",
       "10             NaN        NaN        NaN        NaN        NaN        NaN   \n",
       "11             NaN        NaN        NaN        NaN        NaN        NaN   \n",
       "12             아파트        시도명        시군구        법정동         지번       건축년도   \n",
       "13            청운현대      서울특별시        종로구        청운동      56-45       2000   \n",
       "14  광화문스페이스본(106동)      서울특별시        종로구        사직동        9-1       2008   \n",
       "15       경희궁의아침2단지      서울특별시        종로구        내수동         71       2004   \n",
       "16       경희궁의아침2단지      서울특별시        종로구        내수동         71       2004   \n",
       "17       경희궁의아침3단지      서울특별시        종로구        내수동         72       2004   \n",
       "18       경희궁의아침3단지      서울특별시        종로구        내수동         72       2004   \n",
       "19         대성스카이렉스      서울특별시        종로구        견지동        110       2008   \n",
       "20             NaN        NaN        NaN        NaN        NaN        NaN   \n",
       "21             NaN        NaN        NaN        NaN        NaN        NaN   \n",
       "22             아파트        시도명        시군구        법정동         지번       건축년도   \n",
       "23     신동아블루아광화문의꿈      서울특별시        종로구        필운동        254       2007   \n",
       "24  광화문스페이스본(106동)      서울특별시        종로구        사직동        9-1       2008   \n",
       "25           세종로대우      서울특별시        종로구        내수동        167       1994   \n",
       "26            킹스매너      서울특별시        종로구        내수동     110-15       2004   \n",
       "27        경희궁파크팰리스      서울특별시        종로구        내수동         95       2003   \n",
       "28         효성쥬얼리시티      서울특별시        종로구        인의동       48-2       2006   \n",
       "29         효성쥬얼리시티      서울특별시        종로구        인의동       48-2       2006   \n",
       "30             NaN        NaN        NaN        NaN        NaN        NaN   \n",
       "31             NaN        NaN        NaN        NaN        NaN        NaN   \n",
       "32             NaN        NaN        NaN        NaN        NaN        NaN   \n",
       "33             NaN        NaN        NaN        NaN        NaN        NaN   \n",
       "34             NaN        NaN        NaN        NaN        NaN        NaN   \n",
       "35             NaN        NaN        NaN        NaN        NaN        NaN   \n",
       "36             NaN        NaN        NaN        NaN        NaN        NaN   \n",
       "37             NaN        NaN        NaN        NaN        NaN        NaN   \n",
       "38             NaN        NaN        NaN        NaN        NaN        NaN   \n",
       "39             NaN        NaN        NaN        NaN        NaN        NaN   \n",
       "\n",
       "    Unnamed: 8 Unnamed: 9  ...             아파트    시도명  시군구  법정동      지번   \n",
       "0          NaN        NaN  ...             NaN    NaN  NaN  NaN     NaN  \\\n",
       "1          NaN        NaN  ...             NaN    NaN  NaN  NaN     NaN   \n",
       "2          거래일       전용면적  ...             NaN    NaN  NaN  NaN     NaN   \n",
       "3   2022-01-14     150.48  ...             NaN    NaN  NaN  NaN     NaN   \n",
       "4   2022-01-11      18.02  ...             NaN    NaN  NaN  NaN     NaN   \n",
       "5   2022-01-03      16.98  ...             NaN    NaN  NaN  NaN     NaN   \n",
       "6   2022-01-08      16.98  ...             NaN    NaN  NaN  NaN     NaN   \n",
       "7   2022-01-11      22.17  ...             NaN    NaN  NaN  NaN     NaN   \n",
       "8   2022-01-19       84.9  ...             NaN    NaN  NaN  NaN     NaN   \n",
       "9   2022-01-06      12.15  ...             NaN    NaN  NaN  NaN     NaN   \n",
       "10         NaN        NaN  ...             NaN    NaN  NaN  NaN     NaN   \n",
       "11         NaN        NaN  ...             NaN    NaN  NaN  NaN     NaN   \n",
       "12         거래일       전용면적  ...             NaN    NaN  NaN  NaN     NaN   \n",
       "13  2021-01-14     129.76  ...             NaN    NaN  NaN  NaN     NaN   \n",
       "14  2021-01-07     144.52  ...             NaN    NaN  NaN  NaN     NaN   \n",
       "15  2021-01-15     174.55  ...             NaN    NaN  NaN  NaN     NaN   \n",
       "16  2021-01-15     174.55  ...             NaN    NaN  NaN  NaN     NaN   \n",
       "17  2021-01-17     123.13  ...             NaN    NaN  NaN  NaN     NaN   \n",
       "18  2021-01-17     123.13  ...             NaN    NaN  NaN  NaN     NaN   \n",
       "19  2021-01-25      149.8  ...             NaN    NaN  NaN  NaN     NaN   \n",
       "20         NaN        NaN  ...             NaN    NaN  NaN  NaN     NaN   \n",
       "21         NaN        NaN  ...             NaN    NaN  NaN  NaN     NaN   \n",
       "22         거래일       전용면적  ...             NaN    NaN  NaN  NaN     NaN   \n",
       "23  2020-01-03     111.97  ...             NaN    NaN  NaN  NaN     NaN   \n",
       "24  2020-01-02     163.33  ...             NaN    NaN  NaN  NaN     NaN   \n",
       "25  2020-01-06     109.91  ...             NaN    NaN  NaN  NaN     NaN   \n",
       "26  2020-01-09     194.43  ...             NaN    NaN  NaN  NaN     NaN   \n",
       "27  2020-01-20     148.09  ...             NaN    NaN  NaN  NaN     NaN   \n",
       "28  2020-01-10       84.7  ...             NaN    NaN  NaN  NaN     NaN   \n",
       "29  2020-01-12       84.7  ...             NaN    NaN  NaN  NaN     NaN   \n",
       "30         NaN        NaN  ...     신동아블루아광화문의꿈  서울특별시  종로구  필운동     254   \n",
       "31         NaN        NaN  ...  광화문스페이스본(106동)  서울특별시  종로구  사직동     9-1   \n",
       "32         NaN        NaN  ...           세종로대우  서울특별시  종로구  내수동     167   \n",
       "33         NaN        NaN  ...            킹스매너  서울특별시  종로구  내수동  110-15   \n",
       "34         NaN        NaN  ...        경희궁파크팰리스  서울특별시  종로구  내수동      95   \n",
       "35         NaN        NaN  ...         효성쥬얼리시티  서울특별시  종로구  인의동    48-2   \n",
       "36         NaN        NaN  ...         효성쥬얼리시티  서울특별시  종로구  인의동    48-2   \n",
       "37         NaN        NaN  ...         효성쥬얼리시티  서울특별시  종로구  인의동    48-2   \n",
       "38         NaN        NaN  ...         효성쥬얼리시티  서울특별시  종로구  인의동    48-2   \n",
       "39         NaN        NaN  ...         포레스트힐시티  서울특별시  종로구  효제동    65-2   \n",
       "\n",
       "      건축년도        거래일      전용면적     층     거래금액  \n",
       "0      NaN        NaT       NaN   NaN      NaN  \n",
       "1      NaN        NaT       NaN   NaN      NaN  \n",
       "2      NaN        NaT       NaN   NaN      NaN  \n",
       "3      NaN        NaT       NaN   NaN      NaN  \n",
       "4      NaN        NaT       NaN   NaN      NaN  \n",
       "5      NaN        NaT       NaN   NaN      NaN  \n",
       "6      NaN        NaT       NaN   NaN      NaN  \n",
       "7      NaN        NaT       NaN   NaN      NaN  \n",
       "8      NaN        NaT       NaN   NaN      NaN  \n",
       "9      NaN        NaT       NaN   NaN      NaN  \n",
       "10     NaN        NaT       NaN   NaN      NaN  \n",
       "11     NaN        NaT       NaN   NaN      NaN  \n",
       "12     NaN        NaT       NaN   NaN      NaN  \n",
       "13     NaN        NaT       NaN   NaN      NaN  \n",
       "14     NaN        NaT       NaN   NaN      NaN  \n",
       "15     NaN        NaT       NaN   NaN      NaN  \n",
       "16     NaN        NaT       NaN   NaN      NaN  \n",
       "17     NaN        NaT       NaN   NaN      NaN  \n",
       "18     NaN        NaT       NaN   NaN      NaN  \n",
       "19     NaN        NaT       NaN   NaN      NaN  \n",
       "20     NaN        NaT       NaN   NaN      NaN  \n",
       "21     NaN        NaT       NaN   NaN      NaN  \n",
       "22     NaN        NaT       NaN   NaN      NaN  \n",
       "23     NaN        NaT       NaN   NaN      NaN  \n",
       "24     NaN        NaT       NaN   NaN      NaN  \n",
       "25     NaN        NaT       NaN   NaN      NaN  \n",
       "26     NaN        NaT       NaN   NaN      NaN  \n",
       "27     NaN        NaT       NaN   NaN      NaN  \n",
       "28     NaN        NaT       NaN   NaN      NaN  \n",
       "29     NaN        NaT       NaN   NaN      NaN  \n",
       "30  2007.0 2020-01-03  111.9700   6.0  100,000  \n",
       "31  2008.0 2020-01-02  163.3300   2.0  162,000  \n",
       "32  1994.0 2020-01-06  109.9100  11.0   88,000  \n",
       "33  2004.0 2020-01-09  194.4300   4.0  130,000  \n",
       "34  2003.0 2020-01-20  148.0900   8.0  149,000  \n",
       "35  2006.0 2020-01-10   84.7000   8.0   52,000  \n",
       "36  2006.0 2020-01-12   84.7000  14.0   69,000  \n",
       "37  2006.0 2020-01-15   84.7000  12.0   72,000  \n",
       "38  2006.0 2020-01-30  106.8100  11.0   84,800  \n",
       "39  2017.0 2020-01-10   22.0584   9.0   25,000  \n",
       "\n",
       "[40 rows x 23 columns]"
      ]
     },
     "execution_count": 123,
     "metadata": {},
     "output_type": "execute_result"
    }
   ],
   "source": [
    "dfAll"
   ]
  },
  {
   "cell_type": "code",
   "execution_count": 124,
   "id": "ff87387a",
   "metadata": {},
   "outputs": [
    {
     "name": "stdout",
     "output_type": "stream",
     "text": [
      "<class 'pandas.core.frame.DataFrame'>\n",
      "RangeIndex: 40 entries, 0 to 39\n",
      "Data columns (total 23 columns):\n",
      " #   Column       Non-Null Count  Dtype         \n",
      "---  ------       --------------  -----         \n",
      " 0   Unnamed: 0   0 non-null      float64       \n",
      " 1   데이터셋 소개      27 non-null     object        \n",
      " 2   Unnamed: 2   24 non-null     object        \n",
      " 3   Unnamed: 3   24 non-null     object        \n",
      " 4   Unnamed: 4   24 non-null     object        \n",
      " 5   Unnamed: 5   24 non-null     object        \n",
      " 6   Unnamed: 6   24 non-null     object        \n",
      " 7   Unnamed: 7   24 non-null     object        \n",
      " 8   Unnamed: 8   24 non-null     object        \n",
      " 9   Unnamed: 9   24 non-null     object        \n",
      " 10  Unnamed: 10  24 non-null     object        \n",
      " 11  Unnamed: 11  24 non-null     object        \n",
      " 12  지역코드         10 non-null     float64       \n",
      " 13  아파트          10 non-null     object        \n",
      " 14  시도명          10 non-null     object        \n",
      " 15  시군구          10 non-null     object        \n",
      " 16  법정동          10 non-null     object        \n",
      " 17  지번           10 non-null     object        \n",
      " 18  건축년도         10 non-null     float64       \n",
      " 19  거래일          10 non-null     datetime64[ns]\n",
      " 20  전용면적         10 non-null     float64       \n",
      " 21  층            10 non-null     float64       \n",
      " 22  거래금액         10 non-null     object        \n",
      "dtypes: datetime64[ns](1), float64(5), object(17)\n",
      "memory usage: 7.3+ KB\n"
     ]
    }
   ],
   "source": [
    "dfAll.info()"
   ]
  },
  {
   "cell_type": "code",
   "execution_count": 63,
   "id": "16438f38",
   "metadata": {
    "collapsed": true
   },
   "outputs": [
    {
     "data": {
      "text/html": [
       "<div>\n",
       "<style scoped>\n",
       "    .dataframe tbody tr th:only-of-type {\n",
       "        vertical-align: middle;\n",
       "    }\n",
       "\n",
       "    .dataframe tbody tr th {\n",
       "        vertical-align: top;\n",
       "    }\n",
       "\n",
       "    .dataframe thead th {\n",
       "        text-align: right;\n",
       "    }\n",
       "</style>\n",
       "<table border=\"1\" class=\"dataframe\">\n",
       "  <thead>\n",
       "    <tr style=\"text-align: right;\">\n",
       "      <th></th>\n",
       "      <th>지역코드</th>\n",
       "      <th>아파트</th>\n",
       "      <th>시도명</th>\n",
       "      <th>시군구</th>\n",
       "      <th>법정동</th>\n",
       "      <th>지번</th>\n",
       "      <th>건축년도</th>\n",
       "      <th>거래일</th>\n",
       "      <th>전용면적</th>\n",
       "      <th>층</th>\n",
       "      <th>거래금액</th>\n",
       "    </tr>\n",
       "  </thead>\n",
       "  <tbody>\n",
       "    <tr>\n",
       "      <th>0</th>\n",
       "      <td>11110</td>\n",
       "      <td>신동아블루아광화문의꿈</td>\n",
       "      <td>서울특별시</td>\n",
       "      <td>종로구</td>\n",
       "      <td>필운동</td>\n",
       "      <td>254</td>\n",
       "      <td>2007.0</td>\n",
       "      <td>2020-01-03</td>\n",
       "      <td>111.97</td>\n",
       "      <td>6</td>\n",
       "      <td>100,000</td>\n",
       "    </tr>\n",
       "    <tr>\n",
       "      <th>1</th>\n",
       "      <td>11110</td>\n",
       "      <td>광화문스페이스본(106동)</td>\n",
       "      <td>서울특별시</td>\n",
       "      <td>종로구</td>\n",
       "      <td>사직동</td>\n",
       "      <td>9-1</td>\n",
       "      <td>2008.0</td>\n",
       "      <td>2020-01-02</td>\n",
       "      <td>163.33</td>\n",
       "      <td>2</td>\n",
       "      <td>162,000</td>\n",
       "    </tr>\n",
       "    <tr>\n",
       "      <th>2</th>\n",
       "      <td>11110</td>\n",
       "      <td>세종로대우</td>\n",
       "      <td>서울특별시</td>\n",
       "      <td>종로구</td>\n",
       "      <td>내수동</td>\n",
       "      <td>167</td>\n",
       "      <td>1994.0</td>\n",
       "      <td>2020-01-06</td>\n",
       "      <td>109.91</td>\n",
       "      <td>11</td>\n",
       "      <td>88,000</td>\n",
       "    </tr>\n",
       "    <tr>\n",
       "      <th>3</th>\n",
       "      <td>11110</td>\n",
       "      <td>킹스매너</td>\n",
       "      <td>서울특별시</td>\n",
       "      <td>종로구</td>\n",
       "      <td>내수동</td>\n",
       "      <td>110-15</td>\n",
       "      <td>2004.0</td>\n",
       "      <td>2020-01-09</td>\n",
       "      <td>194.43</td>\n",
       "      <td>4</td>\n",
       "      <td>130,000</td>\n",
       "    </tr>\n",
       "    <tr>\n",
       "      <th>4</th>\n",
       "      <td>11110</td>\n",
       "      <td>경희궁파크팰리스</td>\n",
       "      <td>서울특별시</td>\n",
       "      <td>종로구</td>\n",
       "      <td>내수동</td>\n",
       "      <td>95</td>\n",
       "      <td>2003.0</td>\n",
       "      <td>2020-01-20</td>\n",
       "      <td>148.09</td>\n",
       "      <td>8</td>\n",
       "      <td>149,000</td>\n",
       "    </tr>\n",
       "  </tbody>\n",
       "</table>\n",
       "</div>"
      ],
      "text/plain": [
       "    지역코드             아파트    시도명  시군구  법정동      지번    건축년도        거래일    전용면적   \n",
       "0  11110     신동아블루아광화문의꿈  서울특별시  종로구  필운동     254  2007.0 2020-01-03  111.97  \\\n",
       "1  11110  광화문스페이스본(106동)  서울특별시  종로구  사직동     9-1  2008.0 2020-01-02  163.33   \n",
       "2  11110           세종로대우  서울특별시  종로구  내수동     167  1994.0 2020-01-06  109.91   \n",
       "3  11110            킹스매너  서울특별시  종로구  내수동  110-15  2004.0 2020-01-09  194.43   \n",
       "4  11110        경희궁파크팰리스  서울특별시  종로구  내수동      95  2003.0 2020-01-20  148.09   \n",
       "\n",
       "    층     거래금액  \n",
       "0   6  100,000  \n",
       "1   2  162,000  \n",
       "2  11   88,000  \n",
       "3   4  130,000  \n",
       "4   8  149,000  "
      ]
     },
     "execution_count": 63,
     "metadata": {},
     "output_type": "execute_result"
    }
   ],
   "source": [
    "df1.head()"
   ]
  },
  {
   "cell_type": "code",
   "execution_count": 64,
   "id": "22f78707",
   "metadata": {
    "collapsed": true
   },
   "outputs": [
    {
     "data": {
      "text/html": [
       "<div>\n",
       "<style scoped>\n",
       "    .dataframe tbody tr th:only-of-type {\n",
       "        vertical-align: middle;\n",
       "    }\n",
       "\n",
       "    .dataframe tbody tr th {\n",
       "        vertical-align: top;\n",
       "    }\n",
       "\n",
       "    .dataframe thead th {\n",
       "        text-align: right;\n",
       "    }\n",
       "</style>\n",
       "<table border=\"1\" class=\"dataframe\">\n",
       "  <thead>\n",
       "    <tr style=\"text-align: right;\">\n",
       "      <th></th>\n",
       "      <th>지역코드</th>\n",
       "      <th>아파트</th>\n",
       "      <th>시도명</th>\n",
       "      <th>시군구</th>\n",
       "      <th>법정동</th>\n",
       "      <th>지번</th>\n",
       "      <th>건축년도</th>\n",
       "      <th>거래일</th>\n",
       "      <th>전용면적</th>\n",
       "      <th>층</th>\n",
       "      <th>거래금액</th>\n",
       "    </tr>\n",
       "  </thead>\n",
       "  <tbody>\n",
       "    <tr>\n",
       "      <th>0</th>\n",
       "      <td>11110</td>\n",
       "      <td>신동아블루아광화문의꿈</td>\n",
       "      <td>서울특별시</td>\n",
       "      <td>종로구</td>\n",
       "      <td>필운동</td>\n",
       "      <td>254</td>\n",
       "      <td>2007.0</td>\n",
       "      <td>2020-01-03</td>\n",
       "      <td>111.9700</td>\n",
       "      <td>6</td>\n",
       "      <td>100,000</td>\n",
       "    </tr>\n",
       "    <tr>\n",
       "      <th>1</th>\n",
       "      <td>11110</td>\n",
       "      <td>광화문스페이스본(106동)</td>\n",
       "      <td>서울특별시</td>\n",
       "      <td>종로구</td>\n",
       "      <td>사직동</td>\n",
       "      <td>9-1</td>\n",
       "      <td>2008.0</td>\n",
       "      <td>2020-01-02</td>\n",
       "      <td>163.3300</td>\n",
       "      <td>2</td>\n",
       "      <td>162,000</td>\n",
       "    </tr>\n",
       "    <tr>\n",
       "      <th>2</th>\n",
       "      <td>11110</td>\n",
       "      <td>세종로대우</td>\n",
       "      <td>서울특별시</td>\n",
       "      <td>종로구</td>\n",
       "      <td>내수동</td>\n",
       "      <td>167</td>\n",
       "      <td>1994.0</td>\n",
       "      <td>2020-01-06</td>\n",
       "      <td>109.9100</td>\n",
       "      <td>11</td>\n",
       "      <td>88,000</td>\n",
       "    </tr>\n",
       "    <tr>\n",
       "      <th>3</th>\n",
       "      <td>11110</td>\n",
       "      <td>킹스매너</td>\n",
       "      <td>서울특별시</td>\n",
       "      <td>종로구</td>\n",
       "      <td>내수동</td>\n",
       "      <td>110-15</td>\n",
       "      <td>2004.0</td>\n",
       "      <td>2020-01-09</td>\n",
       "      <td>194.4300</td>\n",
       "      <td>4</td>\n",
       "      <td>130,000</td>\n",
       "    </tr>\n",
       "    <tr>\n",
       "      <th>4</th>\n",
       "      <td>11110</td>\n",
       "      <td>경희궁파크팰리스</td>\n",
       "      <td>서울특별시</td>\n",
       "      <td>종로구</td>\n",
       "      <td>내수동</td>\n",
       "      <td>95</td>\n",
       "      <td>2003.0</td>\n",
       "      <td>2020-01-20</td>\n",
       "      <td>148.0900</td>\n",
       "      <td>8</td>\n",
       "      <td>149,000</td>\n",
       "    </tr>\n",
       "    <tr>\n",
       "      <th>5</th>\n",
       "      <td>11110</td>\n",
       "      <td>효성쥬얼리시티</td>\n",
       "      <td>서울특별시</td>\n",
       "      <td>종로구</td>\n",
       "      <td>인의동</td>\n",
       "      <td>48-2</td>\n",
       "      <td>2006.0</td>\n",
       "      <td>2020-01-10</td>\n",
       "      <td>84.7000</td>\n",
       "      <td>8</td>\n",
       "      <td>52,000</td>\n",
       "    </tr>\n",
       "    <tr>\n",
       "      <th>6</th>\n",
       "      <td>11110</td>\n",
       "      <td>효성쥬얼리시티</td>\n",
       "      <td>서울특별시</td>\n",
       "      <td>종로구</td>\n",
       "      <td>인의동</td>\n",
       "      <td>48-2</td>\n",
       "      <td>2006.0</td>\n",
       "      <td>2020-01-12</td>\n",
       "      <td>84.7000</td>\n",
       "      <td>14</td>\n",
       "      <td>69,000</td>\n",
       "    </tr>\n",
       "    <tr>\n",
       "      <th>7</th>\n",
       "      <td>11110</td>\n",
       "      <td>효성쥬얼리시티</td>\n",
       "      <td>서울특별시</td>\n",
       "      <td>종로구</td>\n",
       "      <td>인의동</td>\n",
       "      <td>48-2</td>\n",
       "      <td>2006.0</td>\n",
       "      <td>2020-01-15</td>\n",
       "      <td>84.7000</td>\n",
       "      <td>12</td>\n",
       "      <td>72,000</td>\n",
       "    </tr>\n",
       "    <tr>\n",
       "      <th>8</th>\n",
       "      <td>11110</td>\n",
       "      <td>효성쥬얼리시티</td>\n",
       "      <td>서울특별시</td>\n",
       "      <td>종로구</td>\n",
       "      <td>인의동</td>\n",
       "      <td>48-2</td>\n",
       "      <td>2006.0</td>\n",
       "      <td>2020-01-30</td>\n",
       "      <td>106.8100</td>\n",
       "      <td>11</td>\n",
       "      <td>84,800</td>\n",
       "    </tr>\n",
       "    <tr>\n",
       "      <th>9</th>\n",
       "      <td>11110</td>\n",
       "      <td>포레스트힐시티</td>\n",
       "      <td>서울특별시</td>\n",
       "      <td>종로구</td>\n",
       "      <td>효제동</td>\n",
       "      <td>65-2</td>\n",
       "      <td>2017.0</td>\n",
       "      <td>2020-01-10</td>\n",
       "      <td>22.0584</td>\n",
       "      <td>9</td>\n",
       "      <td>25,000</td>\n",
       "    </tr>\n",
       "  </tbody>\n",
       "</table>\n",
       "</div>"
      ],
      "text/plain": [
       "    지역코드             아파트    시도명  시군구  법정동      지번    건축년도        거래일   \n",
       "0  11110     신동아블루아광화문의꿈  서울특별시  종로구  필운동     254  2007.0 2020-01-03  \\\n",
       "1  11110  광화문스페이스본(106동)  서울특별시  종로구  사직동     9-1  2008.0 2020-01-02   \n",
       "2  11110           세종로대우  서울특별시  종로구  내수동     167  1994.0 2020-01-06   \n",
       "3  11110            킹스매너  서울특별시  종로구  내수동  110-15  2004.0 2020-01-09   \n",
       "4  11110        경희궁파크팰리스  서울특별시  종로구  내수동      95  2003.0 2020-01-20   \n",
       "5  11110         효성쥬얼리시티  서울특별시  종로구  인의동    48-2  2006.0 2020-01-10   \n",
       "6  11110         효성쥬얼리시티  서울특별시  종로구  인의동    48-2  2006.0 2020-01-12   \n",
       "7  11110         효성쥬얼리시티  서울특별시  종로구  인의동    48-2  2006.0 2020-01-15   \n",
       "8  11110         효성쥬얼리시티  서울특별시  종로구  인의동    48-2  2006.0 2020-01-30   \n",
       "9  11110         포레스트힐시티  서울특별시  종로구  효제동    65-2  2017.0 2020-01-10   \n",
       "\n",
       "       전용면적   층     거래금액  \n",
       "0  111.9700   6  100,000  \n",
       "1  163.3300   2  162,000  \n",
       "2  109.9100  11   88,000  \n",
       "3  194.4300   4  130,000  \n",
       "4  148.0900   8  149,000  \n",
       "5   84.7000   8   52,000  \n",
       "6   84.7000  14   69,000  \n",
       "7   84.7000  12   72,000  \n",
       "8  106.8100  11   84,800  \n",
       "9   22.0584   9   25,000  "
      ]
     },
     "execution_count": 64,
     "metadata": {},
     "output_type": "execute_result"
    }
   ],
   "source": [
    "df1.head(n = 10)"
   ]
  },
  {
   "cell_type": "code",
   "execution_count": 65,
   "id": "bd9fc8a9",
   "metadata": {
    "collapsed": true
   },
   "outputs": [
    {
     "data": {
      "text/html": [
       "<div>\n",
       "<style scoped>\n",
       "    .dataframe tbody tr th:only-of-type {\n",
       "        vertical-align: middle;\n",
       "    }\n",
       "\n",
       "    .dataframe tbody tr th {\n",
       "        vertical-align: top;\n",
       "    }\n",
       "\n",
       "    .dataframe thead th {\n",
       "        text-align: right;\n",
       "    }\n",
       "</style>\n",
       "<table border=\"1\" class=\"dataframe\">\n",
       "  <thead>\n",
       "    <tr style=\"text-align: right;\">\n",
       "      <th></th>\n",
       "      <th>지역코드</th>\n",
       "      <th>아파트</th>\n",
       "      <th>시도명</th>\n",
       "      <th>시군구</th>\n",
       "      <th>법정동</th>\n",
       "      <th>지번</th>\n",
       "      <th>건축년도</th>\n",
       "      <th>거래일</th>\n",
       "      <th>전용면적</th>\n",
       "      <th>층</th>\n",
       "      <th>거래금액</th>\n",
       "    </tr>\n",
       "  </thead>\n",
       "  <tbody>\n",
       "    <tr>\n",
       "      <th>139914</th>\n",
       "      <td>11740</td>\n",
       "      <td>중앙하이츠</td>\n",
       "      <td>서울특별시</td>\n",
       "      <td>강동구</td>\n",
       "      <td>암사동</td>\n",
       "      <td>493-14</td>\n",
       "      <td>1998.0</td>\n",
       "      <td>2022-12-03</td>\n",
       "      <td>59.52</td>\n",
       "      <td>8</td>\n",
       "      <td>53,000</td>\n",
       "    </tr>\n",
       "    <tr>\n",
       "      <th>139915</th>\n",
       "      <td>11740</td>\n",
       "      <td>롯데캐슬퍼스트</td>\n",
       "      <td>서울특별시</td>\n",
       "      <td>강동구</td>\n",
       "      <td>암사동</td>\n",
       "      <td>414-2</td>\n",
       "      <td>2008.0</td>\n",
       "      <td>2022-12-06</td>\n",
       "      <td>111.22</td>\n",
       "      <td>10</td>\n",
       "      <td>135,000</td>\n",
       "    </tr>\n",
       "    <tr>\n",
       "      <th>139916</th>\n",
       "      <td>11740</td>\n",
       "      <td>선사현대아파트</td>\n",
       "      <td>서울특별시</td>\n",
       "      <td>강동구</td>\n",
       "      <td>암사동</td>\n",
       "      <td>509</td>\n",
       "      <td>2000.0</td>\n",
       "      <td>2022-12-10</td>\n",
       "      <td>59.64</td>\n",
       "      <td>17</td>\n",
       "      <td>77,000</td>\n",
       "    </tr>\n",
       "    <tr>\n",
       "      <th>139917</th>\n",
       "      <td>11740</td>\n",
       "      <td>파크뷰진도맨션</td>\n",
       "      <td>서울특별시</td>\n",
       "      <td>강동구</td>\n",
       "      <td>성내동</td>\n",
       "      <td>452-2</td>\n",
       "      <td>1996.0</td>\n",
       "      <td>2022-12-06</td>\n",
       "      <td>208.92</td>\n",
       "      <td>18</td>\n",
       "      <td>145,500</td>\n",
       "    </tr>\n",
       "    <tr>\n",
       "      <th>139918</th>\n",
       "      <td>11740</td>\n",
       "      <td>강동리버스트4단지</td>\n",
       "      <td>서울특별시</td>\n",
       "      <td>강동구</td>\n",
       "      <td>강일동</td>\n",
       "      <td>114</td>\n",
       "      <td>2020.0</td>\n",
       "      <td>2022-12-29</td>\n",
       "      <td>59.99</td>\n",
       "      <td>7</td>\n",
       "      <td>55,000</td>\n",
       "    </tr>\n",
       "  </tbody>\n",
       "</table>\n",
       "</div>"
      ],
      "text/plain": [
       "         지역코드        아파트    시도명  시군구  법정동      지번    건축년도        거래일    전용면적   \n",
       "139914  11740      중앙하이츠  서울특별시  강동구  암사동  493-14  1998.0 2022-12-03   59.52  \\\n",
       "139915  11740    롯데캐슬퍼스트  서울특별시  강동구  암사동   414-2  2008.0 2022-12-06  111.22   \n",
       "139916  11740    선사현대아파트  서울특별시  강동구  암사동     509  2000.0 2022-12-10   59.64   \n",
       "139917  11740    파크뷰진도맨션  서울특별시  강동구  성내동   452-2  1996.0 2022-12-06  208.92   \n",
       "139918  11740  강동리버스트4단지  서울특별시  강동구  강일동     114  2020.0 2022-12-29   59.99   \n",
       "\n",
       "         층     거래금액  \n",
       "139914   8   53,000  \n",
       "139915  10  135,000  \n",
       "139916  17   77,000  \n",
       "139917  18  145,500  \n",
       "139918   7   55,000  "
      ]
     },
     "execution_count": 65,
     "metadata": {},
     "output_type": "execute_result"
    }
   ],
   "source": [
    "df1.tail()"
   ]
  },
  {
   "cell_type": "code",
   "execution_count": 66,
   "id": "a44cfa47",
   "metadata": {},
   "outputs": [
    {
     "data": {
      "text/html": [
       "<div>\n",
       "<style scoped>\n",
       "    .dataframe tbody tr th:only-of-type {\n",
       "        vertical-align: middle;\n",
       "    }\n",
       "\n",
       "    .dataframe tbody tr th {\n",
       "        vertical-align: top;\n",
       "    }\n",
       "\n",
       "    .dataframe thead th {\n",
       "        text-align: right;\n",
       "    }\n",
       "</style>\n",
       "<table border=\"1\" class=\"dataframe\">\n",
       "  <thead>\n",
       "    <tr style=\"text-align: right;\">\n",
       "      <th></th>\n",
       "      <th>지역코드</th>\n",
       "      <th>아파트</th>\n",
       "      <th>시도명</th>\n",
       "      <th>시군구</th>\n",
       "      <th>법정동</th>\n",
       "      <th>지번</th>\n",
       "      <th>건축년도</th>\n",
       "      <th>거래일</th>\n",
       "      <th>전용면적</th>\n",
       "      <th>층</th>\n",
       "      <th>거래금액</th>\n",
       "    </tr>\n",
       "  </thead>\n",
       "  <tbody>\n",
       "    <tr>\n",
       "      <th>139909</th>\n",
       "      <td>11740</td>\n",
       "      <td>청광플러스원(큐브1차)</td>\n",
       "      <td>서울특별시</td>\n",
       "      <td>강동구</td>\n",
       "      <td>길동</td>\n",
       "      <td>387-5</td>\n",
       "      <td>2012.0</td>\n",
       "      <td>2022-12-16</td>\n",
       "      <td>16.685</td>\n",
       "      <td>9</td>\n",
       "      <td>8,500</td>\n",
       "    </tr>\n",
       "    <tr>\n",
       "      <th>139910</th>\n",
       "      <td>11740</td>\n",
       "      <td>현대웰하임(201동)</td>\n",
       "      <td>서울특별시</td>\n",
       "      <td>강동구</td>\n",
       "      <td>길동</td>\n",
       "      <td>343-2</td>\n",
       "      <td>2012.0</td>\n",
       "      <td>2022-12-19</td>\n",
       "      <td>13.109</td>\n",
       "      <td>5</td>\n",
       "      <td>10,000</td>\n",
       "    </tr>\n",
       "    <tr>\n",
       "      <th>139911</th>\n",
       "      <td>11740</td>\n",
       "      <td>청광플러스원(큐브1차)</td>\n",
       "      <td>서울특별시</td>\n",
       "      <td>강동구</td>\n",
       "      <td>길동</td>\n",
       "      <td>387-5</td>\n",
       "      <td>2012.0</td>\n",
       "      <td>2022-12-20</td>\n",
       "      <td>17.075</td>\n",
       "      <td>11</td>\n",
       "      <td>11,000</td>\n",
       "    </tr>\n",
       "    <tr>\n",
       "      <th>139912</th>\n",
       "      <td>11740</td>\n",
       "      <td>선사현대아파트</td>\n",
       "      <td>서울특별시</td>\n",
       "      <td>강동구</td>\n",
       "      <td>암사동</td>\n",
       "      <td>509</td>\n",
       "      <td>2000.0</td>\n",
       "      <td>2022-12-02</td>\n",
       "      <td>58.680</td>\n",
       "      <td>25</td>\n",
       "      <td>76,000</td>\n",
       "    </tr>\n",
       "    <tr>\n",
       "      <th>139913</th>\n",
       "      <td>11740</td>\n",
       "      <td>중앙하이츠</td>\n",
       "      <td>서울특별시</td>\n",
       "      <td>강동구</td>\n",
       "      <td>암사동</td>\n",
       "      <td>493-14</td>\n",
       "      <td>1998.0</td>\n",
       "      <td>2022-12-03</td>\n",
       "      <td>59.520</td>\n",
       "      <td>8</td>\n",
       "      <td>53,000</td>\n",
       "    </tr>\n",
       "    <tr>\n",
       "      <th>139914</th>\n",
       "      <td>11740</td>\n",
       "      <td>중앙하이츠</td>\n",
       "      <td>서울특별시</td>\n",
       "      <td>강동구</td>\n",
       "      <td>암사동</td>\n",
       "      <td>493-14</td>\n",
       "      <td>1998.0</td>\n",
       "      <td>2022-12-03</td>\n",
       "      <td>59.520</td>\n",
       "      <td>8</td>\n",
       "      <td>53,000</td>\n",
       "    </tr>\n",
       "    <tr>\n",
       "      <th>139915</th>\n",
       "      <td>11740</td>\n",
       "      <td>롯데캐슬퍼스트</td>\n",
       "      <td>서울특별시</td>\n",
       "      <td>강동구</td>\n",
       "      <td>암사동</td>\n",
       "      <td>414-2</td>\n",
       "      <td>2008.0</td>\n",
       "      <td>2022-12-06</td>\n",
       "      <td>111.220</td>\n",
       "      <td>10</td>\n",
       "      <td>135,000</td>\n",
       "    </tr>\n",
       "    <tr>\n",
       "      <th>139916</th>\n",
       "      <td>11740</td>\n",
       "      <td>선사현대아파트</td>\n",
       "      <td>서울특별시</td>\n",
       "      <td>강동구</td>\n",
       "      <td>암사동</td>\n",
       "      <td>509</td>\n",
       "      <td>2000.0</td>\n",
       "      <td>2022-12-10</td>\n",
       "      <td>59.640</td>\n",
       "      <td>17</td>\n",
       "      <td>77,000</td>\n",
       "    </tr>\n",
       "    <tr>\n",
       "      <th>139917</th>\n",
       "      <td>11740</td>\n",
       "      <td>파크뷰진도맨션</td>\n",
       "      <td>서울특별시</td>\n",
       "      <td>강동구</td>\n",
       "      <td>성내동</td>\n",
       "      <td>452-2</td>\n",
       "      <td>1996.0</td>\n",
       "      <td>2022-12-06</td>\n",
       "      <td>208.920</td>\n",
       "      <td>18</td>\n",
       "      <td>145,500</td>\n",
       "    </tr>\n",
       "    <tr>\n",
       "      <th>139918</th>\n",
       "      <td>11740</td>\n",
       "      <td>강동리버스트4단지</td>\n",
       "      <td>서울특별시</td>\n",
       "      <td>강동구</td>\n",
       "      <td>강일동</td>\n",
       "      <td>114</td>\n",
       "      <td>2020.0</td>\n",
       "      <td>2022-12-29</td>\n",
       "      <td>59.990</td>\n",
       "      <td>7</td>\n",
       "      <td>55,000</td>\n",
       "    </tr>\n",
       "  </tbody>\n",
       "</table>\n",
       "</div>"
      ],
      "text/plain": [
       "         지역코드           아파트    시도명  시군구  법정동      지번    건축년도        거래일   \n",
       "139909  11740  청광플러스원(큐브1차)  서울특별시  강동구   길동   387-5  2012.0 2022-12-16  \\\n",
       "139910  11740   현대웰하임(201동)  서울특별시  강동구   길동   343-2  2012.0 2022-12-19   \n",
       "139911  11740  청광플러스원(큐브1차)  서울특별시  강동구   길동   387-5  2012.0 2022-12-20   \n",
       "139912  11740       선사현대아파트  서울특별시  강동구  암사동     509  2000.0 2022-12-02   \n",
       "139913  11740         중앙하이츠  서울특별시  강동구  암사동  493-14  1998.0 2022-12-03   \n",
       "139914  11740         중앙하이츠  서울특별시  강동구  암사동  493-14  1998.0 2022-12-03   \n",
       "139915  11740       롯데캐슬퍼스트  서울특별시  강동구  암사동   414-2  2008.0 2022-12-06   \n",
       "139916  11740       선사현대아파트  서울특별시  강동구  암사동     509  2000.0 2022-12-10   \n",
       "139917  11740       파크뷰진도맨션  서울특별시  강동구  성내동   452-2  1996.0 2022-12-06   \n",
       "139918  11740     강동리버스트4단지  서울특별시  강동구  강일동     114  2020.0 2022-12-29   \n",
       "\n",
       "           전용면적   층     거래금액  \n",
       "139909   16.685   9    8,500  \n",
       "139910   13.109   5   10,000  \n",
       "139911   17.075  11   11,000  \n",
       "139912   58.680  25   76,000  \n",
       "139913   59.520   8   53,000  \n",
       "139914   59.520   8   53,000  \n",
       "139915  111.220  10  135,000  \n",
       "139916   59.640  17   77,000  \n",
       "139917  208.920  18  145,500  \n",
       "139918   59.990   7   55,000  "
      ]
     },
     "execution_count": 66,
     "metadata": {},
     "output_type": "execute_result"
    }
   ],
   "source": [
    "df1.tail(n = 10)"
   ]
  },
  {
   "cell_type": "code",
   "execution_count": 80,
   "id": "b4abcf12",
   "metadata": {},
   "outputs": [
    {
     "data": {
      "text/html": [
       "<div>\n",
       "<style scoped>\n",
       "    .dataframe tbody tr th:only-of-type {\n",
       "        vertical-align: middle;\n",
       "    }\n",
       "\n",
       "    .dataframe tbody tr th {\n",
       "        vertical-align: top;\n",
       "    }\n",
       "\n",
       "    .dataframe thead th {\n",
       "        text-align: right;\n",
       "    }\n",
       "</style>\n",
       "<table border=\"1\" class=\"dataframe\">\n",
       "  <thead>\n",
       "    <tr style=\"text-align: right;\">\n",
       "      <th></th>\n",
       "      <th>지역코드</th>\n",
       "      <th>아파트</th>\n",
       "      <th>시도명</th>\n",
       "      <th>시군구</th>\n",
       "      <th>법정동</th>\n",
       "      <th>지번</th>\n",
       "      <th>건축년도</th>\n",
       "      <th>거래일</th>\n",
       "      <th>전용면적</th>\n",
       "      <th>층</th>\n",
       "      <th>거래금액</th>\n",
       "    </tr>\n",
       "  </thead>\n",
       "  <tbody>\n",
       "    <tr>\n",
       "      <th>76571</th>\n",
       "      <td>11110</td>\n",
       "      <td>두산</td>\n",
       "      <td>서울특별시</td>\n",
       "      <td>종로구</td>\n",
       "      <td>창신동</td>\n",
       "      <td>232</td>\n",
       "      <td>1999.0</td>\n",
       "      <td>2020-12-05</td>\n",
       "      <td>84.90</td>\n",
       "      <td>4</td>\n",
       "      <td>94,000</td>\n",
       "    </tr>\n",
       "    <tr>\n",
       "      <th>82169</th>\n",
       "      <td>11590</td>\n",
       "      <td>사당자이</td>\n",
       "      <td>서울특별시</td>\n",
       "      <td>동작구</td>\n",
       "      <td>사당동</td>\n",
       "      <td>1139</td>\n",
       "      <td>1999.0</td>\n",
       "      <td>2020-12-08</td>\n",
       "      <td>59.89</td>\n",
       "      <td>1</td>\n",
       "      <td>75,000</td>\n",
       "    </tr>\n",
       "    <tr>\n",
       "      <th>97361</th>\n",
       "      <td>11620</td>\n",
       "      <td>관악산휴먼시아2단지</td>\n",
       "      <td>서울특별시</td>\n",
       "      <td>관악구</td>\n",
       "      <td>신림동</td>\n",
       "      <td>1735</td>\n",
       "      <td>2008.0</td>\n",
       "      <td>2021-03-31</td>\n",
       "      <td>84.97</td>\n",
       "      <td>13</td>\n",
       "      <td>80,500</td>\n",
       "    </tr>\n",
       "    <tr>\n",
       "      <th>76151</th>\n",
       "      <td>11710</td>\n",
       "      <td>아남</td>\n",
       "      <td>서울특별시</td>\n",
       "      <td>송파구</td>\n",
       "      <td>오금동</td>\n",
       "      <td>67</td>\n",
       "      <td>1992.0</td>\n",
       "      <td>2020-11-05</td>\n",
       "      <td>71.26</td>\n",
       "      <td>4</td>\n",
       "      <td>87,700</td>\n",
       "    </tr>\n",
       "    <tr>\n",
       "      <th>110470</th>\n",
       "      <td>11650</td>\n",
       "      <td>서초삼성래미안</td>\n",
       "      <td>서울특별시</td>\n",
       "      <td>서초구</td>\n",
       "      <td>서초동</td>\n",
       "      <td>1641-1</td>\n",
       "      <td>2001.0</td>\n",
       "      <td>2021-06-21</td>\n",
       "      <td>150.25</td>\n",
       "      <td>15</td>\n",
       "      <td>238,500</td>\n",
       "    </tr>\n",
       "  </tbody>\n",
       "</table>\n",
       "</div>"
      ],
      "text/plain": [
       "         지역코드         아파트    시도명  시군구  법정동      지번    건축년도        거래일    전용면적   \n",
       "76571   11110          두산  서울특별시  종로구  창신동     232  1999.0 2020-12-05   84.90  \\\n",
       "82169   11590        사당자이  서울특별시  동작구  사당동    1139  1999.0 2020-12-08   59.89   \n",
       "97361   11620  관악산휴먼시아2단지  서울특별시  관악구  신림동    1735  2008.0 2021-03-31   84.97   \n",
       "76151   11710          아남  서울특별시  송파구  오금동      67  1992.0 2020-11-05   71.26   \n",
       "110470  11650     서초삼성래미안  서울특별시  서초구  서초동  1641-1  2001.0 2021-06-21  150.25   \n",
       "\n",
       "         층     거래금액  \n",
       "76571    4   94,000  \n",
       "82169    1   75,000  \n",
       "97361   13   80,500  \n",
       "76151    4   87,700  \n",
       "110470  15  238,500  "
      ]
     },
     "execution_count": 80,
     "metadata": {},
     "output_type": "execute_result"
    }
   ],
   "source": [
    "df1.sample(n = 5, random_state = 1)"
   ]
  },
  {
   "cell_type": "code",
   "execution_count": 81,
   "id": "3e821452",
   "metadata": {},
   "outputs": [
    {
     "data": {
      "text/plain": [
       "['APT_Detail_Seoul_2022.csv',\n",
       " 'APT_Merged.csv',\n",
       " 'APT_Price_Seoul_2020_2022.csv']"
      ]
     },
     "execution_count": 81,
     "metadata": {},
     "output_type": "execute_result"
    }
   ],
   "source": [
    "[file for file in os.listdir() if '.csv' in file]"
   ]
  },
  {
   "cell_type": "code",
   "execution_count": 125,
   "id": "524d24c3",
   "metadata": {},
   "outputs": [],
   "source": [
    "fileName = 'APT_Price_Seoul_2020_2022.csv'"
   ]
  },
  {
   "cell_type": "code",
   "execution_count": 126,
   "id": "b9040d76",
   "metadata": {
    "collapsed": true
   },
   "outputs": [
    {
     "ename": "UnicodeDecodeError",
     "evalue": "'utf-8' codec can't decode byte 0xc1 in position 0: invalid start byte",
     "output_type": "error",
     "traceback": [
      "\u001b[1;31m---------------------------------------------------------------------------\u001b[0m",
      "\u001b[1;31mUnicodeDecodeError\u001b[0m                        Traceback (most recent call last)",
      "Cell \u001b[1;32mIn[126], line 1\u001b[0m\n\u001b[1;32m----> 1\u001b[0m \u001b[43mpd\u001b[49m\u001b[38;5;241;43m.\u001b[39;49m\u001b[43mread_csv\u001b[49m\u001b[43m(\u001b[49m\u001b[43mfileName\u001b[49m\u001b[43m)\u001b[49m\n",
      "File \u001b[1;32m~\\AppData\\Local\\Programs\\Python\\Python311\\Lib\\site-packages\\pandas\\io\\parsers\\readers.py:912\u001b[0m, in \u001b[0;36mread_csv\u001b[1;34m(filepath_or_buffer, sep, delimiter, header, names, index_col, usecols, dtype, engine, converters, true_values, false_values, skipinitialspace, skiprows, skipfooter, nrows, na_values, keep_default_na, na_filter, verbose, skip_blank_lines, parse_dates, infer_datetime_format, keep_date_col, date_parser, date_format, dayfirst, cache_dates, iterator, chunksize, compression, thousands, decimal, lineterminator, quotechar, quoting, doublequote, escapechar, comment, encoding, encoding_errors, dialect, on_bad_lines, delim_whitespace, low_memory, memory_map, float_precision, storage_options, dtype_backend)\u001b[0m\n\u001b[0;32m    899\u001b[0m kwds_defaults \u001b[38;5;241m=\u001b[39m _refine_defaults_read(\n\u001b[0;32m    900\u001b[0m     dialect,\n\u001b[0;32m    901\u001b[0m     delimiter,\n\u001b[1;32m   (...)\u001b[0m\n\u001b[0;32m    908\u001b[0m     dtype_backend\u001b[38;5;241m=\u001b[39mdtype_backend,\n\u001b[0;32m    909\u001b[0m )\n\u001b[0;32m    910\u001b[0m kwds\u001b[38;5;241m.\u001b[39mupdate(kwds_defaults)\n\u001b[1;32m--> 912\u001b[0m \u001b[38;5;28;01mreturn\u001b[39;00m \u001b[43m_read\u001b[49m\u001b[43m(\u001b[49m\u001b[43mfilepath_or_buffer\u001b[49m\u001b[43m,\u001b[49m\u001b[43m \u001b[49m\u001b[43mkwds\u001b[49m\u001b[43m)\u001b[49m\n",
      "File \u001b[1;32m~\\AppData\\Local\\Programs\\Python\\Python311\\Lib\\site-packages\\pandas\\io\\parsers\\readers.py:577\u001b[0m, in \u001b[0;36m_read\u001b[1;34m(filepath_or_buffer, kwds)\u001b[0m\n\u001b[0;32m    574\u001b[0m _validate_names(kwds\u001b[38;5;241m.\u001b[39mget(\u001b[38;5;124m\"\u001b[39m\u001b[38;5;124mnames\u001b[39m\u001b[38;5;124m\"\u001b[39m, \u001b[38;5;28;01mNone\u001b[39;00m))\n\u001b[0;32m    576\u001b[0m \u001b[38;5;66;03m# Create the parser.\u001b[39;00m\n\u001b[1;32m--> 577\u001b[0m parser \u001b[38;5;241m=\u001b[39m \u001b[43mTextFileReader\u001b[49m\u001b[43m(\u001b[49m\u001b[43mfilepath_or_buffer\u001b[49m\u001b[43m,\u001b[49m\u001b[43m \u001b[49m\u001b[38;5;241;43m*\u001b[39;49m\u001b[38;5;241;43m*\u001b[39;49m\u001b[43mkwds\u001b[49m\u001b[43m)\u001b[49m\n\u001b[0;32m    579\u001b[0m \u001b[38;5;28;01mif\u001b[39;00m chunksize \u001b[38;5;129;01mor\u001b[39;00m iterator:\n\u001b[0;32m    580\u001b[0m     \u001b[38;5;28;01mreturn\u001b[39;00m parser\n",
      "File \u001b[1;32m~\\AppData\\Local\\Programs\\Python\\Python311\\Lib\\site-packages\\pandas\\io\\parsers\\readers.py:1407\u001b[0m, in \u001b[0;36mTextFileReader.__init__\u001b[1;34m(self, f, engine, **kwds)\u001b[0m\n\u001b[0;32m   1404\u001b[0m     \u001b[38;5;28mself\u001b[39m\u001b[38;5;241m.\u001b[39moptions[\u001b[38;5;124m\"\u001b[39m\u001b[38;5;124mhas_index_names\u001b[39m\u001b[38;5;124m\"\u001b[39m] \u001b[38;5;241m=\u001b[39m kwds[\u001b[38;5;124m\"\u001b[39m\u001b[38;5;124mhas_index_names\u001b[39m\u001b[38;5;124m\"\u001b[39m]\n\u001b[0;32m   1406\u001b[0m \u001b[38;5;28mself\u001b[39m\u001b[38;5;241m.\u001b[39mhandles: IOHandles \u001b[38;5;241m|\u001b[39m \u001b[38;5;28;01mNone\u001b[39;00m \u001b[38;5;241m=\u001b[39m \u001b[38;5;28;01mNone\u001b[39;00m\n\u001b[1;32m-> 1407\u001b[0m \u001b[38;5;28mself\u001b[39m\u001b[38;5;241m.\u001b[39m_engine \u001b[38;5;241m=\u001b[39m \u001b[38;5;28;43mself\u001b[39;49m\u001b[38;5;241;43m.\u001b[39;49m\u001b[43m_make_engine\u001b[49m\u001b[43m(\u001b[49m\u001b[43mf\u001b[49m\u001b[43m,\u001b[49m\u001b[43m \u001b[49m\u001b[38;5;28;43mself\u001b[39;49m\u001b[38;5;241;43m.\u001b[39;49m\u001b[43mengine\u001b[49m\u001b[43m)\u001b[49m\n",
      "File \u001b[1;32m~\\AppData\\Local\\Programs\\Python\\Python311\\Lib\\site-packages\\pandas\\io\\parsers\\readers.py:1679\u001b[0m, in \u001b[0;36mTextFileReader._make_engine\u001b[1;34m(self, f, engine)\u001b[0m\n\u001b[0;32m   1676\u001b[0m     \u001b[38;5;28;01mraise\u001b[39;00m \u001b[38;5;167;01mValueError\u001b[39;00m(msg)\n\u001b[0;32m   1678\u001b[0m \u001b[38;5;28;01mtry\u001b[39;00m:\n\u001b[1;32m-> 1679\u001b[0m     \u001b[38;5;28;01mreturn\u001b[39;00m \u001b[43mmapping\u001b[49m\u001b[43m[\u001b[49m\u001b[43mengine\u001b[49m\u001b[43m]\u001b[49m\u001b[43m(\u001b[49m\u001b[43mf\u001b[49m\u001b[43m,\u001b[49m\u001b[43m \u001b[49m\u001b[38;5;241;43m*\u001b[39;49m\u001b[38;5;241;43m*\u001b[39;49m\u001b[38;5;28;43mself\u001b[39;49m\u001b[38;5;241;43m.\u001b[39;49m\u001b[43moptions\u001b[49m\u001b[43m)\u001b[49m\n\u001b[0;32m   1680\u001b[0m \u001b[38;5;28;01mexcept\u001b[39;00m \u001b[38;5;167;01mException\u001b[39;00m:\n\u001b[0;32m   1681\u001b[0m     \u001b[38;5;28;01mif\u001b[39;00m \u001b[38;5;28mself\u001b[39m\u001b[38;5;241m.\u001b[39mhandles \u001b[38;5;129;01mis\u001b[39;00m \u001b[38;5;129;01mnot\u001b[39;00m \u001b[38;5;28;01mNone\u001b[39;00m:\n",
      "File \u001b[1;32m~\\AppData\\Local\\Programs\\Python\\Python311\\Lib\\site-packages\\pandas\\io\\parsers\\c_parser_wrapper.py:93\u001b[0m, in \u001b[0;36mCParserWrapper.__init__\u001b[1;34m(self, src, **kwds)\u001b[0m\n\u001b[0;32m     90\u001b[0m \u001b[38;5;28;01mif\u001b[39;00m kwds[\u001b[38;5;124m\"\u001b[39m\u001b[38;5;124mdtype_backend\u001b[39m\u001b[38;5;124m\"\u001b[39m] \u001b[38;5;241m==\u001b[39m \u001b[38;5;124m\"\u001b[39m\u001b[38;5;124mpyarrow\u001b[39m\u001b[38;5;124m\"\u001b[39m:\n\u001b[0;32m     91\u001b[0m     \u001b[38;5;66;03m# Fail here loudly instead of in cython after reading\u001b[39;00m\n\u001b[0;32m     92\u001b[0m     import_optional_dependency(\u001b[38;5;124m\"\u001b[39m\u001b[38;5;124mpyarrow\u001b[39m\u001b[38;5;124m\"\u001b[39m)\n\u001b[1;32m---> 93\u001b[0m \u001b[38;5;28mself\u001b[39m\u001b[38;5;241m.\u001b[39m_reader \u001b[38;5;241m=\u001b[39m \u001b[43mparsers\u001b[49m\u001b[38;5;241;43m.\u001b[39;49m\u001b[43mTextReader\u001b[49m\u001b[43m(\u001b[49m\u001b[43msrc\u001b[49m\u001b[43m,\u001b[49m\u001b[43m \u001b[49m\u001b[38;5;241;43m*\u001b[39;49m\u001b[38;5;241;43m*\u001b[39;49m\u001b[43mkwds\u001b[49m\u001b[43m)\u001b[49m\n\u001b[0;32m     95\u001b[0m \u001b[38;5;28mself\u001b[39m\u001b[38;5;241m.\u001b[39munnamed_cols \u001b[38;5;241m=\u001b[39m \u001b[38;5;28mself\u001b[39m\u001b[38;5;241m.\u001b[39m_reader\u001b[38;5;241m.\u001b[39munnamed_cols\n\u001b[0;32m     97\u001b[0m \u001b[38;5;66;03m# error: Cannot determine type of 'names'\u001b[39;00m\n",
      "File \u001b[1;32m~\\AppData\\Local\\Programs\\Python\\Python311\\Lib\\site-packages\\pandas\\_libs\\parsers.pyx:548\u001b[0m, in \u001b[0;36mpandas._libs.parsers.TextReader.__cinit__\u001b[1;34m()\u001b[0m\n",
      "File \u001b[1;32m~\\AppData\\Local\\Programs\\Python\\Python311\\Lib\\site-packages\\pandas\\_libs\\parsers.pyx:637\u001b[0m, in \u001b[0;36mpandas._libs.parsers.TextReader._get_header\u001b[1;34m()\u001b[0m\n",
      "File \u001b[1;32m~\\AppData\\Local\\Programs\\Python\\Python311\\Lib\\site-packages\\pandas\\_libs\\parsers.pyx:848\u001b[0m, in \u001b[0;36mpandas._libs.parsers.TextReader._tokenize_rows\u001b[1;34m()\u001b[0m\n",
      "File \u001b[1;32m~\\AppData\\Local\\Programs\\Python\\Python311\\Lib\\site-packages\\pandas\\_libs\\parsers.pyx:859\u001b[0m, in \u001b[0;36mpandas._libs.parsers.TextReader._check_tokenize_status\u001b[1;34m()\u001b[0m\n",
      "File \u001b[1;32m~\\AppData\\Local\\Programs\\Python\\Python311\\Lib\\site-packages\\pandas\\_libs\\parsers.pyx:2017\u001b[0m, in \u001b[0;36mpandas._libs.parsers.raise_parser_error\u001b[1;34m()\u001b[0m\n",
      "\u001b[1;31mUnicodeDecodeError\u001b[0m: 'utf-8' codec can't decode byte 0xc1 in position 0: invalid start byte"
     ]
    }
   ],
   "source": [
    "pd.read_csv(fileName)"
   ]
  },
  {
   "cell_type": "code",
   "execution_count": 134,
   "id": "c8ae1341",
   "metadata": {},
   "outputs": [],
   "source": [
    "with open(file = fileName, mode = 'rb') as file:\n",
    "    text = file.read()"
   ]
  },
  {
   "cell_type": "code",
   "execution_count": 135,
   "id": "70a191ef",
   "metadata": {},
   "outputs": [
    {
     "data": {
      "text/plain": [
       "bytes"
      ]
     },
     "execution_count": 135,
     "metadata": {},
     "output_type": "execute_result"
    }
   ],
   "source": [
    "type(text)"
   ]
  },
  {
   "cell_type": "code",
   "execution_count": 128,
   "id": "3cf89aa2",
   "metadata": {},
   "outputs": [
    {
     "data": {
      "text/plain": [
       "b'\\xc1\\xf6\\xbf\\xaa\\xc4\\xda\\xb5\\xe5,\\xbe\\xc6\\xc6\\xc4\\xc6\\xae,\\xbd\\xc3\\xb5\\xb5\\xb8\\xed,\\xbd\\xc3\\xb1\\xba\\xb1\\xb8,\\xb9\\xfd\\xc1\\xa4\\xb5\\xbf,\\xc1\\xf6\\xb9\\xf8,\\xb0\\xc7\\xc3\\xe0\\xb3\\xe2\\xb5\\xb5,\\xb0\\xc5\\xb7\\xa1\\xc0\\xcf,\\xc0\\xfc\\xbf\\xeb\\xb8\\xe9\\xc0\\xfb,\\xc3\\xfe,\\xb0\\xc5\\xb7\\xa1\\xb1\\xdd\\xbe\\xd7\\n11110,\\xbd\\xc5\\xb5\\xbf\\xbe\\xc6\\xba\\xed\\xb7\\xe7\\xbe\\xc6\\xb1\\xa4\\xc8'"
      ]
     },
     "execution_count": 128,
     "metadata": {},
     "output_type": "execute_result"
    }
   ],
   "source": [
    "text[:100]"
   ]
  },
  {
   "cell_type": "code",
   "execution_count": 129,
   "id": "e04ad349",
   "metadata": {},
   "outputs": [
    {
     "data": {
      "text/plain": [
       "{'encoding': 'EUC-KR', 'confidence': 0.99, 'language': 'Korean'}"
      ]
     },
     "execution_count": 129,
     "metadata": {},
     "output_type": "execute_result"
    }
   ],
   "source": [
    "chardet.detect(text[:100])"
   ]
  },
  {
   "cell_type": "code",
   "execution_count": 91,
   "id": "f1d6842e",
   "metadata": {},
   "outputs": [
    {
     "data": {
      "text/plain": [
       "{'encoding': 'CP949', 'confidence': 0.99, 'language': 'Korean'}"
      ]
     },
     "execution_count": 91,
     "metadata": {},
     "output_type": "execute_result"
    }
   ],
   "source": [
    "chardet.detect(text)"
   ]
  },
  {
   "cell_type": "code",
   "execution_count": 92,
   "id": "cb802142",
   "metadata": {
    "collapsed": true
   },
   "outputs": [
    {
     "data": {
      "text/html": [
       "<div>\n",
       "<style scoped>\n",
       "    .dataframe tbody tr th:only-of-type {\n",
       "        vertical-align: middle;\n",
       "    }\n",
       "\n",
       "    .dataframe tbody tr th {\n",
       "        vertical-align: top;\n",
       "    }\n",
       "\n",
       "    .dataframe thead th {\n",
       "        text-align: right;\n",
       "    }\n",
       "</style>\n",
       "<table border=\"1\" class=\"dataframe\">\n",
       "  <thead>\n",
       "    <tr style=\"text-align: right;\">\n",
       "      <th></th>\n",
       "      <th>지역코드</th>\n",
       "      <th>아파트</th>\n",
       "      <th>시도명</th>\n",
       "      <th>시군구</th>\n",
       "      <th>법정동</th>\n",
       "      <th>지번</th>\n",
       "      <th>건축년도</th>\n",
       "      <th>거래일</th>\n",
       "      <th>전용면적</th>\n",
       "      <th>층</th>\n",
       "      <th>거래금액</th>\n",
       "    </tr>\n",
       "  </thead>\n",
       "  <tbody>\n",
       "    <tr>\n",
       "      <th>0</th>\n",
       "      <td>11110</td>\n",
       "      <td>신동아블루아광화문의꿈</td>\n",
       "      <td>서울특별시</td>\n",
       "      <td>종로구</td>\n",
       "      <td>필운동</td>\n",
       "      <td>254</td>\n",
       "      <td>2007.0</td>\n",
       "      <td>2020-01-03</td>\n",
       "      <td>111.97</td>\n",
       "      <td>6</td>\n",
       "      <td>100,000</td>\n",
       "    </tr>\n",
       "    <tr>\n",
       "      <th>1</th>\n",
       "      <td>11110</td>\n",
       "      <td>광화문스페이스본(106동)</td>\n",
       "      <td>서울특별시</td>\n",
       "      <td>종로구</td>\n",
       "      <td>사직동</td>\n",
       "      <td>9-1</td>\n",
       "      <td>2008.0</td>\n",
       "      <td>2020-01-02</td>\n",
       "      <td>163.33</td>\n",
       "      <td>2</td>\n",
       "      <td>162,000</td>\n",
       "    </tr>\n",
       "    <tr>\n",
       "      <th>2</th>\n",
       "      <td>11110</td>\n",
       "      <td>세종로대우</td>\n",
       "      <td>서울특별시</td>\n",
       "      <td>종로구</td>\n",
       "      <td>내수동</td>\n",
       "      <td>167</td>\n",
       "      <td>1994.0</td>\n",
       "      <td>2020-01-06</td>\n",
       "      <td>109.91</td>\n",
       "      <td>11</td>\n",
       "      <td>88,000</td>\n",
       "    </tr>\n",
       "    <tr>\n",
       "      <th>3</th>\n",
       "      <td>11110</td>\n",
       "      <td>킹스매너</td>\n",
       "      <td>서울특별시</td>\n",
       "      <td>종로구</td>\n",
       "      <td>내수동</td>\n",
       "      <td>110-15</td>\n",
       "      <td>2004.0</td>\n",
       "      <td>2020-01-09</td>\n",
       "      <td>194.43</td>\n",
       "      <td>4</td>\n",
       "      <td>130,000</td>\n",
       "    </tr>\n",
       "    <tr>\n",
       "      <th>4</th>\n",
       "      <td>11110</td>\n",
       "      <td>경희궁파크팰리스</td>\n",
       "      <td>서울특별시</td>\n",
       "      <td>종로구</td>\n",
       "      <td>내수동</td>\n",
       "      <td>95</td>\n",
       "      <td>2003.0</td>\n",
       "      <td>2020-01-20</td>\n",
       "      <td>148.09</td>\n",
       "      <td>8</td>\n",
       "      <td>149,000</td>\n",
       "    </tr>\n",
       "    <tr>\n",
       "      <th>...</th>\n",
       "      <td>...</td>\n",
       "      <td>...</td>\n",
       "      <td>...</td>\n",
       "      <td>...</td>\n",
       "      <td>...</td>\n",
       "      <td>...</td>\n",
       "      <td>...</td>\n",
       "      <td>...</td>\n",
       "      <td>...</td>\n",
       "      <td>...</td>\n",
       "      <td>...</td>\n",
       "    </tr>\n",
       "    <tr>\n",
       "      <th>139914</th>\n",
       "      <td>11740</td>\n",
       "      <td>중앙하이츠</td>\n",
       "      <td>서울특별시</td>\n",
       "      <td>강동구</td>\n",
       "      <td>암사동</td>\n",
       "      <td>493-14</td>\n",
       "      <td>1998.0</td>\n",
       "      <td>2022-12-03</td>\n",
       "      <td>59.52</td>\n",
       "      <td>8</td>\n",
       "      <td>53,000</td>\n",
       "    </tr>\n",
       "    <tr>\n",
       "      <th>139915</th>\n",
       "      <td>11740</td>\n",
       "      <td>롯데캐슬퍼스트</td>\n",
       "      <td>서울특별시</td>\n",
       "      <td>강동구</td>\n",
       "      <td>암사동</td>\n",
       "      <td>414-2</td>\n",
       "      <td>2008.0</td>\n",
       "      <td>2022-12-06</td>\n",
       "      <td>111.22</td>\n",
       "      <td>10</td>\n",
       "      <td>135,000</td>\n",
       "    </tr>\n",
       "    <tr>\n",
       "      <th>139916</th>\n",
       "      <td>11740</td>\n",
       "      <td>선사현대아파트</td>\n",
       "      <td>서울특별시</td>\n",
       "      <td>강동구</td>\n",
       "      <td>암사동</td>\n",
       "      <td>509</td>\n",
       "      <td>2000.0</td>\n",
       "      <td>2022-12-10</td>\n",
       "      <td>59.64</td>\n",
       "      <td>17</td>\n",
       "      <td>77,000</td>\n",
       "    </tr>\n",
       "    <tr>\n",
       "      <th>139917</th>\n",
       "      <td>11740</td>\n",
       "      <td>파크뷰진도맨션</td>\n",
       "      <td>서울특별시</td>\n",
       "      <td>강동구</td>\n",
       "      <td>성내동</td>\n",
       "      <td>452-2</td>\n",
       "      <td>1996.0</td>\n",
       "      <td>2022-12-06</td>\n",
       "      <td>208.92</td>\n",
       "      <td>18</td>\n",
       "      <td>145,500</td>\n",
       "    </tr>\n",
       "    <tr>\n",
       "      <th>139918</th>\n",
       "      <td>11740</td>\n",
       "      <td>강동리버스트4단지</td>\n",
       "      <td>서울특별시</td>\n",
       "      <td>강동구</td>\n",
       "      <td>강일동</td>\n",
       "      <td>114</td>\n",
       "      <td>2020.0</td>\n",
       "      <td>2022-12-29</td>\n",
       "      <td>59.99</td>\n",
       "      <td>7</td>\n",
       "      <td>55,000</td>\n",
       "    </tr>\n",
       "  </tbody>\n",
       "</table>\n",
       "<p>139919 rows × 11 columns</p>\n",
       "</div>"
      ],
      "text/plain": [
       "         지역코드             아파트    시도명  시군구  법정동      지번    건축년도         거래일   \n",
       "0       11110     신동아블루아광화문의꿈  서울특별시  종로구  필운동     254  2007.0  2020-01-03  \\\n",
       "1       11110  광화문스페이스본(106동)  서울특별시  종로구  사직동     9-1  2008.0  2020-01-02   \n",
       "2       11110           세종로대우  서울특별시  종로구  내수동     167  1994.0  2020-01-06   \n",
       "3       11110            킹스매너  서울특별시  종로구  내수동  110-15  2004.0  2020-01-09   \n",
       "4       11110        경희궁파크팰리스  서울특별시  종로구  내수동      95  2003.0  2020-01-20   \n",
       "...       ...             ...    ...  ...  ...     ...     ...         ...   \n",
       "139914  11740           중앙하이츠  서울특별시  강동구  암사동  493-14  1998.0  2022-12-03   \n",
       "139915  11740         롯데캐슬퍼스트  서울특별시  강동구  암사동   414-2  2008.0  2022-12-06   \n",
       "139916  11740         선사현대아파트  서울특별시  강동구  암사동     509  2000.0  2022-12-10   \n",
       "139917  11740         파크뷰진도맨션  서울특별시  강동구  성내동   452-2  1996.0  2022-12-06   \n",
       "139918  11740       강동리버스트4단지  서울특별시  강동구  강일동     114  2020.0  2022-12-29   \n",
       "\n",
       "          전용면적   층     거래금액  \n",
       "0       111.97   6  100,000  \n",
       "1       163.33   2  162,000  \n",
       "2       109.91  11   88,000  \n",
       "3       194.43   4  130,000  \n",
       "4       148.09   8  149,000  \n",
       "...        ...  ..      ...  \n",
       "139914   59.52   8   53,000  \n",
       "139915  111.22  10  135,000  \n",
       "139916   59.64  17   77,000  \n",
       "139917  208.92  18  145,500  \n",
       "139918   59.99   7   55,000  \n",
       "\n",
       "[139919 rows x 11 columns]"
      ]
     },
     "execution_count": 92,
     "metadata": {},
     "output_type": "execute_result"
    }
   ],
   "source": [
    "pd.read_csv(fileName, encoding = 'CP949')"
   ]
  },
  {
   "cell_type": "raw",
   "id": "9686f14b",
   "metadata": {},
   "source": [
    "pd.read_csv(fileName,\n",
    "            encoding = 'CP949'\n",
    "            sep = ',',\n",
    "            parse_dates = ['거래일'],\n",
    "            thousands = ',')"
   ]
  },
  {
   "cell_type": "code",
   "execution_count": 131,
   "id": "d37a1438",
   "metadata": {
    "scrolled": false
   },
   "outputs": [
    {
     "name": "stdout",
     "output_type": "stream",
     "text": [
      "CPU times: total: 281 ms\n",
      "Wall time: 283 ms\n"
     ]
    }
   ],
   "source": [
    "%time df2 = pd.read_csv(fileName, encoding = 'CP949', parse_dates = ['거래일'])"
   ]
  },
  {
   "cell_type": "code",
   "execution_count": 96,
   "id": "858277a1",
   "metadata": {},
   "outputs": [
    {
     "name": "stdout",
     "output_type": "stream",
     "text": [
      "<class 'pandas.core.frame.DataFrame'>\n",
      "RangeIndex: 139919 entries, 0 to 139918\n",
      "Data columns (total 11 columns):\n",
      " #   Column  Non-Null Count   Dtype         \n",
      "---  ------  --------------   -----         \n",
      " 0   지역코드    139919 non-null  int64         \n",
      " 1   아파트     139919 non-null  object        \n",
      " 2   시도명     139919 non-null  object        \n",
      " 3   시군구     139919 non-null  object        \n",
      " 4   법정동     139919 non-null  object        \n",
      " 5   지번      139879 non-null  object        \n",
      " 6   건축년도    139917 non-null  float64       \n",
      " 7   거래일     139919 non-null  datetime64[ns]\n",
      " 8   전용면적    139919 non-null  float64       \n",
      " 9   층       139919 non-null  int64         \n",
      " 10  거래금액    139919 non-null  object        \n",
      "dtypes: datetime64[ns](1), float64(2), int64(2), object(6)\n",
      "memory usage: 11.7+ MB\n"
     ]
    }
   ],
   "source": [
    "df2.info()"
   ]
  },
  {
   "cell_type": "code",
   "execution_count": 133,
   "id": "bc041bfd",
   "metadata": {
    "scrolled": true
   },
   "outputs": [
    {
     "name": "stdout",
     "output_type": "stream",
     "text": [
      "CPU times: total: 656 ms\n",
      "Wall time: 657 ms\n"
     ]
    }
   ],
   "source": [
    "%time df2.to_csv('test.csv', index = False)"
   ]
  },
  {
   "cell_type": "code",
   "execution_count": 98,
   "id": "d71223eb",
   "metadata": {
    "scrolled": false
   },
   "outputs": [
    {
     "name": "stdout",
     "output_type": "stream",
     "text": [
      "CPU times: total: 203 ms\n",
      "Wall time: 197 ms\n"
     ]
    },
    {
     "data": {
      "text/plain": [
       "['test.z']"
      ]
     },
     "execution_count": 98,
     "metadata": {},
     "output_type": "execute_result"
    }
   ],
   "source": [
    "%time joblib.dump(value = df2, filename = 'test.z')"
   ]
  },
  {
   "cell_type": "code",
   "execution_count": 99,
   "id": "f6bb5967",
   "metadata": {
    "scrolled": false
   },
   "outputs": [
    {
     "name": "stdout",
     "output_type": "stream",
     "text": [
      "CPU times: total: 93.8 ms\n",
      "Wall time: 95.7 ms\n"
     ]
    }
   ],
   "source": [
    "%time df3 = joblib.load(filename = 'test.z')"
   ]
  },
  {
   "cell_type": "code",
   "execution_count": 100,
   "id": "4db0e7dc",
   "metadata": {
    "scrolled": true
   },
   "outputs": [
    {
     "name": "stdout",
     "output_type": "stream",
     "text": [
      "<class 'pandas.core.frame.DataFrame'>\n",
      "RangeIndex: 139919 entries, 0 to 139918\n",
      "Data columns (total 11 columns):\n",
      " #   Column  Non-Null Count   Dtype         \n",
      "---  ------  --------------   -----         \n",
      " 0   지역코드    139919 non-null  int64         \n",
      " 1   아파트     139919 non-null  object        \n",
      " 2   시도명     139919 non-null  object        \n",
      " 3   시군구     139919 non-null  object        \n",
      " 4   법정동     139919 non-null  object        \n",
      " 5   지번      139879 non-null  object        \n",
      " 6   건축년도    139917 non-null  float64       \n",
      " 7   거래일     139919 non-null  datetime64[ns]\n",
      " 8   전용면적    139919 non-null  float64       \n",
      " 9   층       139919 non-null  int64         \n",
      " 10  거래금액    139919 non-null  object        \n",
      "dtypes: datetime64[ns](1), float64(2), int64(2), object(6)\n",
      "memory usage: 11.7+ MB\n"
     ]
    }
   ],
   "source": [
    "df3.info()"
   ]
  },
  {
   "cell_type": "code",
   "execution_count": 102,
   "id": "1620f94f",
   "metadata": {},
   "outputs": [],
   "source": [
    "df4 = pd.read_csv('test.csv')"
   ]
  },
  {
   "cell_type": "code",
   "execution_count": 103,
   "id": "00d1a542",
   "metadata": {
    "collapsed": true
   },
   "outputs": [
    {
     "name": "stdout",
     "output_type": "stream",
     "text": [
      "<class 'pandas.core.frame.DataFrame'>\n",
      "RangeIndex: 139919 entries, 0 to 139918\n",
      "Data columns (total 11 columns):\n",
      " #   Column  Non-Null Count   Dtype  \n",
      "---  ------  --------------   -----  \n",
      " 0   지역코드    139919 non-null  int64  \n",
      " 1   아파트     139919 non-null  object \n",
      " 2   시도명     139919 non-null  object \n",
      " 3   시군구     139919 non-null  object \n",
      " 4   법정동     139919 non-null  object \n",
      " 5   지번      139879 non-null  object \n",
      " 6   건축년도    139917 non-null  float64\n",
      " 7   거래일     139919 non-null  object \n",
      " 8   전용면적    139919 non-null  float64\n",
      " 9   층       139919 non-null  int64  \n",
      " 10  거래금액    139919 non-null  object \n",
      "dtypes: float64(2), int64(2), object(7)\n",
      "memory usage: 11.7+ MB\n"
     ]
    }
   ],
   "source": [
    "df4.info()"
   ]
  },
  {
   "cell_type": "code",
   "execution_count": 104,
   "id": "b3d3ac2f",
   "metadata": {
    "scrolled": true
   },
   "outputs": [
    {
     "data": {
      "text/plain": [
       "['testAll.z']"
      ]
     },
     "execution_count": 104,
     "metadata": {},
     "output_type": "execute_result"
    }
   ],
   "source": [
    "joblib.dump(value = [df1, df2, df3], filename = 'testAll.z')"
   ]
  },
  {
   "cell_type": "code",
   "execution_count": 105,
   "id": "4d77d9a9",
   "metadata": {
    "collapsed": true
   },
   "outputs": [
    {
     "data": {
      "text/plain": [
       "[         지역코드             아파트    시도명  시군구  법정동      지번    건축년도        거래일   \n",
       " 0       11110     신동아블루아광화문의꿈  서울특별시  종로구  필운동     254  2007.0 2020-01-03  \\\n",
       " 1       11110  광화문스페이스본(106동)  서울특별시  종로구  사직동     9-1  2008.0 2020-01-02   \n",
       " 2       11110           세종로대우  서울특별시  종로구  내수동     167  1994.0 2020-01-06   \n",
       " 3       11110            킹스매너  서울특별시  종로구  내수동  110-15  2004.0 2020-01-09   \n",
       " 4       11110        경희궁파크팰리스  서울특별시  종로구  내수동      95  2003.0 2020-01-20   \n",
       " ...       ...             ...    ...  ...  ...     ...     ...        ...   \n",
       " 139914  11740           중앙하이츠  서울특별시  강동구  암사동  493-14  1998.0 2022-12-03   \n",
       " 139915  11740         롯데캐슬퍼스트  서울특별시  강동구  암사동   414-2  2008.0 2022-12-06   \n",
       " 139916  11740         선사현대아파트  서울특별시  강동구  암사동     509  2000.0 2022-12-10   \n",
       " 139917  11740         파크뷰진도맨션  서울특별시  강동구  성내동   452-2  1996.0 2022-12-06   \n",
       " 139918  11740       강동리버스트4단지  서울특별시  강동구  강일동     114  2020.0 2022-12-29   \n",
       " \n",
       "           전용면적   층     거래금액  \n",
       " 0       111.97   6  100,000  \n",
       " 1       163.33   2  162,000  \n",
       " 2       109.91  11   88,000  \n",
       " 3       194.43   4  130,000  \n",
       " 4       148.09   8  149,000  \n",
       " ...        ...  ..      ...  \n",
       " 139914   59.52   8   53,000  \n",
       " 139915  111.22  10  135,000  \n",
       " 139916   59.64  17   77,000  \n",
       " 139917  208.92  18  145,500  \n",
       " 139918   59.99   7   55,000  \n",
       " \n",
       " [139919 rows x 11 columns],\n",
       "          지역코드             아파트    시도명  시군구  법정동      지번    건축년도        거래일   \n",
       " 0       11110     신동아블루아광화문의꿈  서울특별시  종로구  필운동     254  2007.0 2020-01-03  \\\n",
       " 1       11110  광화문스페이스본(106동)  서울특별시  종로구  사직동     9-1  2008.0 2020-01-02   \n",
       " 2       11110           세종로대우  서울특별시  종로구  내수동     167  1994.0 2020-01-06   \n",
       " 3       11110            킹스매너  서울특별시  종로구  내수동  110-15  2004.0 2020-01-09   \n",
       " 4       11110        경희궁파크팰리스  서울특별시  종로구  내수동      95  2003.0 2020-01-20   \n",
       " ...       ...             ...    ...  ...  ...     ...     ...        ...   \n",
       " 139914  11740           중앙하이츠  서울특별시  강동구  암사동  493-14  1998.0 2022-12-03   \n",
       " 139915  11740         롯데캐슬퍼스트  서울특별시  강동구  암사동   414-2  2008.0 2022-12-06   \n",
       " 139916  11740         선사현대아파트  서울특별시  강동구  암사동     509  2000.0 2022-12-10   \n",
       " 139917  11740         파크뷰진도맨션  서울특별시  강동구  성내동   452-2  1996.0 2022-12-06   \n",
       " 139918  11740       강동리버스트4단지  서울특별시  강동구  강일동     114  2020.0 2022-12-29   \n",
       " \n",
       "           전용면적   층     거래금액  \n",
       " 0       111.97   6  100,000  \n",
       " 1       163.33   2  162,000  \n",
       " 2       109.91  11   88,000  \n",
       " 3       194.43   4  130,000  \n",
       " 4       148.09   8  149,000  \n",
       " ...        ...  ..      ...  \n",
       " 139914   59.52   8   53,000  \n",
       " 139915  111.22  10  135,000  \n",
       " 139916   59.64  17   77,000  \n",
       " 139917  208.92  18  145,500  \n",
       " 139918   59.99   7   55,000  \n",
       " \n",
       " [139919 rows x 11 columns],\n",
       "          지역코드             아파트    시도명  시군구  법정동      지번    건축년도        거래일   \n",
       " 0       11110     신동아블루아광화문의꿈  서울특별시  종로구  필운동     254  2007.0 2020-01-03  \\\n",
       " 1       11110  광화문스페이스본(106동)  서울특별시  종로구  사직동     9-1  2008.0 2020-01-02   \n",
       " 2       11110           세종로대우  서울특별시  종로구  내수동     167  1994.0 2020-01-06   \n",
       " 3       11110            킹스매너  서울특별시  종로구  내수동  110-15  2004.0 2020-01-09   \n",
       " 4       11110        경희궁파크팰리스  서울특별시  종로구  내수동      95  2003.0 2020-01-20   \n",
       " ...       ...             ...    ...  ...  ...     ...     ...        ...   \n",
       " 139914  11740           중앙하이츠  서울특별시  강동구  암사동  493-14  1998.0 2022-12-03   \n",
       " 139915  11740         롯데캐슬퍼스트  서울특별시  강동구  암사동   414-2  2008.0 2022-12-06   \n",
       " 139916  11740         선사현대아파트  서울특별시  강동구  암사동     509  2000.0 2022-12-10   \n",
       " 139917  11740         파크뷰진도맨션  서울특별시  강동구  성내동   452-2  1996.0 2022-12-06   \n",
       " 139918  11740       강동리버스트4단지  서울특별시  강동구  강일동     114  2020.0 2022-12-29   \n",
       " \n",
       "           전용면적   층     거래금액  \n",
       " 0       111.97   6  100,000  \n",
       " 1       163.33   2  162,000  \n",
       " 2       109.91  11   88,000  \n",
       " 3       194.43   4  130,000  \n",
       " 4       148.09   8  149,000  \n",
       " ...        ...  ..      ...  \n",
       " 139914   59.52   8   53,000  \n",
       " 139915  111.22  10  135,000  \n",
       " 139916   59.64  17   77,000  \n",
       " 139917  208.92  18  145,500  \n",
       " 139918   59.99   7   55,000  \n",
       " \n",
       " [139919 rows x 11 columns]]"
      ]
     },
     "execution_count": 105,
     "metadata": {},
     "output_type": "execute_result"
    }
   ],
   "source": [
    "joblib.load(filename = 'testAll.z')"
   ]
  },
  {
   "cell_type": "code",
   "execution_count": 106,
   "id": "fe725bb7",
   "metadata": {},
   "outputs": [],
   "source": [
    "df11, df21, df31 = joblib.load(filename = 'testAll.z')"
   ]
  },
  {
   "cell_type": "code",
   "execution_count": 107,
   "id": "a51ec62f",
   "metadata": {},
   "outputs": [
    {
     "data": {
      "text/plain": [
       "['APT_Detail_Seoul_2022.csv',\n",
       " 'APT_Detail_Seoul_2022.xlsx',\n",
       " 'APT_Merged.csv',\n",
       " 'APT_Merged.xlsx',\n",
       " 'APT_Price_Seoul_2020_2022.csv',\n",
       " 'APT_Price_Seoul_2020_2022.xlsx',\n",
       " 'NA_Sample.xlsx',\n",
       " 'test.csv',\n",
       " 'test.xlsx',\n",
       " 'test.z',\n",
       " 'testAll.z']"
      ]
     },
     "execution_count": 107,
     "metadata": {},
     "output_type": "execute_result"
    }
   ],
   "source": [
    "os.listdir()"
   ]
  },
  {
   "cell_type": "code",
   "execution_count": 108,
   "id": "6fc2f542",
   "metadata": {},
   "outputs": [
    {
     "data": {
      "text/plain": [
       "['test.csv', 'test.xlsx', 'test.z', 'testAll.z']"
      ]
     },
     "execution_count": 108,
     "metadata": {},
     "output_type": "execute_result"
    }
   ],
   "source": [
    "files = [file for file in os.listdir() if 'test' in file]\n",
    "files"
   ]
  },
  {
   "cell_type": "code",
   "execution_count": 109,
   "id": "2157565f",
   "metadata": {},
   "outputs": [],
   "source": [
    "for file in files:\n",
    "    os.remove(path = file)"
   ]
  },
  {
   "cell_type": "code",
   "execution_count": 110,
   "id": "04d0cca9",
   "metadata": {},
   "outputs": [
    {
     "data": {
      "text/plain": [
       "['APT_Detail_Seoul_2022.csv',\n",
       " 'APT_Detail_Seoul_2022.xlsx',\n",
       " 'APT_Merged.csv',\n",
       " 'APT_Merged.xlsx',\n",
       " 'APT_Price_Seoul_2020_2022.csv',\n",
       " 'APT_Price_Seoul_2020_2022.xlsx',\n",
       " 'NA_Sample.xlsx']"
      ]
     },
     "execution_count": 110,
     "metadata": {},
     "output_type": "execute_result"
    }
   ],
   "source": [
    "os.listdir()"
   ]
  },
  {
   "cell_type": "code",
   "execution_count": null,
   "id": "6a24606b",
   "metadata": {},
   "outputs": [],
   "source": []
  }
 ],
 "metadata": {
  "kernelspec": {
   "display_name": "Python 3 (ipykernel)",
   "language": "python",
   "name": "python3"
  },
  "language_info": {
   "codemirror_mode": {
    "name": "ipython",
    "version": 3
   },
   "file_extension": ".py",
   "mimetype": "text/x-python",
   "name": "python",
   "nbconvert_exporter": "python",
   "pygments_lexer": "ipython3",
   "version": "3.11.3"
  }
 },
 "nbformat": 4,
 "nbformat_minor": 5
}
